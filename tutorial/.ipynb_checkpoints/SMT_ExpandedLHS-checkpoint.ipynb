{
 "cells": [
  {
   "cell_type": "markdown",
   "metadata": {},
   "source": [
    "# Augmented LHS Documentation for the Toolbox SMT\n",
    "\n",
    "<div class=\"jumbotron text-left\"><b>\n",
    "The French Aerospace Lab ONERA <br/>\n",
    "Information Processing and Systems Department (DTIS) <br/>\n",
    "Multidisciplinary Methods, Integrated Concepts (M2CI) Research Unit <br/>\n",
    "</div>\n",
    "\n",
    "Rubén CONDE ARENZANA ONERA/DTIS/M2CI\n",
    "**Latest update:** July 2021"
   ]
  },
  {
   "cell_type": "markdown",
   "metadata": {},
   "source": [
    "In this notebook, we present some examples in order to use the augmented LHS functionality within the Toolbox SMT"
   ]
  },
  {
   "cell_type": "markdown",
   "metadata": {},
   "source": [
    "<p class=\"alert alert-success\" style=\"padding:1em\">\n",
    "To use SMT models, please follow this link: https://github.com/SMTorg/SMT/blob/master/README.md. The documentation is available here: http://smt.readthedocs.io/en/latest/\n",
    "</p>\n",
    "\n",
    "\n",
    "**Reference paper:** https://www.semanticscholar.org/paper/Adaptive-Response-Surface-Method-Using-Inherited-Wang/cb3505730d406b2baae25b34fa3fa74058461592"
   ]
  },
  {
   "cell_type": "markdown",
   "metadata": {},
   "source": [
    "Cite us:\n",
    "\n",
    "M.-A. Bouhlel, J. T. Hwang, N. Bartoli, R. Lafage, J. Morlier, J .R.R.A Martins (2019), A Python surrogate modeling framework with derivatives, Advances in Engineering Software, 102662\n"
   ]
  },
  {
   "cell_type": "raw",
   "metadata": {},
   "source": [
    "@article{SMT2019,\n",
    "  title={A Python surrogate modeling framework with derivatives},\n",
    "  author={Mohamed Amine Bouhlel and John T. Hwang and Nathalie Bartoli and R{\\'e}mi Lafage and Joseph Morlier and Joaquim R. R. A. Martins},\n",
    "  journal={Advances in Engineering Software},\n",
    "  pages={102662},\n",
    "  year={2019},\n",
    "  publisher={Elsevier}\n",
    "}"
   ]
  },
  {
   "cell_type": "markdown",
   "metadata": {},
   "source": [
    "## Problem Statement "
   ]
  },
  {
   "cell_type": "markdown",
   "metadata": {},
   "source": [
    "The generation of optimized design of experiments (DoE) is an essential tool when dealing with the analysis and simulation processes that are computationally expensive. In this regard, Latin Hypercube Samplings (LHS) appears to be a sampling method that can cope with many input variables ensuring that each of them has all portions of its range represented. Additionally, this method is computionally cheap to generate. \n",
    "\n",
    "In this document, an expanded LHS is presented. To understand this functionality, we can start with a 2D LHS that counts on 10 points. For some purposes, for instance adaptive design or nested designs, it is necessary to add new points to the DoE but keeping the ensemble LHS. For the moment, we can just add a multiple of the initial number of points to ensure an LHS (in this example case we can add 10,20,30... points).\n"
   ]
  },
  {
   "cell_type": "markdown",
   "metadata": {},
   "source": [
    "## Initial LHS Sampling"
   ]
  },
  {
   "cell_type": "markdown",
   "metadata": {},
   "source": [
    "Firstly, we create a LHS sampling in 4D that will be the initial LHS to be augmented"
   ]
  },
  {
   "cell_type": "code",
   "execution_count": 4,
   "metadata": {
    "scrolled": true
   },
   "outputs": [
    {
     "data": {
      "text/plain": [
       "<matplotlib.legend.Legend at 0x18c183aee20>"
      ]
     },
     "execution_count": 4,
     "metadata": {},
     "output_type": "execute_result"
    },
    {
     "data": {
      "image/png": "[encoded data removed]",
      "text/plain": [
       "<Figure size 432x288 with 1 Axes>"
      ]
     },
     "metadata": {
      "needs_background": "light"
     },
     "output_type": "display_data"
    }
   ],
   "source": [
    "import numpy as np\n",
    "import matplotlib.pyplot as plt\n",
    "from smt.sampling_methods import LHS\n",
    "import matplotlib.patches as patches\n",
    "\n",
    "xlimits = np.array([[0.0, 4.0], [0.0, 3.0], [0.0, 3.0], [1.0, 5.0]])\n",
    "sampling = LHS(xlimits=xlimits, criterion='ese', random_state=1)\n",
    "\n",
    "num = 10\n",
    "x = sampling(num)\n",
    "\n",
    "\n",
    "### For visualization only\n",
    "\n",
    "intervals = []  \n",
    "subspace_bool = []\n",
    "for i in range(len(xlimits)):  \n",
    "    intervals.append(np.linspace(xlimits[i][0],xlimits[i][1],num+1))\n",
    "    subspace_bool.append([[intervals[i][j]<x[kk][i]<intervals[i][j+1] \n",
    "    for kk in range(len(x))] for j in range(len(intervals[i])-1)])\n",
    "    \n",
    "PLOT1 = 0 #First dimension to be depicted\n",
    "PLOT2 = 1 #Second dimension to be depicted\n",
    "\n",
    "fig, ax = plt.subplots(1)\n",
    "ax.plot(x[:, PLOT1], x[:, PLOT2], \".\")\n",
    "for i in range(len(intervals[0])):\n",
    "    ax.plot([intervals[PLOT1][i], intervals[PLOT1][i]], [intervals[PLOT2][0],intervals[PLOT2][-1]], linewidth=0.5,color='k')\n",
    "    ax.plot([intervals[PLOT1][0], intervals[PLOT1][-1]], [intervals[PLOT2][i],intervals[PLOT2][i]], linewidth=0.5,color='k')\n",
    "ax.set_xlabel(\"Dimension \" + str(PLOT1+1))\n",
    "ax.set_ylabel(\"Dimension \" + str(PLOT2+1))\n",
    "ax.legend(['Initial LHS'],bbox_to_anchor = (1.05, 0.6))"
   ]
  },
  {
   "cell_type": "markdown",
   "metadata": {},
   "source": [
    "## Augmented Sampling - Basic Methodology"
   ]
  },
  {
   "cell_type": "markdown",
   "metadata": {},
   "source": [
    "Then, we expand our LHS sampling (10 points) by adding another 10 points"
   ]
  },
  {
   "cell_type": "code",
   "execution_count": 5,
   "metadata": {},
   "outputs": [
    {
     "data": {
      "image/png": "[encoded data removed]",
      "text/plain": [
       "<Figure size 432x288 with 1 Axes>"
      ]
     },
     "metadata": {
      "needs_background": "light"
     },
     "output_type": "display_data"
    }
   ],
   "source": [
    "new = num #Points to be added\n",
    "\n",
    "new_num = new+num\n",
    "x_new = sampling.expand_lhs(x,  new, method='basic')\n",
    "\n",
    "\n",
    "### For visualization only\n",
    "intervals = []  \n",
    "subspace_bool = []\n",
    "for i in range(len(xlimits)):  \n",
    "    intervals.append(np.linspace(xlimits[i][0],xlimits[i][1],new_num+1))\n",
    "    subspace_bool.append([[intervals[i][j]<x[kk][i]<intervals[i][j+1] \n",
    "    for kk in range(len(x))] for j in range(len(intervals[i])-1)])\n",
    "    \n",
    "    \n",
    "fig, ax = plt.subplots(1)\n",
    "ax.plot(x[:, PLOT1], x[:, PLOT2], \".\")\n",
    "ax.plot(x_new[len(x):, PLOT1], x_new[len(x):, PLOT2], \".\")\n",
    "for i in range(len(intervals[0])):\n",
    "    ax.plot([intervals[PLOT1][i], intervals[PLOT1][i]], [intervals[PLOT2][0],intervals[PLOT2][-1]], linewidth=0.5,color='k')\n",
    "    ax.plot([intervals[PLOT1][0], intervals[PLOT1][-1]], [intervals[PLOT2][i],intervals[PLOT2][i]], linewidth=0.5,color='k')\n",
    "ax.set_xlabel(\"Dimension \" + str(PLOT1+1))\n",
    "ax.set_ylabel(\"Dimension \" + str(PLOT2+1))\n",
    "\n",
    "i=PLOT1\n",
    "for j in range(len(subspace_bool[i])):\n",
    "    if True in subspace_bool[i][j]:\n",
    "        ax.add_patch(patches.Rectangle((intervals[PLOT1][j], intervals[PLOT2][0]), \n",
    "        (intervals[PLOT1][1]-intervals[PLOT1][0]), (intervals[PLOT2][-1]-intervals[PLOT2][0]),facecolor='lightblue'))\n",
    "\n",
    "i=PLOT2\n",
    "for j in range(len(subspace_bool[i])):\n",
    "    if True in subspace_bool[i][j]:\n",
    "        ax.add_patch(patches.Rectangle((intervals[PLOT1][0], intervals[PLOT2][j]), \n",
    "        (intervals[PLOT1][-1]-intervals[PLOT1][0]), (intervals[PLOT2][1]-intervals[PLOT2][0]),facecolor='lightblue'))\n",
    "        \n",
    "ax.legend(['Initial LHS','Augmented LHS'],bbox_to_anchor = (1.05, 0.6))\n",
    "plt.show() "
   ]
  },
  {
   "cell_type": "markdown",
   "metadata": {},
   "source": [
    "## Augmented Sampling - Optimization ESE"
   ]
  },
  {
   "cell_type": "markdown",
   "metadata": {},
   "source": [
    "Then, we expand our LHS sampling (10 points) by adding another 10 points. In this case, we try to optimize the augmented LHS using the Enhanced Stochastic Evolutionary algorithm (ESE)."
   ]
  },
  {
   "cell_type": "code",
   "execution_count": 6,
   "metadata": {},
   "outputs": [
    {
     "data": {
      "image/png": "[encoded data removed]",
      "text/plain": [
       "<Figure size 432x288 with 1 Axes>"
      ]
     },
     "metadata": {
      "needs_background": "light"
     },
     "output_type": "display_data"
    }
   ],
   "source": [
    "new = num #Points to be added\n",
    "\n",
    "new_num = new+num\n",
    "x_new = sampling.expand_lhs(x,  new, method='ese')\n",
    "\n",
    "\n",
    "### For visualization only\n",
    "intervals = []  \n",
    "subspace_bool = []\n",
    "for i in range(len(xlimits)):  \n",
    "    intervals.append(np.linspace(xlimits[i][0],xlimits[i][1],new_num+1))\n",
    "    subspace_bool.append([[intervals[i][j]<x[kk][i]<intervals[i][j+1] \n",
    "    for kk in range(len(x))] for j in range(len(intervals[i])-1)])\n",
    "    \n",
    "    \n",
    "fig, ax = plt.subplots(1)\n",
    "ax.plot(x[:, PLOT1], x[:, PLOT2], \".\")\n",
    "ax.plot(x_new[len(x):, PLOT1], x_new[len(x):, PLOT2], \".\")\n",
    "for i in range(len(intervals[0])):\n",
    "    ax.plot([intervals[PLOT1][i], intervals[PLOT1][i]], [intervals[PLOT2][0],intervals[PLOT2][-1]], linewidth=0.5,color='k')\n",
    "    ax.plot([intervals[PLOT1][0], intervals[PLOT1][-1]], [intervals[PLOT2][i],intervals[PLOT2][i]], linewidth=0.5,color='k')\n",
    "ax.set_xlabel(\"Dimension \" + str(PLOT1+1))\n",
    "ax.set_ylabel(\"Dimension \" + str(PLOT2+1))\n",
    "\n",
    "i=PLOT1\n",
    "for j in range(len(subspace_bool[i])):\n",
    "    if True in subspace_bool[i][j]:\n",
    "        ax.add_patch(patches.Rectangle((intervals[PLOT1][j], intervals[PLOT2][0]), \n",
    "        (intervals[PLOT1][1]-intervals[PLOT1][0]), (intervals[PLOT2][-1]-intervals[PLOT2][0]),facecolor='lightblue'))\n",
    "\n",
    "i=PLOT2\n",
    "for j in range(len(subspace_bool[i])):\n",
    "    if True in subspace_bool[i][j]:\n",
    "        ax.add_patch(patches.Rectangle((intervals[PLOT1][0], intervals[PLOT2][j]), \n",
    "        (intervals[PLOT1][-1]-intervals[PLOT1][0]), (intervals[PLOT2][1]-intervals[PLOT2][0]),facecolor='lightblue'))\n",
    "       \n",
    "ax.legend(['Initial LHS','Augmented LHS'],bbox_to_anchor = (1.05, 0.6))\n",
    "plt.show() "
   ]
  }
 ],
 "metadata": {
  "kernelspec": {
   "display_name": "Python 3",
   "language": "python",
   "name": "python3"
  },
  "language_info": {
   "codemirror_mode": {
    "name": "ipython",
    "version": 3
   },
   "file_extension": ".py",
   "mimetype": "text/x-python",
   "name": "python",
   "nbconvert_exporter": "python",
   "pygments_lexer": "ipython3",
   "version": "3.8.5"
  }
 },
 "nbformat": 4,
 "nbformat_minor": 4
}
