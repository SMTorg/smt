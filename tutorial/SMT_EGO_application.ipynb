{
 "cells": [
  {
   "cell_type": "markdown",
   "metadata": {},
   "source": [
    "<div class=\"jumbotron text-left\"><b>\n",
    "    \n",
    "This tutorial describes how to use the SMT toolbox to do some Bayesian Optimization (EGO method) to solve unconstrained optimization problem\n",
    "<div>\n",
    "    \n",
    "Rémy Priem and Nathalie BARTOLI ONERA/DTIS/M2CI - April 2020"
   ]
  },
  {
   "cell_type": "markdown",
   "metadata": {},
   "source": [
    "<p class=\"alert alert-success\" style=\"padding:1em\">\n",
    "To use SMT models, please follow this link : https://github.com/SMTorg/SMT/blob/master/README.md. The documentation is available here: http://smt.readthedocs.io/en/latest/\n",
    "</p>\n",
    "\n",
    "The reference paper is available \n",
    "here https://www.sciencedirect.com/science/article/pii/S0965997818309360?via%3Dihub \n",
    "\n",
    "or as a preprint: http://mdolab.engin.umich.edu/content/python-surrogate-modeling-framework-derivatives"
   ]
  },
  {
   "cell_type": "markdown",
   "metadata": {},
   "source": [
    "<div class=\"alert alert-info fade in\" id=\"d110\">\n",
    "<p>In this notebook, two examples are presented to illustrate Bayesian Optimization</p>\n",
    "<ol> - a 1D-example (xsinx function) where the algorithm is explicitely given and the use of different criteria is presented </ol>\n",
    "<ol> - a 2D-exemple (Rosenbrock function) where the EGO algorithm from SMT is used  </ol>    \n",
    "</div>"
   ]
  },
  {
   "cell_type": "markdown",
   "metadata": {},
   "source": [
    "# Bayesian Optimization "
   ]
  },
  {
   "cell_type": "code",
   "execution_count": null,
   "metadata": {},
   "outputs": [],
   "source": [
    "\n",
    "import numpy as np \n",
    "%matplotlib notebook\n",
    "import matplotlib.pyplot as plt\n",
    "\n",
    "plt.ion()\n",
    "\n",
    "def fun(point):\n",
    "    return np.atleast_2d((point-3.5)*np.sin((point-3.5)/(np.pi)))\n",
    "\n",
    "X_plot = np.atleast_2d(np.linspace(0, 25, 10000)).T\n",
    "Y_plot = fun(X_plot)\n",
    "\n",
    "\n",
    "lines = []\n",
    "fig = plt.figure(figsize=[5,5])\n",
    "ax = fig.add_subplot(111)\n",
    "true_fun, = ax.plot(X_plot,Y_plot)\n",
    "lines.append(true_fun)\n",
    "ax.set_title('$x \\sin{x}$ function')\n",
    "ax.set_xlabel('x')\n",
    "ax.set_ylabel('y')\n",
    "plt.show()\n",
    "\n",
    "#dimension of the problem \n",
    "ndim = 1 "
   ]
  },
  {
   "cell_type": "markdown",
   "metadata": {},
   "source": [
    "Here, the training data are the points xdata=[0,7,25]. \n"
   ]
  },
  {
   "cell_type": "code",
   "execution_count": null,
   "metadata": {},
   "outputs": [],
   "source": [
    "x_data = np.atleast_2d([0,7,25]).T\n",
    "y_data = fun(x_data)"
   ]
  },
  {
   "cell_type": "markdown",
   "metadata": {},
   "source": [
    "Build the GP model with a square exponential kernel with SMT toolbox knowing $(x_{data}, y_{data})$."
   ]
  },
  {
   "cell_type": "code",
   "execution_count": null,
   "metadata": {
    "scrolled": true
   },
   "outputs": [],
   "source": [
    "from smt.surrogate_models import KPLS, KRG, KPLSK\n",
    "\n",
    "########### The Kriging model\n",
    "\n",
    "# The variable 'theta0' is a list of length ndim.\n",
    "t = KRG(theta0=[1e-2]*ndim,print_prediction = False, corr='squar_exp')\n",
    "\n",
    "#Training\n",
    "t.set_training_values(x_data,y_data)\n",
    "t.train()\n",
    "\n",
    "\n",
    "\n",
    "# Prediction of the  points for the plot\n",
    "Y_GP_plot = t.predict_values(X_plot)\n",
    "Y_GP_plot_var = t.predict_variances(X_plot)\n",
    "fig = plt.figure(figsize=[5,5])\n",
    "ax = fig.add_subplot(111)\n",
    "true_fun, = ax.plot(X_plot,Y_plot)\n",
    "data, = ax.plot(x_data,y_data,linestyle='',marker='o')\n",
    "gp, = ax.plot(X_plot,Y_GP_plot,linestyle='--',color='g')\n",
    "sig_plus = Y_GP_plot+3*np.sqrt(Y_GP_plot_var)\n",
    "sig_moins = Y_GP_plot-3*np.sqrt(Y_GP_plot_var)\n",
    "un_gp = ax.fill_between(X_plot.T[0],sig_plus.T[0],sig_moins.T[0],alpha=0.3,color='g')\n",
    "lines = [true_fun,data,gp,un_gp]\n",
    "ax.set_title('$x \\sin{x}$ function')\n",
    "ax.set_xlabel('x')\n",
    "ax.set_ylabel('y')\n",
    "ax.legend(lines,['True function','Data','GPR prediction','99 % confidence'])\n",
    "plt.show()"
   ]
  },
  {
   "cell_type": "markdown",
   "metadata": {},
   "source": [
    "\n",
    "Bayesian optimization is defined by Jonas Mockus in (Mockus, 1975) as an optimization technique based upon the minimization of the expected deviation from the extremum of the studied function. \n",
    "\n",
    "The objective function is treated as a black-box function. A Bayesian strategy sees the objective as a random function and places a prior over it. The prior captures our beliefs about the behavior of the function. After gathering the function evaluations, which are treated as data, the prior is updated to form the posterior distribution over the objective function. The posterior distribution, in turn, is used to construct an acquisition function (often also referred to as infill sampling criterion) that determines what the next query point should be.\n",
    "\n",
    "One of the earliest bodies of work on Bayesian optimisation that we are aware of is (Kushner, 1962 ; Kushner, 1964). Kushner used Wiener processes for one-dimensional problems. Kushner’s decision model was based on maximizing the probability of improvement, and included a parameter that controlled the trade-off between ‘more global’ and ‘more local’ optimization, in the same spirit as the Exploration/Exploitation trade-off.\n",
    "\n",
    "Meanwhile, in the former Soviet Union, Mockus and colleagues developed a multidimensional Bayesian optimization method using linear combinations of Wiener fields, some of which was published in English in (Mockus, 1975). This paper also describes an acquisition function that is based on myopic expected improvement of the posterior, which has been widely adopted in Bayesian optimization as the Expected Improvement function.\n",
    "\n",
    "In 1998, Jones used Gaussian processes together with the expected improvement function to successfully perform derivative-free optimization and experimental design through an algorithm called  Efficient  Global  Optimization, or EGO (Jones, 1998).\n",
    "\n",
    "## Efficient Global Optimization\n",
    "\n",
    "In what follows, we describe the Efficient Global Optimization (EGO) algorithm, as published in (Jones, 1998).\n",
    "\n",
    "Let $F$ be an expensive black-box function to be minimized. We sample $F$ at the different locations  $X = \\{x_1, x_2,\\ldots,x_n\\}$ yielding the responses $Y = \\{y_1, y_2,\\ldots,y_n\\}$. We build a Kriging model (also called Gaussian process) with a mean function $\\mu$ and a variance function $\\sigma^{2}$.\n",
    "\n",
    "The next step is to compute the criterion EI. To do this, let us denote:\n",
    "$$f_{min} = \\min \\{y_1, y_2,\\ldots,y_n\\}.$$\n",
    "The Expected Improvement funtion (EI) can be expressed:\n",
    "$$E[I(x)] = E[\\max(f_{min}-Y, 0)],$$\n",
    "where $Y$ is the random variable following the distribution $\\mathcal{N}(\\mu(x), \\sigma^{2}(x))$.\n",
    "By expressing the right-hand side of EI expression as an integral, and applying some tedious integration by parts, one can express the expected improvement in closed form: \n",
    "$$\n",
    "E[I(x)] = (f_{min} - \\mu(x))\\Phi\\left(\\frac{f_{min} - \\mu(x)}{\\sigma(x)}\\right) + \\sigma(x) \\phi\\left(\\frac{f_{min} - \\mu(x)}{\\sigma(x)}\\right)\n",
    "$$\n",
    "where $\\Phi(\\cdot)$ and $\\phi(\\cdot)$ are respectively the cumulative and probability density functions of $\\mathcal{N}(0,1)$.\n",
    "\n",
    "Next, we determine our next sampling point as :\n",
    "\\begin{align}\n",
    "x_{n+1} = \\arg \\max_{x} \\left(E[I(x)]\\right)\n",
    "\\end{align}\n",
    "\n",
    "We then test the response $y_{n+1}$ of our black-box function $F$ at $x_{n+1}$, rebuild the model taking into account the new information gained, and research the point of maximum expected improvement again.\n",
    "\n",
    "We summarize here the EGO algorithm:\n",
    "\n",
    "EGO(F, $n_{iter}$) \\# Find the best minimum of $\\operatorname{F}$ in $n_{iter}$ iterations  \n",
    "For ($i=0:n_{iter}$)  \n",
    "\n",
    "* $mod = {model}(X, Y)$  \\# surrogate model based on sample vectors $X$ and $Y$  \n",
    "* $f_{min} = \\min Y$  \n",
    "* $x_{i+1} = \\arg \\max {EI}(mod, f_{min})$ \\# choose $x$ that maximizes EI  \n",
    "* $y_{i+1} = {F}(x_{i+1})$ \\# Probe the function at most promising point $x_{i+1}$  \n",
    "* $X = [X,x_{i+1}]$  \n",
    "* $Y = [Y,y_{i+1}]$   \n",
    "* $i = i+1$  \n",
    "\n",
    "$f_{min} = \\min Y$  \n",
    "Return : $f_{min}$ \\# This is the best known solution after $n_{iter}$ iterations"
   ]
  },
  {
   "cell_type": "markdown",
   "metadata": {},
   "source": [
    "Now we want to optimize this function by using Bayesian Optimization and comparing\n",
    "- Surrogate Based optimization (SBO)\n",
    "- Expected Improvement criterion (EI)\n"
   ]
  },
  {
   "cell_type": "markdown",
   "metadata": {},
   "source": [
    "In a first step we compute the EI criterion"
   ]
  },
  {
   "cell_type": "code",
   "execution_count": null,
   "metadata": {
    "scrolled": true
   },
   "outputs": [],
   "source": [
    "from scipy.stats import norm\n",
    "from scipy.optimize import minimize\n",
    "\n",
    "def EI(GP,points,f_min):\n",
    "    pred = GP.predict_values(points)\n",
    "    var = GP.predict_variances(points)\n",
    "    args0 = (f_min - pred)/np.sqrt(var)\n",
    "    args1 = (f_min - pred)*norm.cdf(args0)\n",
    "    args2 = np.sqrt(var)*norm.pdf(args0)\n",
    "\n",
    "    if var.size == 1 and var == 0.0:  # can be use only if one point is computed\n",
    "        return 0.0\n",
    "   \n",
    "    \n",
    "    ei = args1 + args2\n",
    "    return ei\n",
    "\n",
    "\n",
    "\n",
    "Y_GP_plot = t.predict_values(X_plot)\n",
    "Y_GP_plot_var  =  t.predict_variances(X_plot)\n",
    "Y_EI_plot = EI(t,X_plot,np.min(y_data))\n",
    "\n",
    "fig = plt.figure(figsize=[10,10])\n",
    "ax = fig.add_subplot(111)\n",
    "true_fun, = ax.plot(X_plot,Y_plot)\n",
    "data, = ax.plot(x_data,y_data,linestyle='',marker='o')\n",
    "gp, = ax.plot(X_plot,Y_GP_plot,linestyle='--',color='g')\n",
    "sig_plus = Y_GP_plot+3*np.sqrt(Y_GP_plot_var)\n",
    "sig_moins = Y_GP_plot-3*np.sqrt(Y_GP_plot_var)\n",
    "un_gp = ax.fill_between(X_plot.T[0],sig_plus.T[0],sig_moins.T[0],alpha=0.3,color='g')\n",
    "ax1 = ax.twinx()\n",
    "ei, = ax1.plot(X_plot,Y_EI_plot,color='red')\n",
    "lines = [true_fun,data,gp,un_gp,ei]\n",
    "ax.set_title('$x \\sin{x}$ function')\n",
    "ax.set_xlabel('x')\n",
    "ax.set_ylabel('y')\n",
    "ax1.set_ylabel('ei')\n",
    "fig.legend(lines,['True function','Data','GPR prediction','99 % confidence','Expected Improvement'],loc=[0.13,0.64])\n",
    "plt.show()\n",
    "\n",
    "\n"
   ]
  },
  {
   "cell_type": "markdown",
   "metadata": {},
   "source": [
    "Now we compute the EGO method and compare it to other infill criteria \n",
    "- SBO (surrogate based optimization): directly using the prediction of the surrogate model ($\\mu$)\n",
    "- LCB (Lower Confidence bound): using the confidence interval : $\\mu -3 \\times \\sigma$\n",
    "- EI for expected Improvement (EGO)"
   ]
  },
  {
   "cell_type": "code",
   "execution_count": null,
   "metadata": {},
   "outputs": [],
   "source": [
    "#surrogate Based optimization: min the Surrogate model by using the mean mu\n",
    "def SBO(GP,point):\n",
    "    res = GP.predict_values(point)\n",
    "    return res\n",
    "\n",
    "#lower confidence bound optimization: minimize by using mu - 3*sigma\n",
    "def LCB(GP,point):\n",
    "    pred = GP.predict_values(point)\n",
    "    var = GP.predict_variances(point)\n",
    "    res = pred-3.*np.sqrt(var)\n",
    "    return res\n"
   ]
  },
  {
   "cell_type": "code",
   "execution_count": null,
   "metadata": {},
   "outputs": [],
   "source": [
    "IC = 'EI'"
   ]
  },
  {
   "cell_type": "code",
   "execution_count": null,
   "metadata": {},
   "outputs": [],
   "source": [
    "import matplotlib.image as mpimg\n",
    "import matplotlib.animation as animation\n",
    "from IPython.display import HTML\n",
    "\n",
    "\n",
    "plt.ioff()\n",
    "\n",
    "x_data = np.atleast_2d([0,7,25]).T\n",
    "y_data = fun(x_data)\n",
    "\n",
    "n_iter = 15\n",
    "\n",
    "gpr = KRG(theta0=[1e-2]*ndim,print_global = False)\n",
    "\n",
    "\n",
    "for k in range(n_iter):\n",
    "    x_start = np.atleast_2d(np.random.rand(20)*25).T\n",
    "    f_min_k = np.min(y_data)\n",
    "    gpr.set_training_values(x_data,y_data)\n",
    "    gpr.train()\n",
    "    if IC == 'EI':\n",
    "        obj_k = lambda x: -EI(gpr,np.atleast_2d(x),f_min_k)[:,0]\n",
    "    elif IC =='SBO':\n",
    "        obj_k = lambda x: SBO(gpr,np.atleast_2d(x))\n",
    "    elif IC == 'LCB':\n",
    "        obj_k = lambda x: LCB(gpr,np.atleast_2d(x))\n",
    "    \n",
    "    opt_all = np.array([minimize(lambda x: float(obj_k(x)), x_st, method='SLSQP', bounds=[(0,25)]) for x_st in x_start])\n",
    "    opt_success = opt_all[[opt_i['success'] for opt_i in opt_all]]\n",
    "    obj_success = np.array([opt_i['fun'] for opt_i in opt_success])\n",
    "    ind_min = np.argmin(obj_success)\n",
    "    opt = opt_success[ind_min]\n",
    "    x_et_k = opt['x']\n",
    "    \n",
    "    y_et_k = fun(x_et_k)\n",
    "    \n",
    "    y_data = np.atleast_2d(np.append(y_data,y_et_k)).T\n",
    "    x_data = np.atleast_2d(np.append(x_data,x_et_k)).T\n",
    "    \n",
    "    Y_GP_plot = gpr.predict_values(X_plot)\n",
    "    Y_GP_plot_var  =  gpr.predict_variances(X_plot)\n",
    "    Y_EI_plot = -EI(gpr,X_plot,f_min_k)\n",
    "\n",
    "    fig = plt.figure(figsize=[10,10])\n",
    "    ax = fig.add_subplot(111)\n",
    "    if IC == 'LCB' or IC == 'SBO':\n",
    "        ei, = ax.plot(X_plot,Y_EI_plot,color='red')\n",
    "    else:    \n",
    "        ax1 = ax.twinx()\n",
    "        ei, = ax1.plot(X_plot,Y_EI_plot,color='red')\n",
    "    true_fun, = ax.plot(X_plot,Y_plot)\n",
    "    data, = ax.plot(x_data[0:k+3],y_data[0:k+3],linestyle='',marker='o',color='orange')\n",
    "    opt, = ax.plot(x_data[k+3],y_data[k+3],linestyle='',marker='*',color='r')\n",
    "    gp, = ax.plot(X_plot,Y_GP_plot,linestyle='--',color='g')\n",
    "    sig_plus = Y_GP_plot+3*np.sqrt(Y_GP_plot_var)\n",
    "    sig_moins = Y_GP_plot-3*np.sqrt(Y_GP_plot_var)\n",
    "    un_gp = ax.fill_between(X_plot.T[0],sig_plus.T[0],sig_moins.T[0],alpha=0.3,color='g')\n",
    "    lines = [true_fun,data,gp,un_gp,opt,ei]\n",
    "    ax.set_title('$x \\sin{x}$ function')\n",
    "    ax.set_xlabel('x')\n",
    "    ax.set_ylabel('y')\n",
    "    ax.legend(lines,['True function','Data','GPR prediction','99 % confidence','Next point to Evaluate','Infill Criteria'])\n",
    "    plt.savefig('Optimisation %d' %k)\n",
    "    plt.close(fig)\n",
    "    \n",
    "ind_best = np.argmin(y_data)\n",
    "x_opt = x_data[ind_best]\n",
    "y_opt = y_data[ind_best]\n",
    "\n",
    "print('Results : X = %s, Y = %s' %(x_opt,y_opt))\n",
    "\n",
    "fig = plt.figure(figsize=[10,10])\n",
    "\n",
    "ax = plt.gca()\n",
    "ax.axes.get_xaxis().set_visible(False)\n",
    "ax.axes.get_yaxis().set_visible(False)\n",
    "\n",
    "ims = []\n",
    "for k in range(n_iter):\n",
    "    image_pt = mpimg.imread('Optimisation %d.png' %k)\n",
    "    im = plt.imshow(image_pt)\n",
    "    ims.append([im])\n",
    "    \n",
    "ani = animation.ArtistAnimation(fig, ims,interval=500)\n",
    "HTML(ani.to_jshtml())\n",
    "\n",
    "\n"
   ]
  },
  {
   "cell_type": "markdown",
   "metadata": {},
   "source": [
    " ## Use the EGO from SMT "
   ]
  },
  {
   "cell_type": "code",
   "execution_count": null,
   "metadata": {},
   "outputs": [],
   "source": [
    "from smt.applications.ego import EGO\n",
    "from smt.sampling_methods import LHS\n"
   ]
  },
  {
   "cell_type": "markdown",
   "metadata": {},
   "source": [
    "* Choose your criterion to perform the optimization: EI, SBO or LCB\n",
    "* Choose the size of the initial DOE\n",
    "* Choose the number of EGO iterations"
   ]
  },
  {
   "cell_type": "markdown",
   "metadata": {},
   "source": [
    "## Try with a 2D function : 2D Rosenbrock function "
   ]
  },
  {
   "cell_type": "markdown",
   "metadata": {},
   "source": [
    "Rosenbrock Function  in dimension N\n",
    "\n",
    "$$\n",
    "f(\\mathbf{x}) = \\sum_{i=1}^{N-1} 100 (x_{i+1} - x_i^2 )^2 + (1-x_i)^2 \\quad \\mbox{where} \\quad \\mathbf{x} = [x_1, \\ldots, x_N] \\in \\mathbb{R}^N.\n",
    "$$\n",
    "\n",
    "$$x_i \\in [-2,2]$$"
   ]
  },
  {
   "cell_type": "code",
   "execution_count": null,
   "metadata": {},
   "outputs": [],
   "source": [
    "#define the rosenbrock function\n",
    "def rosenbrock(x):\n",
    "    \"\"\"\n",
    "    Evaluate objective and constraints for the Rosenbrock test case:\n",
    "    \"\"\"\n",
    "    n,dim = x.shape\n",
    "\n",
    "    #parameters:\n",
    "    Opt =[]\n",
    "    Opt_point_scalar = 1\n",
    "    #construction of O vector\n",
    "    for i in range(0, dim):\n",
    "        Opt.append(Opt_point_scalar)\n",
    "\n",
    "    #Construction of Z vector\n",
    "    Z= np.zeros((n,dim))\n",
    "    for i in range(0,dim):\n",
    "        Z[:,i] = (x[:,i]-Opt[i]+1)\n",
    "\n",
    "    #Sum\n",
    "    sum1 = np.zeros((n,1))\n",
    "    for i in range(0,dim-1):\n",
    "        sum1[:,0] += 100*(((Z[:,i]**2)-Z[:,i+1])**2)+((Z[:,i]-1)**2)\n",
    "\n",
    "    return sum1\n",
    "\n",
    "\n",
    "xlimits=np.array([[-2,2], [-2,2]])"
   ]
  },
  {
   "cell_type": "code",
   "execution_count": null,
   "metadata": {},
   "outputs": [],
   "source": [
    "from mpl_toolkits.mplot3d import Axes3D\n",
    "import matplotlib.pyplot as plt\n",
    "from matplotlib import cm\n",
    "\n",
    "#To plot the Rosenbrock function\n",
    "num_plot = 50 #to plot rosenbrock\n",
    "x = np.linspace(xlimits[0][0],xlimits[0][1],num_plot)\n",
    "res = []\n",
    "for x0 in x:\n",
    "    for x1 in x:\n",
    "        res.append(rosenbrock(np.array([[x0,x1]])))\n",
    "res = np.array(res)\n",
    "res = res.reshape((50,50)).T\n",
    "X,Y = np.meshgrid(x,x)\n",
    "fig = plt.figure(figsize=[10,10])\n",
    "ax = fig.gca(projection='3d')\n",
    "surf = ax.plot_surface(X, Y, res, cmap=cm.coolwarm,\n",
    "                       linewidth=0, antialiased=False,alpha=0.5)\n",
    "plt.title(' Rosenbrock function')\n",
    "plt.xlabel('x1')\n",
    "plt.ylabel('x2')\n",
    "plt.show()"
   ]
  },
  {
   "cell_type": "code",
   "execution_count": null,
   "metadata": {},
   "outputs": [],
   "source": [
    "criterion='EI' #'EI' or 'SBO' or 'LCB'\n",
    "\n",
    "#number of points in the initial DOE\n",
    "ndoe = 10 #(at least ndim+1)\n",
    "\n",
    "#number of iterations with EGO \n",
    "n_iter = 50\n",
    "\n",
    "#Build the initial DOE, add the random_state option to have the reproducibility of the LHS points\n",
    "sampling = LHS(xlimits=xlimits, random_state=1)\n",
    "xdoe = sampling(ndoe)\n",
    "\n",
    "\n",
    "#EGO call\n",
    "ego = EGO(n_iter=n_iter, criterion=criterion, xdoe=xdoe, xlimits=xlimits)\n",
    "\n",
    "x_opt, y_opt, ind_best, x_data, y_data = ego.optimize(fun=rosenbrock)\n",
    "\n",
    "print('Xopt for Rosenbrock ', x_opt,y_opt, ' obtained using EGO criterion = ', criterion )\n",
    "print('Check if the optimal point is Xopt= (1,1) with the Y value=0')\n",
    "print('if not you can increase the number of iterations with n_iter but the CPU will increase also.')\n",
    "print('---------------------------')"
   ]
  },
  {
   "cell_type": "code",
   "execution_count": null,
   "metadata": {},
   "outputs": [],
   "source": [
    "#To plot the Rosenbrock function\n",
    "#3D plot\n",
    "x = np.linspace(xlimits[0][0],xlimits[0][1],num_plot)\n",
    "res = []\n",
    "for x0 in x:\n",
    "    for x1 in x:\n",
    "        res.append(rosenbrock(np.array([[x0,x1]])))\n",
    "res = np.array(res)\n",
    "res = res.reshape((50,50)).T\n",
    "X,Y = np.meshgrid(x,x)\n",
    "fig = plt.figure(figsize=(10, 10))\n",
    "ax = fig.gca(projection='3d')\n",
    "surf = ax.plot_surface(X, Y, res, cmap=cm.coolwarm,\n",
    "                       linewidth=0, antialiased=False,alpha=0.5)\n",
    "#to add the points provided by EGO\n",
    "ax.scatter(x_data[:ndoe,0],x_data[:ndoe,1],y_data[:ndoe],zdir='z',marker = '.',c='k',s=100, label='Initial DOE')\n",
    "ax.scatter(x_data[ndoe:,0],x_data[ndoe:,1],y_data[ndoe:],zdir='z',marker = 'x',c='r', s=100, label= 'Added point')\n",
    "ax.scatter(x_opt[0],x_opt[1],y_opt,zdir='z',marker = '*',c='g', s=100, label= 'EGO optimal point')\n",
    "\n",
    "plt.title(' Rosenbrock function during EGO algorithm')\n",
    "plt.xlabel('x1')\n",
    "plt.ylabel('x2')\n",
    "plt.legend()\n",
    "plt.show()\n",
    "\n",
    "\n",
    "#2D plot \n",
    "#to add the points provided by EGO\n",
    "plt.plot(x_data[:ndoe,0],x_data[:ndoe,1],'.', label='Initial DOE')\n",
    "plt.plot(x_data[ndoe:,0],x_data[ndoe:,1],'x', c='r', label='Added point')\n",
    "plt.plot(x_opt[:1],x_opt[1:],'*',c='g', label= 'EGO optimal point')\n",
    "plt.plot([1], [1],'*',c='m', label= 'Optimal point')\n",
    "\n",
    "plt.title(' Rosenbrock function during EGO algorithm')\n",
    "plt.xlabel('x1')\n",
    "plt.ylabel('x2')\n",
    "plt.legend()\n",
    "plt.show()\n"
   ]
  },
  {
   "cell_type": "markdown",
   "metadata": {},
   "source": [
    "We can now compare the results by using only the mean information provided by surrogate model approximation\n"
   ]
  },
  {
   "cell_type": "code",
   "execution_count": null,
   "metadata": {},
   "outputs": [],
   "source": [
    "criterion='SBO' #'EI' or 'SBO' or 'LCB'\n",
    "\n",
    "#number of points in the initial DOE\n",
    "ndoe = 10 #(at least ndim+1)\n",
    "\n",
    "#number of iterations with EGO \n",
    "n_iter = 50\n",
    "\n",
    "#Build the initial DOE\n",
    "sampling = LHS(xlimits=xlimits, random_state=1)\n",
    "xdoe = sampling(ndoe)\n",
    "\n",
    "\n",
    "#EGO call\n",
    "ego = EGO(n_iter=n_iter, criterion=criterion, xdoe=xdoe, xlimits=xlimits)\n",
    "\n",
    "x_opt, y_opt, ind_best, x_data, y_data = ego.optimize(fun=rosenbrock)\n",
    "\n",
    "print('Xopt for Rosenbrock ', x_opt, y_opt, ' obtained using EGO criterion = ', criterion)\n",
    "print('Check if the optimal point is Xopt=(1,1) with the Y value=0')\n",
    "print('---------------------------')"
   ]
  },
  {
   "cell_type": "code",
   "execution_count": null,
   "metadata": {},
   "outputs": [],
   "source": []
  }
 ],
 "metadata": {
  "kernelspec": {
   "display_name": "Python 3",
   "language": "python",
   "name": "python3"
  },
  "language_info": {
   "codemirror_mode": {
    "name": "ipython",
    "version": 3
   },
   "file_extension": ".py",
   "mimetype": "text/x-python",
   "name": "python",
   "nbconvert_exporter": "python",
   "pygments_lexer": "ipython3",
   "version": "3.8.3"
  }
 },
 "nbformat": 4,
 "nbformat_minor": 2
}
