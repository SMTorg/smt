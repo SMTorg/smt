{
 "cells": [
  {
   "cell_type": "markdown",
   "metadata": {
    "colab_type": "text",
    "id": "view-in-github"
   },
   "source": [
    "<a href=\"https://colab.research.google.com/github/SMTorg/smt/blob/master/tutorial/SMT_DesignSpace_example.ipynb\" target=\"_parent\"><img src=\"https://colab.research.google.com/assets/colab-badge.svg\" alt=\"Open In Colab\"/></a>"
   ]
  },
  {
   "cell_type": "markdown",
   "metadata": {
    "id": "mDCpNW2-mu3w"
   },
   "source": [
    "<div class=\"jumbotron text-left\"><b>\n",
    "    \n",
    "This tutorial describes how to use de DesignSpace within the SMT toolbox. \n",
    "<div>\n",
    "    \n",
    "    May 2024 - `SMT version 2.5.1`\n",
    "  \n",
    "    Jasper Bussemaker (DLR), Paul Saves, and Nathalie BARTOLI (ONERA/DTIS/M2CI)"
   ]
  },
  {
   "cell_type": "markdown",
   "metadata": {},
   "source": [
    "<div class=\"alert alert-info fade in\" id=\"d110\">\n",
    "<p>Some updates</p>\n",
    "<ol> -  Manipulation of mixed DOE (continuous, integer,  categorical and hierarchical variables) </ol>\n",
    "</div>"
   ]
  },
  {
   "cell_type": "markdown",
   "metadata": {
    "id": "gDeEbi7nmu32"
   },
   "source": [
    "<p class=\"alert alert-success\" style=\"padding:1em\">\n",
    "To use SMT models, please follow this link : https://github.com/SMTorg/SMT/blob/master/README.md. The documentation is available here: http://smt.readthedocs.io/en/latest/\n",
    "</p>\n",
    "\n",
    "The reference paper is available \n",
    "here https://www.sciencedirect.com/science/article/pii/S0965997818309360?via%3Dihub \n",
    "\n",
    "or as a preprint: http://mdolab.engin.umich.edu/content/python-surrogate-modeling-framework-derivatives"
   ]
  },
  {
   "cell_type": "markdown",
   "metadata": {
    "id": "uU32V-7bmu33"
   },
   "source": [
    "For mixed integer with continuous relaxation, the reference paper is available here https://www.sciencedirect.com/science/article/pii/S0925231219315619"
   ]
  },
  {
   "cell_type": "code",
   "execution_count": 1,
   "metadata": {
    "colab": {
     "base_uri": "https://localhost:8080/",
     "height": 1000
    },
    "id": "EweBFT9Ap8Ay",
    "outputId": "4c016eb0-6a75-46f7-d2db-c4ff17ec284a"
   },
   "outputs": [
    {
     "name": "stdout",
     "output_type": "stream",
     "text": [
      "Requirement already satisfied: smt in /stck/psaves/miniconda3/envs/newenv1/lib/python3.9/site-packages (2.6.2)\n",
      "Requirement already satisfied: scikit-learn in /stck/psaves/miniconda3/envs/newenv1/lib/python3.9/site-packages (from smt) (1.4.0)\n",
      "Requirement already satisfied: pyDOE3 in /stck/psaves/miniconda3/envs/newenv1/lib/python3.9/site-packages (from smt) (1.0.3)\n",
      "Requirement already satisfied: scipy in /stck/psaves/miniconda3/envs/newenv1/lib/python3.9/site-packages (from smt) (1.11.3)\n",
      "Requirement already satisfied: jenn in /stck/psaves/miniconda3/envs/newenv1/lib/python3.9/site-packages (from smt) (1.0.6)\n",
      "Requirement already satisfied: jsonpointer>=2.4 in /stck/psaves/miniconda3/envs/newenv1/lib/python3.9/site-packages (from jenn->smt) (3.0.0)\n",
      "Requirement already satisfied: jsonschema>=4.22 in /stck/psaves/miniconda3/envs/newenv1/lib/python3.9/site-packages (from jenn->smt) (4.22.0)\n",
      "Requirement already satisfied: orjson>=3.9 in /stck/psaves/miniconda3/envs/newenv1/lib/python3.9/site-packages (from jenn->smt) (3.10.6)\n",
      "Requirement already satisfied: numpy>=1.22 in /stck/psaves/miniconda3/envs/newenv1/lib/python3.9/site-packages (from jenn->smt) (1.23.5)\n",
      "Requirement already satisfied: joblib>=1.2.0 in /stck/psaves/miniconda3/envs/newenv1/lib/python3.9/site-packages (from scikit-learn->smt) (1.4.2)\n",
      "Requirement already satisfied: threadpoolctl>=2.0.0 in /stck/psaves/miniconda3/envs/newenv1/lib/python3.9/site-packages (from scikit-learn->smt) (3.5.0)\n",
      "Requirement already satisfied: attrs>=22.2.0 in /stck/psaves/miniconda3/envs/newenv1/lib/python3.9/site-packages (from jsonschema>=4.22->jenn->smt) (23.1.0)\n",
      "Requirement already satisfied: jsonschema-specifications>=2023.03.6 in /stck/psaves/miniconda3/envs/newenv1/lib/python3.9/site-packages (from jsonschema>=4.22->jenn->smt) (2023.12.1)\n",
      "Requirement already satisfied: referencing>=0.28.4 in /stck/psaves/miniconda3/envs/newenv1/lib/python3.9/site-packages (from jsonschema>=4.22->jenn->smt) (0.35.1)\n",
      "Requirement already satisfied: rpds-py>=0.7.1 in /stck/psaves/miniconda3/envs/newenv1/lib/python3.9/site-packages (from jsonschema>=4.22->jenn->smt) (0.18.1)\n"
     ]
    }
   ],
   "source": [
    "# to install smt\n",
    "!pip install smt"
   ]
  },
  {
   "cell_type": "markdown",
   "metadata": {},
   "source": [
    "<div class=\"alert alert-warning\" >\n",
    "If you use hierarchical variables and the size of your doe greater than 30 points, you may leverage the `numba` JIT compiler to speed up the computation\n",
    "To do so:\n",
    "    \n",
    " - install numba library\n",
    "    \n",
    "     `pip install numba`\n",
    "    \n",
    "    \n",
    " - and define the environment variable `USE_NUMBA_JIT = 1` (unset or 0 if you do not want to use numba) \n",
    "    \n",
    "     - Linux: export USE_NUMBA_JIT = 1\n",
    "    \n",
    "     - Windows: set USE_NUMBA_JIT = 1\n",
    "\n",
    "</div>"
   ]
  },
  {
   "cell_type": "code",
   "execution_count": 2,
   "metadata": {},
   "outputs": [],
   "source": [
    "from smt.utils.design_space import (\n",
    "    DesignSpace,\n",
    "    FloatVariable,\n",
    "    IntegerVariable,\n",
    "    OrdinalVariable,\n",
    "    CategoricalVariable,\n",
    ")"
   ]
  },
  {
   "cell_type": "markdown",
   "metadata": {
    "id": "aggEHXHmmu4I"
   },
   "source": [
    "# Manipulate DOE with mixed, categorical & hierarchical variables"
   ]
  },
  {
   "cell_type": "markdown",
   "metadata": {
    "id": "dvVSDE-omu4I"
   },
   "source": [
    "4 variables \n",
    " - 1 categorical variable with 2 labels ['A', 'B'] # x0 categorical: A or B; order is not relevant\n",
    " - 1 ordinal variable with 3 levels ['C', 'D', 'E']),  # x1 ordinal: C, D or E; order is relevant\n",
    " - 1 integer variable [0,2]: 3 possibilities: 0, 1, 2\n",
    " - 1 continuous variable $\\in [0, 1]$\n",
    " \n",
    " \n",
    " **Posssibility to have hierarchical variable: x1 exists only if x0 = 'A'**"
   ]
  },
  {
   "cell_type": "code",
   "execution_count": 3,
   "metadata": {},
   "outputs": [
    {
     "name": "stdout",
     "output_type": "stream",
     "text": [
      "Number of design variables 4\n"
     ]
    }
   ],
   "source": [
    "# Instantiate the design space with all its design variables:\n",
    "\n",
    "ds = DesignSpace(\n",
    "    [\n",
    "        CategoricalVariable(\n",
    "            [\"A\", \"B\"]\n",
    "        ),  # x0 categorical: A or B; order is not relevant\n",
    "        OrdinalVariable([\"C\", \"D\", \"E\"]),  # x1 ordinal: C, D or E; order is relevant\n",
    "        IntegerVariable(0, 2),  # x2 integer between 0 and 2 (inclusive): 0, 1, 2\n",
    "        FloatVariable(0, 1),  # c3 continuous between 0 and 1\n",
    "    ]\n",
    ")\n",
    "\n",
    "print(\"Number of design variables\", len(ds.design_variables))\n",
    "# You can define decreed variables (conditional activation):\n",
    "ds.declare_decreed_var(\n",
    "    decreed_var=1, meta_var=0, meta_value=\"A\"\n",
    ")  # Activate x1 if x0 == A"
   ]
  },
  {
   "cell_type": "code",
   "execution_count": 4,
   "metadata": {},
   "outputs": [
    {
     "name": "stdout",
     "output_type": "stream",
     "text": [
      "Data encoded: \n",
      " [[0.         2.         1.         0.50141714]\n",
      " [1.         0.         1.         0.48517298]\n",
      " [0.         1.         2.         0.83539973]\n",
      " [0.         0.         1.         0.65900747]\n",
      " [0.         2.         1.         0.5664969 ]]\n",
      "Data in initial space: \n",
      " [['A', 'E', 1.0, 0.5014171417556681], ['B', 'C', 1.0, 0.48517297677504534], ['A', 'D', 2.0, 0.835399731580032], ['A', 'C', 1.0, 0.6590074713239295], ['A', 'E', 1.0, 0.5664968989411066]]\n"
     ]
    }
   ],
   "source": [
    "## To give some examples\n",
    "# It is also possible to randomly sample design vectors conforming to the constraints:\n",
    "n = 5\n",
    "x_sampled, is_acting_sampled = ds.sample_valid_x(5)\n",
    "\n",
    "print(\"Data encoded: \\n\", x_sampled)\n",
    "print(\"Data in initial space: \\n\", ds.decode_values(x_sampled))"
   ]
  },
  {
   "cell_type": "code",
   "execution_count": 5,
   "metadata": {},
   "outputs": [
    {
     "name": "stdout",
     "output_type": "stream",
     "text": [
      "Which variables are active \n",
      " [[ True  True  True  True]\n",
      " [ True False  True  True]\n",
      " [ True  True  True  True]\n",
      " [ True  True  True  True]\n",
      " [ True  True  True  True]]\n"
     ]
    }
   ],
   "source": [
    "# After defining everything correctly, you can then use the design space object\n",
    "# to correct design vectors and get information about which design variables are acting:\n",
    "x_corr, is_acting = ds.correct_get_acting(x_sampled)\n",
    "print(\"Which variables are active \\n\", is_acting)"
   ]
  },
  {
   "cell_type": "code",
   "execution_count": 6,
   "metadata": {},
   "outputs": [
    {
     "name": "stdout",
     "output_type": "stream",
     "text": [
      "Limits of each variable \n",
      " [['A', 'B'], ['0', '1', '2'], (0, 2), (0, 1)]\n",
      "Continuous bounds with the encoding done (4 variables now) \n",
      " [[0 1]\n",
      " [0 2]\n",
      " [0 2]\n",
      " [0 1]]\n",
      "Continuous bounds with the unfolded encoding done (5 variables now)\n",
      " [[0. 1.]\n",
      " [0. 1.]\n",
      " [0. 2.]\n",
      " [0. 2.]\n",
      " [0. 1.]]\n"
     ]
    }
   ],
   "source": [
    "# If needed, it is possible to get the legacy design space definition format:\n",
    "xlimits = ds.get_x_limits()\n",
    "cont_bounds = ds.get_num_bounds()\n",
    "unfolded_cont_bounds = ds.get_unfolded_num_bounds()\n",
    "print(\"Limits of each variable \\n\", xlimits)\n",
    "print(\"Continuous bounds with the encoding done (4 variables now) \\n\", cont_bounds)\n",
    "print(\n",
    "    \"Continuous bounds with the unfolded encoding done (5 variables now)\\n\",\n",
    "    unfolded_cont_bounds,\n",
    ")"
   ]
  },
  {
   "cell_type": "markdown",
   "metadata": {},
   "source": [
    "# Manipulate DOE with continuous variables"
   ]
  },
  {
   "cell_type": "code",
   "execution_count": 7,
   "metadata": {},
   "outputs": [
    {
     "name": "stdout",
     "output_type": "stream",
     "text": [
      "Number of design variables = 3  or  3\n"
     ]
    }
   ],
   "source": [
    "# You can also instantiate a purely-continuous design space from bounds directly:\n",
    "continuous_design_space = DesignSpace([(0, 1), (0, 2), (0.5, 5.5)])\n",
    "print(\n",
    "    \"Number of design variables =\",\n",
    "    continuous_design_space.n_dv,\n",
    "    \" or \",\n",
    "    len(continuous_design_space.design_variables),\n",
    ")"
   ]
  },
  {
   "cell_type": "code",
   "execution_count": 8,
   "metadata": {},
   "outputs": [],
   "source": [
    "x_sampled_cont, is_acting_sampled_cont = continuous_design_space.sample_valid_x(5)"
   ]
  },
  {
   "cell_type": "code",
   "execution_count": 9,
   "metadata": {},
   "outputs": [
    {
     "name": "stdout",
     "output_type": "stream",
     "text": [
      "Data encoded: \n",
      " [[0.31711655 0.1616406  2.58306429]\n",
      " [0.49960756 0.62928794 2.96869517]\n",
      " [0.11611917 0.63034393 2.74785997]\n",
      " [0.44327097 0.3821734  3.78969088]\n",
      " [0.32158259 1.88724976 1.06429242]]\n",
      "Is_acting: \n",
      " [[ True  True  True]\n",
      " [ True  True  True]\n",
      " [ True  True  True]\n",
      " [ True  True  True]\n",
      " [ True  True  True]]\n"
     ]
    }
   ],
   "source": [
    "print(\"Data encoded: \\n\", x_sampled_cont)\n",
    "print(\"Is_acting: \\n\", is_acting_sampled_cont)"
   ]
  },
  {
   "cell_type": "code",
   "execution_count": null,
   "metadata": {},
   "outputs": [],
   "source": []
  }
 ],
 "metadata": {
  "colab": {
   "include_colab_link": true,
   "name": "SMT_DesignSpace_example.ipynb",
   "provenance": []
  },
  "kernelspec": {
   "display_name": "Python 3 (ipykernel)",
   "language": "python",
   "name": "python3"
  },
  "language_info": {
   "codemirror_mode": {
    "name": "ipython",
    "version": 3
   },
   "file_extension": ".py",
   "mimetype": "text/x-python",
   "name": "python",
   "nbconvert_exporter": "python",
   "pygments_lexer": "ipython3",
   "version": "3.9.18"
  }
 },
 "nbformat": 4,
 "nbformat_minor": 4
}
