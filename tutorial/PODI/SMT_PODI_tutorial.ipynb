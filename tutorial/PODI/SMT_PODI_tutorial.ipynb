{
 "cells": [
  {
   "cell_type": "markdown",
   "metadata": {
    "id": "FqdO-rESet18"
   },
   "source": [
    "\n",
    "<a href=\"https://colab.research.google.com/github/SMTorg/smt/blob/master/tutorial/SMT_PODI_tutorial.ipynb\" target=\"_parent\"><img src=\"https://colab.research.google.com/assets/colab-badge.svg\" alt=\"Open In Colab\"/></a>\n"
   ]
  },
  {
   "cell_type": "markdown",
   "metadata": {
    "id": "TEKYTASvet2B"
   },
   "source": [
    "<div class=\"jumbotron text-left\"><b>\n",
    "\n",
    "This tutorial describes how to use PODI, an application of the SMT toolbox. It combines Proper Orthogonal Decomposition (POD) and kriging based surrogate models to perform the estimations of vectorial outputs\n",
    "</div>\n",
    "\n",
    "Hugo Reimeringer, Inês Cardoso, Sylvain Dubreuil ONERA/DTIS/M2CI\n",
    "\n",
    "September  2024 - `SMT version 2.6.3`\n",
    "</b>"
   ]
  },
  {
   "cell_type": "markdown",
   "metadata": {
    "id": "vKWoh8Ldet2C"
   },
   "source": [
    "<p class=\"alert alert-success\" style=\"padding:1em\">\n",
    "To use SMT, please follow this link : https://github.com/SMTorg/SMT/blob/master/README.md. The documentation is available here: http://smt.readthedocs.io/en/latest/\n",
    "</p>\n",
    "\n",
    "The reference paper is available\n",
    "here https://www.sciencedirect.com/science/article/pii/S0965997818309360?via%3Dihub\n",
    "\n",
    "or as a preprint: http://mdolab.engin.umich.edu/content/python-surrogate-modeling-framework-derivatives"
   ]
  },
  {
   "cell_type": "code",
   "execution_count": 1,
   "metadata": {
    "colab": {
     "base_uri": "https://localhost:8080/"
    },
    "executionInfo": {
     "elapsed": 11977,
     "status": "ok",
     "timestamp": 1715761101522,
     "user": {
      "displayName": "HUGO R",
      "userId": "03990053277838011550"
     },
     "user_tz": -120
    },
    "id": "vdWGVt-Det2D",
    "outputId": "c23298ef-327b-4733-e15a-87fec3ab3e75"
   },
   "outputs": [
    {
     "name": "stdout",
     "output_type": "stream",
     "text": [
      "Requirement already satisfied: smt in /stck/psaves/miniconda3/envs/newenv1/lib/python3.9/site-packages (2.6.2)\n",
      "Requirement already satisfied: scikit-learn in /stck/psaves/miniconda3/envs/newenv1/lib/python3.9/site-packages (from smt) (1.5.2)\n",
      "Requirement already satisfied: pyDOE3 in /stck/psaves/miniconda3/envs/newenv1/lib/python3.9/site-packages (from smt) (1.0.3)\n",
      "Requirement already satisfied: scipy in /stck/psaves/miniconda3/envs/newenv1/lib/python3.9/site-packages (from smt) (1.13.1)\n",
      "Requirement already satisfied: jenn in /stck/psaves/miniconda3/envs/newenv1/lib/python3.9/site-packages (from smt) (1.0.6)\n",
      "Requirement already satisfied: jsonpointer>=2.4 in /stck/psaves/miniconda3/envs/newenv1/lib/python3.9/site-packages (from jenn->smt) (3.0.0)\n",
      "Requirement already satisfied: jsonschema>=4.22 in /stck/psaves/miniconda3/envs/newenv1/lib/python3.9/site-packages (from jenn->smt) (4.22.0)\n",
      "Requirement already satisfied: orjson>=3.9 in /stck/psaves/miniconda3/envs/newenv1/lib/python3.9/site-packages (from jenn->smt) (3.10.6)\n",
      "Requirement already satisfied: numpy>=1.22 in /stck/psaves/miniconda3/envs/newenv1/lib/python3.9/site-packages (from jenn->smt) (1.26.4)\n",
      "Requirement already satisfied: joblib>=1.2.0 in /stck/psaves/miniconda3/envs/newenv1/lib/python3.9/site-packages (from scikit-learn->smt) (1.4.2)\n",
      "Requirement already satisfied: threadpoolctl>=3.1.0 in /stck/psaves/miniconda3/envs/newenv1/lib/python3.9/site-packages (from scikit-learn->smt) (3.5.0)\n",
      "Requirement already satisfied: attrs>=22.2.0 in /stck/psaves/miniconda3/envs/newenv1/lib/python3.9/site-packages (from jsonschema>=4.22->jenn->smt) (23.1.0)\n",
      "Requirement already satisfied: jsonschema-specifications>=2023.03.6 in /stck/psaves/miniconda3/envs/newenv1/lib/python3.9/site-packages (from jsonschema>=4.22->jenn->smt) (2023.12.1)\n",
      "Requirement already satisfied: referencing>=0.28.4 in /stck/psaves/miniconda3/envs/newenv1/lib/python3.9/site-packages (from jsonschema>=4.22->jenn->smt) (0.35.1)\n",
      "Requirement already satisfied: rpds-py>=0.7.1 in /stck/psaves/miniconda3/envs/newenv1/lib/python3.9/site-packages (from jsonschema>=4.22->jenn->smt) (0.18.1)\n",
      "Note: you may need to restart the kernel to use updated packages.\n"
     ]
    }
   ],
   "source": [
    "%pip install smt"
   ]
  },
  {
   "cell_type": "markdown",
   "metadata": {
    "id": "rNnEZOcoet2F"
   },
   "source": [
    "# Context\n",
    "---\n",
    "\n",
    "We consider a problem in which the estimation of a vectorial output $u\\in\\mathbb{R}^p$ is desired.\n",
    "This vector depends of an input variable $\\mathbf{x}=(\\mathbf{x_1},\\dots,\\mathbf{x_N})\\in\\mathbb{R}^N$ representing the caracteristics of $N$ configurations of the problem.\n",
    "With $k \\in [\\![1,N]\\!]$, $u(\\mathbf{x_k})$ corresponds to output values at a specific configuration. It is called a **snapshot**.\n",
    "\n",
    "The $N$ snapshots are gathered in a database called the **snapshot matrix**:\n",
    "$$\n",
    "\tS=\n",
    "\t\\begin{bmatrix}\n",
    "\t\tu( \\mathbf{x}_1)_1 & \\dots & u( \\mathbf{x}_N)_1 \\\\\n",
    "\t\t\\vdots & \\ddots & \\vdots \\\\\n",
    "\t\tu( \\mathbf{x}_1)_p & \\dots & u( \\mathbf{x}_N)_p \\\\\n",
    "\t\\end{bmatrix}\n",
    "\t\\in \\mathbb{R}^{p \\times N}\n",
    "$$\n",
    "\n",
    "Each column of the matrix corresponds to a snapshot $u(\\mathbf{x_k})$."
   ]
  },
  {
   "cell_type": "markdown",
   "metadata": {
    "id": "LbKREeWkfuX6"
   },
   "source": [
    "We import the needed packages"
   ]
  },
  {
   "cell_type": "code",
   "execution_count": 2,
   "metadata": {
    "colab": {
     "base_uri": "https://localhost:8080/",
     "height": 376
    },
    "executionInfo": {
     "elapsed": 2288,
     "status": "error",
     "timestamp": 1715761103799,
     "user": {
      "displayName": "HUGO R",
      "userId": "03990053277838011550"
     },
     "user_tz": -120
    },
    "id": "4roq8FhRet2G",
    "outputId": "9b7d37da-63fa-459a-c06e-80e8bcd9c1fd"
   },
   "outputs": [],
   "source": [
    "from smt.applications import PODI\n",
    "import numpy as np\n",
    "from scipy import special\n",
    "from matplotlib import pyplot as plt\n",
    "from smt.sampling_methods import LHS\n",
    "\n",
    "%matplotlib inline\n",
    "# to ignore warning messages\n",
    "import warnings\n",
    "\n",
    "warnings.filterwarnings(\"ignore\")"
   ]
  },
  {
   "cell_type": "markdown",
   "metadata": {
    "id": "f-pA4nVfet2G"
   },
   "source": [
    "# 1D test function"
   ]
  },
  {
   "cell_type": "code",
   "execution_count": 3,
   "metadata": {
    "id": "OzuKwdsAet2H"
   },
   "outputs": [],
   "source": [
    "# defining the 1D-test fuction\n",
    "\n",
    "p = 100\n",
    "y = np.linspace(-1, 1, p)\n",
    "n_modes_test = 10\n",
    "\n",
    "\n",
    "def function_test_1d(x, y, n_modes_test, p):\n",
    "    def cos_coeff(i: int, x: np.ndarray):\n",
    "        a = 2 * i % 2 - 1\n",
    "        return a * x[:, 0] * np.cos(i * x[:, 0])\n",
    "\n",
    "    def Legendre(i: int, y: np.ndarray):\n",
    "        return special.legendre(i)(y)\n",
    "\n",
    "    def gram_schmidt(input_array: np.ndarray) -> np.ndarray:\n",
    "        \"\"\"To perform the  Gram-Schmidt's algorithm.\"\"\"\n",
    "\n",
    "        basis = np.zeros_like(input_array)\n",
    "        for i in range(len(input_array)):\n",
    "            basis[i] = input_array[i]\n",
    "            for j in range(i):\n",
    "                basis[i] -= (\n",
    "                    np.dot(input_array[i], basis[j])\n",
    "                    / np.dot(basis[j], basis[j])\n",
    "                    * basis[j]\n",
    "                )\n",
    "            basis[i] /= np.linalg.norm(basis[i])\n",
    "        return basis\n",
    "\n",
    "    u0 = np.zeros((p, 1))\n",
    "\n",
    "    alpha = np.zeros((x.shape[0], n_modes_test))\n",
    "    for i in range(n_modes_test):\n",
    "        alpha[:, i] = cos_coeff(i, x)\n",
    "\n",
    "    V_init = np.zeros((p, n_modes_test))\n",
    "    for i in range(n_modes_test):\n",
    "        V_init[:, i] = Legendre(i, y)\n",
    "\n",
    "    V = gram_schmidt(V_init.T).T\n",
    "    database = u0 + np.dot(V, alpha.T)\n",
    "\n",
    "    return database\n",
    "\n",
    "\n",
    "seed_sampling = 42\n",
    "xlimits = np.array([[0, 4]])\n",
    "sampling = LHS(xlimits=xlimits, random_state=seed_sampling)\n",
    "\n",
    "nt = 40\n",
    "xt = sampling(nt)\n",
    "\n",
    "nv = 50\n",
    "xv = sampling(nv)\n",
    "\n",
    "x = np.concatenate((xt, xv))\n",
    "dbfull = function_test_1d(x, y, n_modes_test, p)\n",
    "\n",
    "# Training data\n",
    "dbt = dbfull[:, :nt]\n",
    "\n",
    "# Validation data\n",
    "dbv = dbfull[:, nt:]"
   ]
  },
  {
   "cell_type": "markdown",
   "metadata": {
    "id": "_UOJq8jsl-yy"
   },
   "source": [
    "# Proper Orthogonal Decomposition (POD)\n",
    "---\n",
    "\n",
    "The vectorial output $u$ is a vector of dimension $p$. Its POD is this decomposition:\n",
    "\n",
    "$$\n",
    "\tu({\\mathbf x})=u_0 + \\sum_{i=1}^{M} \\alpha_i(\\mathbf x)\\phi_i\n",
    "$$\n",
    "\n",
    "* $u$ is decomposed as a sum of $M$ modes and $u_0$ corresponds to the mean value of $u$.\n",
    "\n",
    "* each mode $i$ is defined by a scalar coefficient $\\alpha_i$ and a vector $\\phi_{i}$ of dimension $p$.\n",
    "\n",
    "* the $\\phi_i$ vectors are orthogonal and form the **POD basis**.\n",
    "\n",
    "We can also define the matricial POD equation:\n",
    "\n",
    "$$\n",
    "\tS=U_0+\\Phi A\n",
    "$$\n",
    "\n",
    "where $U_0$ is composed of the $u_0$ vector on each column,\n",
    "\n",
    "$$\n",
    "\tA=\n",
    "\t\\begin{bmatrix}\n",
    "\t\t\\alpha_1( \\mathbf{x}_1) & \\dots & \\alpha_1( \\mathbf{x}_N) \\\\\n",
    "\t\t\\vdots & \\ddots & \\vdots \\\\\n",
    "\t\t\\alpha_M( \\mathbf{x}_1) & \\dots & \\alpha_M( \\mathbf{x}_N) \\\\\n",
    "\t\\end{bmatrix}\n",
    "\t,\\Phi=\n",
    "\t\\begin{bmatrix}\n",
    "\t\t(\\phi_1)_1 & \\dots & (\\phi_M)_1 \\\\\n",
    "\t\t\\vdots & \\ddots & \\vdots \\\\\n",
    "\t\t(\\phi_1)_p & \\dots & (\\phi_M)_p \\\\\n",
    "\t\\end{bmatrix}\n",
    "$$\n",
    "\n",
    "# Singular Values Decomposition (SVD)\n",
    "---\n",
    "\n",
    "To perform the POD, the SVD of the snapshot matrix *S* is used:\n",
    "\n",
    "$$\n",
    "\tS=U\\Sigma{V}^{T}\n",
    "$$\n",
    "\n",
    "The $(p \\times p)$ $U$ and $(N \\times N)$ ${V}^{T}$ matrices are orthogonal and contain the **singular vectors**.\n",
    "These vectors are the directions of maximum variance in the data and are ranked by decreasing order of importance.\n",
    "Each vector corresponds to a mode of $u$. The total number of available modes is limited by the number of snapshots:\n",
    "\n",
    "$$\n",
    "\tM \\le N\n",
    "$$\n",
    "\n",
    "The importance of each mode is represented by the diagonal values of the $(p \\times N)$ $\\Sigma$ matrix. They are known as the **singular values** $\\sigma_i$ and are positive numbers ranked by decreasing value.\n",
    "It is then needed to filter the modes to keep those that represent most of the data structure.\n",
    "To do this, we use the **explained variance** (EV). It represents the data variance that we keep when filtering the modes.\n",
    "\n",
    "If $m$ modes are kept, their explained variance $EV_m$ is:\n",
    "\n",
    "$$\n",
    "\tEV_m=\\frac{\\sum_{i=1}^{m} \\sigma_i}{\\sum_{i=1}^{N} \\sigma_i}\n",
    "$$\n",
    "\n",
    "The number of kept modes is defined by a tolerance $\\eta \\in ]0,1]$ that represents the minimum variance we desire to explain during the SVD:\n",
    "\n",
    "$$\n",
    "\tM = \\min\\{m \\in [\\![1,N]\\!]: EV_m \\ge \\eta\\}\n",
    "$$\n",
    "\n",
    "Then, the first $M$ singular vectors of the $U$ matrix correspond to the $\\phi_i$ vectors in the POD.\n",
    "The $\\alpha_i$ coefficients of the $A$ matrix can be deduced:\n",
    "\n",
    "$$\n",
    "\tA={\\Phi}^{T}(S-U_0)\n",
    "$$"
   ]
  },
  {
   "cell_type": "markdown",
   "metadata": {
    "id": "qQf2YersmLfj"
   },
   "source": [
    "### Computing the POD"
   ]
  },
  {
   "cell_type": "code",
   "execution_count": 4,
   "metadata": {
    "id": "B-WUsWvDet2I"
   },
   "outputs": [
    {
     "name": "stdout",
     "output_type": "stream",
     "text": [
      "10 modes were kept.\n"
     ]
    }
   ],
   "source": [
    "# Call PODI\n",
    "podi = PODI()\n",
    "seed_pod = 42\n",
    "podi.compute_pod(database=dbt, tol=0.9999, seed=seed_pod)\n",
    "\n",
    "# Results of the POD + SVD\n",
    "n_modes = podi.get_n_modes()\n",
    "print(f\"{n_modes} modes were kept.\")"
   ]
  },
  {
   "cell_type": "markdown",
   "metadata": {
    "id": "baPXwClBet2J"
   },
   "source": [
    "# Use of Surrogate models\n",
    "---\n",
    "\n",
    "To compute $u$ at a new input $\\mathbf{x}_*$, the values of $\\alpha_i(\\mathbf{x}_*)$ at each mode $i$ are needed.\n",
    "\n",
    "To estimate them, **kriging based surrogate models** are used:\n",
    "\n",
    "$$\n",
    "\t\\mathbf{x}=(\\mathbf{x}_1,\\dots,\\mathbf{x}_k,\\dots,\\mathbf{x}_N)\n",
    "\t\\longrightarrow\n",
    "\t\\begin{cases}\n",
    "\t\t\\alpha_1(\\mathbf{x}) \\longrightarrow \\text{model 1} \\\\\n",
    "\t\t\\vdots \\\\\n",
    "\t\t\\alpha_i(\\mathbf{x}) \\longrightarrow \\text{model i} \\\\\n",
    "\t\t\\vdots \\\\\n",
    "\t\t\\alpha_M(\\mathbf{x}) \\longrightarrow \\text{model M} \\\\\n",
    "\t\\end{cases}\n",
    "$$\n",
    "\n",
    "For each kept mode $i$, we use a surrogate model that is trained with the inputs $\\mathbf{x}_k$ and outputs $\\alpha_i(\\mathbf{x}_k)$.\n",
    "\n",
    "These models are able to compute an estimation denoted $\\hat\\alpha_i(\\mathbf{x}_*)$. It is normally distributed:\n",
    "\n",
    "$$\n",
    "\t\\hat\\alpha_i(\\mathbf{x}_*) \\hookrightarrow \\mathcal{N}(\\mu_i(\\mathbf{x}_*),\\sigma_i^{2}(\\mathbf{x}_*))\n",
    "$$\n",
    "\n",
    "The mean, variance and derivative of $u(\\mathbf{x}_*)$ can be deduced:\n",
    "\n",
    "$$\n",
    "\t\\begin{cases}\n",
    "\t\t\\mathbb{E}[u(\\mathbf{x}_*)]=u_0+\\sum_{i=1}^{M} \\mu_i(\\mathbf{x}_*)\\phi_i \\\\\n",
    "\t\t\\mathbb{V}[u(\\mathbf{x}_*)]=\\sum_{i=1}^{M} \\sigma_i^{2}(\\mathbf{x}_*)\\phi_i^{2} \\\\\n",
    "\t\tu'(\\mathbf{x}_*)=\\sum_{i=1}^{M} \\alpha_i'(\\mathbf{x}_*)\\phi_i\n",
    "\t\\end{cases}\n",
    "$$\n",
    "\n",
    "NB: The variance equation takes in consideration that:\n",
    "\n",
    "- the models are pairwise independent, so are the coefficients $\\hat\\alpha_i(\\mathbf{x}_*)$."
   ]
  },
  {
   "cell_type": "markdown",
   "metadata": {
    "id": "th7jYf31nsXU"
   },
   "source": [
    "### Setting the models to perform the predictions"
   ]
  },
  {
   "cell_type": "code",
   "execution_count": 5,
   "metadata": {
    "id": "7v7BHkxQet2K"
   },
   "outputs": [],
   "source": [
    "# Choosing the KPLSK models (default is Kriging \"KRG\")\n",
    "# Choosing the correlation kernel  (default is \"squar_exp\")\n",
    "# Choosing the optimizer for Hyperparameters  (default is \"TNC\")\n",
    "\n",
    "podi.set_interp_options(\n",
    "    interp_type=\"KPLSK\", interp_options=[{\"corr\": \"matern52\", \"hyper_opt\": \"Cobyla\"}]\n",
    ")\n",
    "\n",
    "# Setting the training values\n",
    "podi.set_training_values(xt=xt)\n",
    "\n",
    "# Training the models\n",
    "podi.train()\n",
    "\n",
    "# predicting the desired values with inputs\n",
    "values = podi.predict_values(xv)\n",
    "variances = podi.predict_variances(xv)\n",
    "derivatives = podi.predict_derivatives(xv, kx=0)"
   ]
  },
  {
   "cell_type": "markdown",
   "metadata": {
    "id": "XV0z5R4uet2L"
   },
   "source": [
    "### Results for an input $x_*$ not used for the training"
   ]
  },
  {
   "cell_type": "code",
   "execution_count": 6,
   "metadata": {
    "colab": {
     "base_uri": "https://localhost:8080/",
     "height": 216
    },
    "executionInfo": {
     "elapsed": 233,
     "status": "error",
     "timestamp": 1715761207370,
     "user": {
      "displayName": "HUGO R",
      "userId": "03990053277838011550"
     },
     "user_tz": -120
    },
    "id": "FisVBZ0MVDw7",
    "outputId": "877005e0-95ca-4345-fab2-f88425a3014d"
   },
   "outputs": [
    {
     "data": {
      "image/png": "[encoded data removed]",
      "text/plain": [
       "<Figure size 800x500 with 1 Axes>"
      ]
     },
     "metadata": {},
     "output_type": "display_data"
    }
   ],
   "source": [
    "# Choosing a value from the validation inputs\n",
    "i = nv // 2\n",
    "\n",
    "diff = dbv[:, i] - values[:, i]\n",
    "rms_error = np.sqrt(np.mean(diff**2))\n",
    "plt.figure(figsize=(8, 5))\n",
    "light_pink = np.array((250, 233, 232)) / 255\n",
    "plt.fill_between(\n",
    "    np.ravel(y),\n",
    "    np.ravel(values[:, i] - 3 * np.sqrt(variances[:, i])),\n",
    "    np.ravel(values[:, i] + 3 * np.sqrt(variances[:, i])),\n",
    "    color=light_pink,\n",
    "    label=\"confiance interval (99%)\",\n",
    ")\n",
    "plt.scatter(\n",
    "    y,\n",
    "    values[:, i],\n",
    "    color=\"r\",\n",
    "    marker=\"x\",\n",
    "    s=15,\n",
    "    alpha=1.0,\n",
    "    label=\"prediction (mean)\",\n",
    ")\n",
    "plt.scatter(\n",
    "    y,\n",
    "    dbv[:, i],\n",
    "    color=\"b\",\n",
    "    marker=\"*\",\n",
    "    s=5,\n",
    "    alpha=1.0,\n",
    "    label=\"reference\",\n",
    ")\n",
    "plt.plot([], [], color=\"w\", label=\"rmse = \" + str(round(rms_error, 9)))\n",
    "\n",
    "ax = plt.gca()\n",
    "ax.axes.xaxis.set_visible(False)\n",
    "\n",
    "plt.ylabel(\"u(x = \" + str(xv[i, 0])[:4] + \")\")\n",
    "plt.title(\"Estimation of u at x = \" + str(xv[i, 0])[:4])\n",
    "plt.legend()\n",
    "plt.show()"
   ]
  },
  {
   "cell_type": "markdown",
   "metadata": {},
   "source": [
    "# POD errors\n",
    "---\n",
    "\n",
    "During the computing of the POD, several numerical errors appear:\n",
    "\n",
    "## Projection error:\n",
    "\n",
    "After the SVD step, the $\\alpha_i$ coefficients are calculated with the projection equation:\n",
    "\n",
    "$$\n",
    "\tA\\approx \\Phi^T.(S-U_0)\n",
    "$$\n",
    "Because of the approximation, there is a difference between the computed $\\alpha_i$ and the actual coefficients. This is the projection error.\n",
    "\n",
    "## Interpolation error:\n",
    "\n",
    "When the $\\alpha_i$ coefficients are computed for the training values $x_1,\\dots,x_k,\\dots,x_N$, an interpolation of these values is made by the surrogate models to calculate an estimation $\\hat\\alpha_i(x_*)$. This prediction is different from the actual values $\\alpha_i(x_*)$. It corresponds to the interpolation error.\n",
    "\n",
    "## Total error:\n",
    "\n",
    "The accumulation of the projection and the interpolation leads to the total error."
   ]
  },
  {
   "cell_type": "markdown",
   "metadata": {},
   "source": [
    "### Computing the POD errors\n",
    "Please note that the computation times are very long for the POD errors"
   ]
  },
  {
   "cell_type": "code",
   "execution_count": null,
   "metadata": {},
   "outputs": [],
   "source": [
    "[interp_error, proj_error, tot_error] = podi.compute_pod_errors(xt=xt, database=dbt)\n",
    "print(\"interpolation error\", interp_error)\n",
    "print(\"projection error\", proj_error)\n",
    "print(\"total error\", tot_error)"
   ]
  },
  {
   "cell_type": "markdown",
   "metadata": {},
   "source": [
    "# Local POD\n",
    "---\n",
    "In the last parts, the POD equation was:\n",
    "$$\n",
    "\tu({\\mathbf x})=u_0 + \\sum_{i=1}^{M} \\alpha_i(\\mathbf x)\\phi_i\n",
    "$$\n",
    "In the first part, the $\\phi_i$ vectors are independents of $\\mathbf{x}=(\\mathbf{x_1},\\dots,\\mathbf{x_N})$. It was a $global$ POD: the POD basis is the same for every snapshot.\n",
    "\n",
    "Here is the local POD equation:\n",
    "$$\n",
    "\tu({\\mathbf x})=u_0 + \\sum_{i=1}^{M} \\alpha_i(\\mathbf x)\\phi_i(\\mathbf x^{(j)})\n",
    "$$\n",
    "Where $x^{(j)}$ is the j-th element of $x_1,\\dots,x_N$\n",
    "\n",
    "In this version of the POD, the $\\phi_i$ vectors depend of the $\\mathbf x_j$ values of $\\mathbf x$.\n"
   ]
  },
  {
   "cell_type": "markdown",
   "metadata": {},
   "source": [
    "# 2D test function for local bases"
   ]
  },
  {
   "cell_type": "code",
   "execution_count": null,
   "metadata": {},
   "outputs": [],
   "source": [
    "# defining the 1D-test fuction\n",
    "\n",
    "p = 100\n",
    "y = np.linspace(-1, 1, p)\n",
    "n_modes_test = 10\n",
    "\n",
    "\n",
    "def function_test_2d_local(x, y, n_modes_test, p):\n",
    "    def cos_coeff_nd(i: int, x: np.ndarray):\n",
    "        a = 2 * i % 2 - 1\n",
    "        return a * sum(x.T) * np.cos(i * sum(x.T))\n",
    "\n",
    "    def Legendre(i: int, y: np.ndarray):\n",
    "        return special.legendre(i)(y)\n",
    "\n",
    "    def gram_schmidt(input_array: np.ndarray) -> np.ndarray:\n",
    "        \"\"\"To perform the  Gram-Schmidt's algorithm.\"\"\"\n",
    "\n",
    "        basis = np.zeros_like(input_array)\n",
    "        for i in range(len(input_array)):\n",
    "            basis[i] = input_array[i]\n",
    "            for j in range(i):\n",
    "                basis[i] -= (\n",
    "                    np.dot(input_array[i], basis[j])\n",
    "                    / np.dot(basis[j], basis[j])\n",
    "                    * basis[j]\n",
    "                )\n",
    "            basis[i] /= np.linalg.norm(basis[i])\n",
    "        return basis\n",
    "\n",
    "    u0 = np.zeros((p, 1))\n",
    "\n",
    "    alpha = np.zeros((x.shape[0], n_modes_test))\n",
    "    for i in range(n_modes_test):\n",
    "        alpha[:, i] = cos_coeff_nd(i, x)\n",
    "\n",
    "    V_init = np.zeros((p, n_modes_test))\n",
    "    for i in range(n_modes_test):\n",
    "        V_init[:, i] = Legendre(i, y)\n",
    "\n",
    "    V = gram_schmidt(V_init.T).T\n",
    "    database = u0 + np.dot(V, alpha.T)\n",
    "\n",
    "    return database\n",
    "\n",
    "\n",
    "seed = 42\n",
    "xlimits = [[0, 1], [0, 4]]\n",
    "sampling_x1 = LHS(xlimits=np.array([xlimits[0]]), random_state=seed)\n",
    "sampling_x2 = LHS(xlimits=np.array([xlimits[1]]), random_state=seed + 1)\n",
    "\n",
    "nt1 = 25\n",
    "nt2 = 10\n",
    "nt = nt1 * nt2\n",
    "xt1 = sampling_x1(nt1)\n",
    "xt2 = sampling_x2(nt)\n",
    "xt = np.zeros((nt, 2))\n",
    "xt[:, 1] = xt2[:, 0]\n",
    "for i, elt in enumerate(xt1):\n",
    "    xt[i * nt2 : (i + 1) * nt2, 0] = elt\n",
    "\n",
    "sampling_new = LHS(xlimits=np.array(xlimits), random_state=seed)\n",
    "\n",
    "nv = 15\n",
    "xv = sampling_new(nv)\n",
    "xv1 = np.atleast_2d(xv[:, 0]).T\n",
    "x = np.concatenate((xt, xv))\n",
    "\n",
    "dbfull = function_test_2d_local(x, y, n_modes_test, p)\n",
    "\n",
    "# Training data\n",
    "dbt = dbfull[:, :nt]\n",
    "\n",
    "# Validation data\n",
    "dbv = dbfull[:, nt:]"
   ]
  },
  {
   "cell_type": "markdown",
   "metadata": {},
   "source": [
    "## View of the DoE in 2D:"
   ]
  },
  {
   "cell_type": "code",
   "execution_count": null,
   "metadata": {},
   "outputs": [],
   "source": [
    "plt.figure(figsize=(10, 8))\n",
    "axes = plt.gca()\n",
    "axes.tick_params(axis=\"x\", labelsize=14)\n",
    "axes.tick_params(axis=\"y\", labelsize=14)\n",
    "plt.scatter(xt[:, 1], xt[:, 0], marker=\"x\", label=\"Training points\", color=\"g\")\n",
    "plt.scatter(xv[:, 1], xv[:, 0], marker=\"*\", label=\"Validation points\", color=\"r\")\n",
    "plt.xlabel(r\"$x^{(2)}$\", fontsize=18)\n",
    "plt.ylabel(r\"$x^{(1)}$\", fontsize=18)\n",
    "plt.legend(loc=\"lower left\", fontsize=14)\n",
    "plt.show()"
   ]
  },
  {
   "cell_type": "markdown",
   "metadata": {},
   "source": [
    "### Computing of the local bases corresponding to each line of the DoE:"
   ]
  },
  {
   "cell_type": "code",
   "execution_count": null,
   "metadata": {},
   "outputs": [],
   "source": [
    "tol = 0.9999  # SVD tolerance for each line's POD basis\n",
    "local_pod_bases = []  # list of each line's POD bases\n",
    "n_modes_list = []\n",
    "\n",
    "podi = PODI()\n",
    "for i in range(nt1):\n",
    "    db_loc = dbt[:, i * nt2 : (i + 1) * nt2]\n",
    "    podi.compute_pod(db_loc, pod_type=\"global\", n_modes=min(db_loc.shape), seed=i)\n",
    "    ev_list = podi.get_ev_list()\n",
    "\n",
    "    n_modes = PODI.choice_n_modes_tol(ev_list, tol)\n",
    "    n_modes_list.append(n_modes)\n",
    "\n",
    "    local_basis = podi.get_basis()\n",
    "    local_pod_bases.append(local_basis)"
   ]
  },
  {
   "cell_type": "markdown",
   "metadata": {},
   "source": [
    "### For each validation point, estimation of the interpolated basis at $x^{(1)}$"
   ]
  },
  {
   "cell_type": "code",
   "execution_count": null,
   "metadata": {},
   "outputs": [],
   "source": [
    "# Function that choose the 'n_bases' closest bases (closest value of x^(1))\n",
    "# and use 'interp_subspaces' to estimate a new basis\n",
    "n_bases = 10\n",
    "\n",
    "\n",
    "def choose_local_bases(local_pod_bases, n_bases, modes_list):\n",
    "    interpolated_bases = []\n",
    "    keep_index_list = []\n",
    "    max_modes_list = []\n",
    "\n",
    "    for value in xv1:\n",
    "        sorted_ind = sorted(\n",
    "            range(xt1.shape[0]), key=lambda k: abs(xt1[:, 0] - value)[k]\n",
    "        )\n",
    "        keep_index = sorted_ind[:n_bases]\n",
    "        keep_index_list.append(keep_index)\n",
    "        input_matrices = []\n",
    "        keep_xt1 = []\n",
    "        max_modes = max(modes_list[keep_index])\n",
    "        max_modes_list.append(max_modes)\n",
    "        for i in keep_index:\n",
    "            input_matrices.append(local_pod_bases[i][:, :max_modes])\n",
    "            keep_xt1.append(xt1[i, 0])\n",
    "        basis = PODI.interp_subspaces(\n",
    "            xt1=np.atleast_2d(keep_xt1).T,\n",
    "            input_matrices=input_matrices,\n",
    "            xn1=np.atleast_2d(value),\n",
    "            frechet=True,\n",
    "            print_global=False,\n",
    "        )\n",
    "        interpolated_bases.append(basis[0])\n",
    "    return interpolated_bases, keep_index_list\n",
    "\n",
    "\n",
    "interpolated_bases, keep_index_list = choose_local_bases(\n",
    "    local_pod_bases, n_bases=n_bases, modes_list=np.array(n_modes_list)\n",
    ")"
   ]
  },
  {
   "cell_type": "markdown",
   "metadata": {},
   "source": [
    "### Computing the POD for a specific validation point"
   ]
  },
  {
   "cell_type": "code",
   "execution_count": null,
   "metadata": {},
   "outputs": [],
   "source": [
    "# Choosing a value from the validation inputs\n",
    "i = 0\n",
    "\n",
    "podi = PODI()\n",
    "j = []\n",
    "for ind in keep_index_list[i]:\n",
    "    j += list(range(ind * nt2, (ind + 1) * nt2))\n",
    "podi.compute_pod(\n",
    "    database=dbt[:, j], pod_type=\"local\", local_basis=interpolated_bases[i]\n",
    ")\n",
    "n_modes = podi.get_n_modes()\n",
    "print(f\"{n_modes} modes were kept.\")"
   ]
  },
  {
   "cell_type": "markdown",
   "metadata": {},
   "source": [
    "### Setting the models"
   ]
  },
  {
   "cell_type": "code",
   "execution_count": null,
   "metadata": {},
   "outputs": [],
   "source": [
    "# Choosing the default interp options\n",
    "# Setting the training values\n",
    "podi.set_training_values(xt=np.atleast_2d(xt[j]))\n",
    "\n",
    "# Training the models\n",
    "podi.train()\n",
    "\n",
    "# predicting the desired values with inputs\n",
    "values = podi.predict_values(np.atleast_2d(xv[i]))"
   ]
  },
  {
   "cell_type": "markdown",
   "metadata": {},
   "source": [
    "### Showing the results"
   ]
  },
  {
   "cell_type": "code",
   "execution_count": null,
   "metadata": {},
   "outputs": [],
   "source": [
    "diff = dbv[:, i] - values[:, 0]\n",
    "\n",
    "rms_error = np.sqrt(np.mean(diff**2))\n",
    "plt.figure(figsize=(8, 5))\n",
    "light_pink = np.array((250, 233, 232)) / 255\n",
    "plt.scatter(\n",
    "    y,\n",
    "    values,\n",
    "    color=\"r\",\n",
    "    marker=\"x\",\n",
    "    s=15,\n",
    "    alpha=1.0,\n",
    "    label=\"prediction (mean)\",\n",
    ")\n",
    "plt.scatter(\n",
    "    y,\n",
    "    dbv[:, i],\n",
    "    color=\"b\",\n",
    "    marker=\"*\",\n",
    "    s=5,\n",
    "    alpha=1.0,\n",
    "    label=\"reference\",\n",
    ")\n",
    "plt.plot([], [], color=\"w\", label=\"rmse = \" + str(round(rms_error, 5)))\n",
    "\n",
    "ax = plt.gca()\n",
    "ax.axes.xaxis.set_visible(False)\n",
    "\n",
    "plt.ylabel(\"u(x = \" + str(xv[i, 0])[:4] + \")\")\n",
    "plt.title(f\"Estimation of u at x = ({str(xv[i, 0])[:4]}, {str(xv[i, 1])[:4]})\")\n",
    "plt.legend()\n",
    "plt.show()"
   ]
  }
 ],
 "metadata": {
  "celltoolbar": "Diaporama",
  "colab": {
   "provenance": []
  },
  "kernelspec": {
   "display_name": "Python 3 (ipykernel)",
   "language": "python",
   "name": "python3"
  },
  "language_info": {
   "codemirror_mode": {
    "name": "ipython",
    "version": 3
   },
   "file_extension": ".py",
   "mimetype": "text/x-python",
   "name": "python",
   "nbconvert_exporter": "python",
   "pygments_lexer": "ipython3",
   "version": "3.9.18"
  }
 },
 "nbformat": 4,
 "nbformat_minor": 1
}
