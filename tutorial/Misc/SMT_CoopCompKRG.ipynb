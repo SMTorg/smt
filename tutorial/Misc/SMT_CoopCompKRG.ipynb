{
 "cells": [
  {
   "cell_type": "markdown",
   "metadata": {
    "id": "sX_xa_km0aTb"
   },
   "source": [
    "<a href=\"https://colab.research.google.com/github/SMTorg/smt/blob/master/tutorial/SMT_CoopCompKRG_tutorial.ipynb\" target=\"_blank\" rel=\"nofollow\"><img src=\"https://colab.research.google.com/assets/colab-badge.svg\" alt=\"Open In Colab\"></a>"
   ]
  },
  {
   "cell_type": "markdown",
   "metadata": {
    "id": "WRJEgfLvloFn"
   },
   "source": [
    "<div class=\"jumbotron text-left\"><b>\n",
    "This tutorial describes how to use the SMT Cooperative Component Kriging and to compare the results in terms of accuracy and time with KRG and KPLS models.</b></div>\n",
    "\n",
    "Lisa Pretsh TUM / MTU Engines\n",
    "\n",
    "Nathalie BARTOLI ONERA/DTIS/M2CI\n",
    "\n",
    "September 2024 based on `SMT 2.6.3 version`"
   ]
  },
  {
   "cell_type": "code",
   "execution_count": 3,
   "metadata": {
    "id": "WhLEvW0VxMbB"
   },
   "outputs": [],
   "source": [
    "import numpy as np\n",
    "import random\n",
    "\n",
    "from smt.problems import TensorProduct\n",
    "from smt.sampling_methods import LHS\n",
    "from smt.surrogate_models import KRG\n",
    "from smt.applications import CoopCompKRG\n",
    "from smt.surrogate_models import KPLS\n",
    "from smt.utils.misc import compute_relative_error\n",
    "\n",
    "\n",
    "try:\n",
    "    import matplotlib.pyplot as plt\n",
    "\n",
    "    plot_status = True\n",
    "except Exception:\n",
    "    plot_status = False"
   ]
  },
  {
   "cell_type": "code",
   "execution_count": 4,
   "metadata": {
    "colab": {
     "base_uri": "https://localhost:8080/"
    },
    "id": "ZagBQy-szHe8",
    "outputId": "1d1660a6-8e61-4d52-b074-2654db1217da"
   },
   "outputs": [
    {
     "name": "stdout",
     "output_type": "stream",
     "text": [
      "Exact value of the point [[1.64872127]]\n"
     ]
    }
   ],
   "source": [
    "# The problem is the exponential problem with dimension 10\n",
    "ndim = 10\n",
    "prob = TensorProduct(ndim=ndim, func=\"exp\")\n",
    "\n",
    "# Initial sampling\n",
    "samp = LHS(xlimits=prob.xlimits, random_state=42)\n",
    "np.random.seed(0)\n",
    "xt = samp(100)\n",
    "yt = prob(xt)\n",
    "np.random.seed(1)\n",
    "\n",
    "# Chosen point to compare the different models\n",
    "xpoint = (-5 + np.array([[1, 2, 3, 4, 5, 6, 7, 8, 9, 10]])) / 10.0\n",
    "ypoint = prob(xpoint)\n",
    "print(\"Exact value of the point\", ypoint)"
   ]
  },
  {
   "cell_type": "code",
   "execution_count": 5,
   "metadata": {
    "colab": {
     "base_uri": "https://localhost:8080/"
    },
    "id": "349_7fYdnDl5",
    "outputId": "421ed1af-ef0c-4702-894d-6bac52c7d0b6"
   },
   "outputs": [
    {
     "name": "stdout",
     "output_type": "stream",
     "text": [
      "___________________________________________________________________________\n",
      "   \n",
      "                      Cooperative Components Kriging\n",
      "___________________________________________________________________________\n",
      "   \n",
      " Problem size\n",
      "   \n",
      "      # training points.        : 100\n",
      "   \n",
      "___________________________________________________________________________\n",
      "   \n",
      " Training\n",
      "   \n",
      "   Training ...\n",
      "   Training - done. Time (sec):  0.6224866\n",
      "___________________________________________________________________________\n",
      "   \n",
      "                      Cooperative Components Kriging\n",
      "___________________________________________________________________________\n",
      "   \n",
      " Problem size\n",
      "   \n",
      "      # training points.        : 100\n",
      "   \n",
      "___________________________________________________________________________\n",
      "   \n",
      " Training\n",
      "   \n",
      "   Training ...\n",
      "   Training - done. Time (sec):  0.6016431\n",
      "___________________________________________________________________________\n",
      "   \n",
      "                      Cooperative Components Kriging\n",
      "___________________________________________________________________________\n",
      "   \n",
      " Problem size\n",
      "   \n",
      "      # training points.        : 100\n",
      "   \n",
      "___________________________________________________________________________\n",
      "   \n",
      " Training\n",
      "   \n",
      "   Training ...\n",
      "   Training - done. Time (sec):  1.0041189\n",
      "___________________________________________________________________________\n",
      "   \n",
      " Evaluation\n",
      "   \n",
      "      # eval points. : 1\n",
      "   \n",
      "   Predicting ...\n",
      "   Predicting - done. Time (sec):  0.0009823\n",
      "   \n",
      "   Prediction time/pt. (sec) :  0.0009823\n",
      "   \n",
      "Value at the chosen point [[2.73562197]]\n",
      "Variance at the chosen point [[5.61040377]]\n"
     ]
    }
   ],
   "source": [
    "## CoopCompKRG model\n",
    "\n",
    "# Example with three random components\n",
    "# (use physical components if available)\n",
    "ncomp = 3\n",
    "\n",
    "# Random design variable to component allocation\n",
    "comps = [*range(ncomp)]\n",
    "vars = [*range(ndim)]\n",
    "random.shuffle(vars)\n",
    "comp_var = np.full((ndim, ncomp), False)\n",
    "for c in comps:\n",
    "    comp_size = int(ndim / ncomp)\n",
    "    start = c * comp_size\n",
    "    end = (c + 1) * comp_size\n",
    "    if c + 1 == ncomp:\n",
    "        end = max((c + 1) * comp_size, ndim)\n",
    "    comp_var[vars[start:end], c] = True\n",
    "\n",
    "# Cooperative components Kriging model fit\n",
    "sm1 = CoopCompKRG()\n",
    "for active_coop_comp in comps:\n",
    "    sm1.set_training_values(xt, yt)\n",
    "    sm1.train(active_coop_comp, comp_var)\n",
    "\n",
    "\n",
    "# Prediction as for ordinary Kriging at the chosen point\n",
    "print(\"Value at the chosen point\", sm1.predict_values(xpoint))\n",
    "print(\"Variance at the chosen point\", sm1.predict_variances(xpoint))"
   ]
  },
  {
   "cell_type": "code",
   "execution_count": 6,
   "metadata": {
    "colab": {
     "base_uri": "https://localhost:8080/"
    },
    "id": "k1-Vun1xxIkj",
    "outputId": "c6bfbc26-d1a5-47fc-b324-0daca33a3d77"
   },
   "outputs": [
    {
     "name": "stdout",
     "output_type": "stream",
     "text": [
      "___________________________________________________________________________\n",
      "   \n",
      "                                  Kriging\n",
      "___________________________________________________________________________\n",
      "   \n",
      " Problem size\n",
      "   \n",
      "      # training points.        : 100\n",
      "   \n",
      "___________________________________________________________________________\n",
      "   \n",
      " Training\n",
      "   \n",
      "   Training ...\n",
      "   Training - done. Time (sec): 153.9461408\n",
      "___________________________________________________________________________\n",
      "   \n",
      " Evaluation\n",
      "   \n",
      "      # eval points. : 1\n",
      "   \n",
      "   Predicting ...\n",
      "   Predicting - done. Time (sec):  0.0008056\n",
      "   \n",
      "   Prediction time/pt. (sec) :  0.0008056\n",
      "   \n",
      "Value at the chosen point [[1.68590841]]\n",
      "Variance at the chosen point [[5.0590101]]\n"
     ]
    }
   ],
   "source": [
    "# Ordinary Kriging model fit\n",
    "sm2 = KRG()\n",
    "sm2.set_training_values(xt, yt)\n",
    "sm2.train()\n",
    "\n",
    "# Prediction for ordinary Kriging\n",
    "print(\"Value at the chosen point\", sm2.predict_values(xpoint))\n",
    "print(\"Variance at the chosen point\", sm2.predict_variances(xpoint))"
   ]
  },
  {
   "cell_type": "code",
   "execution_count": 7,
   "metadata": {
    "colab": {
     "base_uri": "https://localhost:8080/"
    },
    "id": "9Ph86NhZE3sG",
    "outputId": "11a6045c-36d0-46d7-8675-d08f9c68bdeb"
   },
   "outputs": [
    {
     "name": "stdout",
     "output_type": "stream",
     "text": [
      "___________________________________________________________________________\n",
      "   \n",
      "                                   KPLS\n",
      "___________________________________________________________________________\n",
      "   \n",
      " Problem size\n",
      "   \n",
      "      # training points.        : 100\n",
      "   \n",
      "___________________________________________________________________________\n",
      "   \n",
      " Training\n",
      "   \n",
      "   Training ...\n",
      "   Training - done. Time (sec): 12.4815655\n",
      "\n",
      " The model automatically choose 1 components.\n",
      "___________________________________________________________________________\n",
      "   \n",
      " Evaluation\n",
      "   \n",
      "      # eval points. : 1\n",
      "   \n",
      "   Predicting ...\n",
      "   Predicting - done. Time (sec):  0.0007126\n",
      "   \n",
      "   Prediction time/pt. (sec) :  0.0007126\n",
      "   \n",
      "Value at the chosen point [[1.94220412]]\n",
      "Variance at the chosen point [[7.69820055]]\n"
     ]
    }
   ],
   "source": [
    "# KPLS model fit\n",
    "sm3 = KPLS(eval_n_comp=True)\n",
    "sm3.set_training_values(xt, yt)\n",
    "sm3.train()\n",
    "\n",
    "## The model automatically choose a dimension of 3\n",
    "ncomp = sm3.options[\"n_comp\"]\n",
    "print(\"\\n The model automatically choose \" + str(ncomp) + \" components.\")\n",
    "\n",
    "## You can predict a 10-dimension point from the 3-dimensional model\n",
    "print(\"Value at the chosen point\", sm3.predict_values(xpoint))\n",
    "print(\"Variance at the chosen point\", sm3.predict_variances(xpoint))"
   ]
  },
  {
   "cell_type": "code",
   "execution_count": 11,
   "metadata": {
    "colab": {
     "base_uri": "https://localhost:8080/",
     "height": 1000
    },
    "id": "fve_flCpqfof",
    "outputId": "05c278fa-44e1-4a0d-85b2-3df885312cdc"
   },
   "outputs": [
    {
     "name": "stdout",
     "output_type": "stream",
     "text": [
      "___________________________________________________________________________\n",
      "   \n",
      " Evaluation\n",
      "   \n",
      "      # eval points. : 200\n",
      "   \n",
      "   Predicting ...\n",
      "   Predicting - done. Time (sec):  0.0054009\n",
      "   \n",
      "   Prediction time/pt. (sec) :  0.0000270\n",
      "   \n",
      "___________________________________________________________________________\n",
      "   \n",
      " Evaluation\n",
      "   \n",
      "      # eval points. : 200\n",
      "   \n",
      "   Predicting ...\n",
      "   Predicting - done. Time (sec):  0.0150983\n",
      "   \n",
      "   Prediction time/pt. (sec) :  0.0000755\n",
      "   \n",
      "___________________________________________________________________________\n",
      "   \n",
      " Evaluation\n",
      "   \n",
      "      # eval points. : 200\n",
      "   \n",
      "   Predicting ...\n",
      "   Predicting - done. Time (sec):  0.0040119\n",
      "   \n",
      "   Prediction time/pt. (sec) :  0.0000201\n",
      "   \n",
      "___________________________________________________________________________\n",
      "   \n",
      " Evaluation\n",
      "   \n",
      "      # eval points. : 200\n",
      "   \n",
      "   Predicting ...\n",
      "   Predicting - done. Time (sec):  0.0098968\n",
      "   \n",
      "   Prediction time/pt. (sec) :  0.0000495\n",
      "   \n",
      "___________________________________________________________________________\n",
      "   \n",
      " Evaluation\n",
      "   \n",
      "      # eval points. : 200\n",
      "   \n",
      "   Predicting ...\n",
      "   Predicting - done. Time (sec):  0.0068526\n",
      "   \n",
      "   Prediction time/pt. (sec) :  0.0000343\n",
      "   \n",
      "___________________________________________________________________________\n",
      "   \n",
      " Evaluation\n",
      "   \n",
      "      # eval points. : 200\n",
      "   \n",
      "   Predicting ...\n",
      "   Predicting - done. Time (sec):  0.0043223\n",
      "   \n",
      "   Prediction time/pt. (sec) :  0.0000216\n",
      "   \n"
     ]
    },
    {
     "data": {
      "image/png": "[encoded data removed]",
      "text/plain": [
       "<Figure size 640x480 with 1 Axes>"
      ]
     },
     "metadata": {},
     "output_type": "display_data"
    },
    {
     "name": "stdout",
     "output_type": "stream",
     "text": [
      "KRG,  err:  0.8524258046624922\n",
      "CoopCompKriging,  err:  0.8524258046624922\n",
      "KPLS,  err:  0.6046822143410051\n"
     ]
    }
   ],
   "source": [
    "# Construction of the validation points to plot the different model predictions\n",
    "ntest = 200\n",
    "sampling = LHS(xlimits=prob.xlimits, random_state=41)\n",
    "xtest = sampling(ntest)\n",
    "ytest = prob(xtest)\n",
    "\n",
    "\n",
    "# Prediction of the validation points\n",
    "y1 = sm1.predict_values(xtest)\n",
    "\n",
    "# estimated variance for the validation points\n",
    "s2 = sm1.predict_variances(xtest)\n",
    "# plot with the associated interval confidence\n",
    "yerr1 = (\n",
    "    2 * 3 * np.sqrt(s2)\n",
    ")  # in order to use +/- 3 x standard deviation: 99% confidence interval estimation\n",
    "\n",
    "# Prediction of the validation points\n",
    "y2 = sm2.predict_values(xtest)\n",
    "\n",
    "# estimated variance for the validation points\n",
    "s22 = sm2.predict_variances(xtest)\n",
    "# plot with the associated interval confidence\n",
    "yerr2 = (\n",
    "    2 * 3 * np.sqrt(s22)\n",
    ")  # in order to use +/- 3 x standard deviation: 99% confidence interval estimation\n",
    "\n",
    "# Prediction of the validation points\n",
    "y3 = sm3.predict_values(xtest)\n",
    "\n",
    "# estimated variance for the validation points\n",
    "s23 = sm3.predict_variances(xtest)\n",
    "# plot with the associated interval confidence\n",
    "yerr3 = (\n",
    "    2 * 3 * np.sqrt(s23)\n",
    ")  # in order to use +/- 3 x standard deviation: 99% confidence interval estimation\n",
    "\n",
    "err1 = compute_relative_error(sm2, xtest, ytest)\n",
    "err2 = compute_relative_error(sm2, xtest, ytest)\n",
    "err3 = compute_relative_error(sm3, xtest, ytest)\n",
    "\n",
    "\n",
    "if plot_status:\n",
    "    # Plot the function, the prediction and the 99% confidence interval based on\n",
    "    # the MSE\n",
    "    fig = plt.figure()\n",
    "    plt.plot(ytest, ytest, \"k-\", label=\"$y_{true}$\")\n",
    "    plt.plot(ytest, y1, \"r.\", label=r\"$\\hat{y} CoopCompKRG$\")\n",
    "    plt.plot(ytest, y2, \"g+\", label=r\"$\\hat{y} KRG$\")\n",
    "    plt.plot(ytest, y3, \"bx\", label=r\"$\\hat{y} KPLS$\")\n",
    "    plt.errorbar(\n",
    "        np.squeeze(ytest),\n",
    "        np.squeeze(y1),\n",
    "        yerr=np.squeeze(yerr1),\n",
    "        fmt=\"none\",\n",
    "        capsize=5,\n",
    "        ecolor=\"lightcoral\",\n",
    "        elinewidth=1,\n",
    "        capthick=0.5,\n",
    "        label=\"confidence estimate 99%\",\n",
    "    )\n",
    "    plt.errorbar(\n",
    "        np.squeeze(ytest),\n",
    "        np.squeeze(y2),\n",
    "        yerr=np.squeeze(yerr2),\n",
    "        fmt=\"none\",\n",
    "        capsize=5,\n",
    "        ecolor=\"lightgreen\",\n",
    "        elinewidth=1,\n",
    "        capthick=0.5,\n",
    "        label=\"confidence estimate 99%\",\n",
    "    )\n",
    "    plt.errorbar(\n",
    "        np.squeeze(ytest),\n",
    "        np.squeeze(y3),\n",
    "        yerr=np.squeeze(yerr3),\n",
    "        fmt=\"none\",\n",
    "        capsize=5,\n",
    "        ecolor=\"lightblue\",\n",
    "        elinewidth=1,\n",
    "        capthick=0.5,\n",
    "        label=\"confidence estimate 99%\",\n",
    "    )\n",
    "    plt.xlabel(\"$y_{true}$\")\n",
    "    plt.ylabel(r\"$\\hat{y}$\")\n",
    "\n",
    "    plt.legend(loc=\"upper left\")\n",
    "    plt.title(\n",
    "        \"Kriging model: validation of the prediction model with the estimate of confidence\"\n",
    "    )\n",
    "\n",
    "if plot_status:\n",
    "    plt.show()\n",
    "\n",
    "print(\"KRG,  err: \", err2)\n",
    "print(\"CoopCompKriging,  err: \", err1)\n",
    "print(\"KPLS,  err: \", err3)"
   ]
  },
  {
   "cell_type": "code",
   "execution_count": null,
   "metadata": {
    "id": "j6FTJMuu_7vQ"
   },
   "outputs": [],
   "source": []
  }
 ],
 "metadata": {
  "colab": {
   "provenance": []
  },
  "kernelspec": {
   "display_name": "Python 3 (ipykernel)",
   "language": "python",
   "name": "python3"
  },
  "language_info": {
   "codemirror_mode": {
    "name": "ipython",
    "version": 3
   },
   "file_extension": ".py",
   "mimetype": "text/x-python",
   "name": "python",
   "nbconvert_exporter": "python",
   "pygments_lexer": "ipython3",
   "version": "3.11.5"
  }
 },
 "nbformat": 4,
 "nbformat_minor": 1
}
