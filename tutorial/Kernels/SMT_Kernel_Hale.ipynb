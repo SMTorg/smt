{
 "cells": [
  {
   "cell_type": "code",
   "execution_count": 1,
   "metadata": {
    "colab": {
     "base_uri": "https://localhost:8080/"
    },
    "id": "uONgfNQE47mW",
    "outputId": "428e939e-f623-4374-da73-2928249dcc26"
   },
   "outputs": [],
   "source": [
    "# !pip install git+https://github.com/SMTOrg/smt.git"
   ]
  },
  {
   "cell_type": "markdown",
   "metadata": {
    "id": "Dbx77-7A4zak"
   },
   "source": [
    "\n",
    "<a href=\"https://colab.research.google.com/github/SMTorg/smt/blob/master/tutorial/Kernels/SMT_Kernel_Hale.ipynb\" target=\"_parent\"><img src=\"https://colab.research.google.com/assets/colab-badge.svg\" alt=\"Open In Colab\"/></a>"
   ]
  },
  {
   "cell_type": "markdown",
   "metadata": {
    "id": "h6dgDHnS4zal"
   },
   "source": [
    "<div class=\"jumbotron text-left\"><b>\n",
    "\n",
    "This tutorial describes how to use Kernels, as in Gaussian Process (GP).\n",
    "    \n",
    "GP with kernel engineering is applied here to predict a Wing Displacement response to gusts perturbations.\n",
    "\n",
    "</div>\n",
    "\n",
    "Nicolas GONEL, Paul SAVES  ONERA/DTIS/M2CI\n",
    "    \n",
    "Joseph MORLIER ISAE-SUPAERO,ICA\n",
    "    \n",
    "\n",
    "February 2025 - `SMT version 2.9.0`\n",
    "</b>"
   ]
  },
  {
   "cell_type": "markdown",
   "metadata": {
    "id": "OjdJXJq_4zam"
   },
   "source": [
    "<p class=\"alert alert-success\" style=\"padding:1em\">\n",
    "To use SMT, please follow this link : https://github.com/SMTorg/SMT/blob/master/README.md. The documentation is available here: http://smt.readthedocs.io/en/latest/\n",
    "</p>\n",
    "\n",
    "The reference paper for Kernels is available\n",
    "here hhttps://www.sciencedirect.com/journal/advances-in-engineering-software/vol/188/suppl/C"
   ]
  },
  {
   "cell_type": "markdown",
   "metadata": {
    "id": "cjEyHYxN4zan"
   },
   "source": [
    "<p class=\"alert alert-warning\" style=\"padding:1em\">\n",
    "To use Kernels function from SMT, please refer to the dedicated notebook: SMT_Kernel_tutorial.ipynb\n",
    "</p>"
   ]
  },
  {
   "cell_type": "code",
   "execution_count": 2,
   "metadata": {},
   "outputs": [],
   "source": [
    "# %pip install smt"
   ]
  },
  {
   "cell_type": "markdown",
   "metadata": {},
   "source": [
    "#  Wing Displacement response to gusts perturbations\n",
    "In this tutorial, we demonstrate how to predict and extrapolate with GP on real-life data.\n",
    "The aeroelastic aircraft case uses simulations of discrete gust dynamics of a High Altitude Long Endurance (HALE)\n",
    "concept aircraft."
   ]
  },
  {
   "cell_type": "markdown",
   "metadata": {
    "id": "jzqvQGlJ4zan"
   },
   "source": [
    "Reference paper: https://arc.aiaa.org/doi/pdf/10.2514/6.2023-2570  \n",
    "Prediction of Gust Aeroelastic dynamics of HALE using Graph Neural Networks"
   ]
  },
  {
   "cell_type": "code",
   "execution_count": 3,
   "metadata": {
    "id": "IoyAbqST4zan"
   },
   "outputs": [],
   "source": [
    "import numpy as np\n",
    "\n",
    "from smt.kernels import Matern32, SquarSinExp\n",
    "from smt.surrogate_models import KRG\n",
    "import pickle\n",
    "import matplotlib.pyplot as plt"
   ]
  },
  {
   "cell_type": "markdown",
   "metadata": {
    "id": "ueOO3jhf4zao"
   },
   "source": [
    "### Data Loading and Processing for Transonic Airfoil Analysis\n",
    "\n",
    "Data can be loaded here:\n",
    "https://github.com/mcolombo1980/GNNDataset\n",
    "\n",
    "Please unzip data from HALE_50_2st2m_unitloads_tr.zip in the content folder"
   ]
  },
  {
   "cell_type": "code",
   "execution_count": 4,
   "metadata": {
    "id": "VgrjsOib4zap"
   },
   "outputs": [],
   "source": [
    "HALE_DATA_AVAILABLE = False\n",
    "try:\n",
    "    with open(\"content/HALE_50_2st2m_unitloads_tr.pickle\", \"rb\") as pickle_file:\n",
    "        (\n",
    "            nodes_tr,\n",
    "            edges_in_tr,\n",
    "            edges_tar_tr,\n",
    "            globals_tr,\n",
    "            senders,\n",
    "            receivers,\n",
    "            list_tse_raw,\n",
    "        ) = pickle.load(pickle_file)\n",
    "        HALE_DATA_AVAILABLE = True\n",
    "except FileNotFoundError:\n",
    "    print(\"Please download HALE data from https://github.com/mcolombo1980/GNNDataset\")"
   ]
  },
  {
   "cell_type": "markdown",
   "metadata": {
    "id": "-Bca5qbl4zap"
   },
   "source": [
    "## To use Kernel engineering from SMT"
   ]
  },
  {
   "cell_type": "markdown",
   "metadata": {
    "id": "ylluz5rK4zap"
   },
   "source": [
    "### SMT Kernels can be added, multiplied and combined as follows"
   ]
  },
  {
   "cell_type": "code",
   "execution_count": 5,
   "metadata": {
    "id": "r3zsfN7e4zaq"
   },
   "outputs": [],
   "source": [
    "k = SquarSinExp([0.01, 0.01]) * SquarSinExp([0.01, 0.01]) + Matern32([0.01])"
   ]
  },
  {
   "cell_type": "markdown",
   "metadata": {
    "id": "oY20WZoR4zaq"
   },
   "source": [
    "## To use k, the user-defined engineered kernel within a GP"
   ]
  },
  {
   "cell_type": "code",
   "execution_count": null,
   "metadata": {
    "colab": {
     "base_uri": "https://localhost:8080/",
     "height": 906
    },
    "id": "i2TQt7fk4zaq",
    "outputId": "5153e5a7-4f94-4056-b74b-799d594e29a8"
   },
   "outputs": [
    {
     "ename": "NameError",
     "evalue": "name 'nodes_tr' is not defined",
     "output_type": "error",
     "traceback": [
      "\u001b[1;31m---------------------------------------------------------------------------\u001b[0m",
      "\u001b[1;31mNameError\u001b[0m                                 Traceback (most recent call last)",
      "Cell \u001b[1;32mIn[6], line 3\u001b[0m\n\u001b[0;32m      1\u001b[0m \u001b[38;5;28;01mfor\u001b[39;00m i \u001b[38;5;129;01min\u001b[39;00m \u001b[38;5;28mrange\u001b[39m(\u001b[38;5;241m1\u001b[39m, \u001b[38;5;241m2\u001b[39m):\n\u001b[0;32m      2\u001b[0m     \u001b[38;5;28;01mfor\u001b[39;00m j \u001b[38;5;129;01min\u001b[39;00m \u001b[38;5;28mrange\u001b[39m(\u001b[38;5;241m10\u001b[39m, \u001b[38;5;241m11\u001b[39m):\n\u001b[1;32m----> 3\u001b[0m         x_Hale \u001b[38;5;241m=\u001b[39m np\u001b[38;5;241m.\u001b[39marange(\u001b[38;5;241m0\u001b[39m, \u001b[43mnodes_tr\u001b[49m\u001b[38;5;241m.\u001b[39mshape[\u001b[38;5;241m2\u001b[39m] \u001b[38;5;241m/\u001b[39m\u001b[38;5;241m/\u001b[39m \u001b[38;5;241m84\u001b[39m, \u001b[38;5;241m7\u001b[39m)\n\u001b[0;32m      4\u001b[0m         y_Hale \u001b[38;5;241m=\u001b[39m nodes_tr[i, j, x_Hale]\n\u001b[0;32m      5\u001b[0m         sm \u001b[38;5;241m=\u001b[39m KRG(corr\u001b[38;5;241m=\u001b[39mk, noise0\u001b[38;5;241m=\u001b[39m[\u001b[38;5;241m1e-6\u001b[39m], hyper_opt\u001b[38;5;241m=\u001b[39m\u001b[38;5;124m\"\u001b[39m\u001b[38;5;124mCobyla\u001b[39m\u001b[38;5;124m\"\u001b[39m, n_start\u001b[38;5;241m=\u001b[39m\u001b[38;5;241m15\u001b[39m)\n",
      "\u001b[1;31mNameError\u001b[0m: name 'nodes_tr' is not defined"
     ]
    }
   ],
   "source": [
    "if HALE_DATA_AVAILABLE:\n",
    "    for i in range(1, 2):\n",
    "        for j in range(10, 11):\n",
    "            x_Hale = np.arange(0, nodes_tr.shape[2] // 84, 7)\n",
    "            y_Hale = nodes_tr[i, j, x_Hale]\n",
    "            sm = KRG(corr=k, noise0=[1e-6], hyper_opt=\"Cobyla\", n_start=15)\n",
    "            sm.set_training_values(x_Hale, y_Hale)\n",
    "            sm.train()\n",
    "            print(k.theta)\n",
    "\n",
    "            X_test = np.arange(0, nodes_tr.shape[2], 1)\n",
    "            X_test = X_test[:1125]\n",
    "            mean_y_pred = sm.predict_values(X_test)\n",
    "\n",
    "            plt.plot(\n",
    "                X_test, mean_y_pred, color=\"tab:blue\", alpha=0.5, label=\"Periodic GP\"\n",
    "            )\n",
    "\n",
    "            plt.scatter(x_Hale, y_Hale, color=\"g\", label=\"data\")\n",
    "            plt.plot(\n",
    "                X_test,\n",
    "                nodes_tr[i, j, X_test],\n",
    "                color=\"black\",\n",
    "                linestyle=\"dashed\",\n",
    "                alpha=0.3,\n",
    "                label=f\"ref {i} {j}\",\n",
    "            )\n",
    "            plt.legend(loc=\"upper left\")\n",
    "\n",
    "            plt.show()"
   ]
  }
 ],
 "metadata": {
  "colab": {
   "provenance": []
  },
  "kernelspec": {
   "display_name": "base",
   "language": "python",
   "name": "python3"
  },
  "language_info": {
   "codemirror_mode": {
    "name": "ipython",
    "version": 3
   },
   "file_extension": ".py",
   "mimetype": "text/x-python",
   "name": "python",
   "nbconvert_exporter": "python",
   "pygments_lexer": "ipython3",
   "version": "3.11.5"
  }
 },
 "nbformat": 4,
 "nbformat_minor": 1
}
