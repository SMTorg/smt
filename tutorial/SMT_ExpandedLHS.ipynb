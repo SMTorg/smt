{
 "cells": [
  {
   "cell_type": "markdown",
   "metadata": {},
   "source": [
    "<a href=\"https://colab.research.google.com/github/SMTorg/smt/blob/master/tutorial/SMT_ExpandedLHS.ipynb\" target=\"_blank\" rel=\"nofollow\"><img src=\"https://colab.research.google.com/assets/colab-badge.svg\" alt=\"Open In Colab\"></a>"
   ]
  },
  {
   "cell_type": "markdown",
   "metadata": {},
   "source": [
    "# Augmented LHS Documentation for the Toolbox SMT\n",
    "\n",
    "<div class=\"jumbotron text-left\"><b>\n",
    "The French Aerospace Lab ONERA <br/>\n",
    "Information Processing and Systems Department (DTIS) <br/>\n",
    "Multidisciplinary Methods, Integrated Concepts (M2CI) Research Unit <br/>\n",
    "</div>\n",
    "\n",
    "Rubén CONDE ARENZANA ONERA/DTIS/M2CI\n",
    "    \n",
    "**Latest update:** May 2024 - `SMT version 2.5.1`"
   ]
  },
  {
   "cell_type": "markdown",
   "metadata": {},
   "source": [
    "In this notebook, we present some examples in order to use the augmented LHS functionality within the Toolbox SMT"
   ]
  },
  {
   "cell_type": "markdown",
   "metadata": {},
   "source": [
    "<div class=\"alert alert-info fade in\" id=\"d110\">\n",
    "<p>Latest updates</p>\n",
    "<ol> - add possibility to extand a LHS for mixed integer or categorical variables with DesignSpace </ol>\n",
    "</div>"
   ]
  },
  {
   "cell_type": "markdown",
   "metadata": {},
   "source": [
    "<p class=\"alert alert-success\" style=\"padding:1em\">\n",
    "To use SMT models, please follow this link: https://github.com/SMTorg/SMT/blob/master/README.md. The documentation is available here: http://smt.readthedocs.io/en/latest/\n",
    "</p>\n",
    "\n",
    "\n",
    "**Reference paper:** https://www.semanticscholar.org/paper/Adaptive-Response-Surface-Method-Using-Inherited-Wang/cb3505730d406b2baae25b34fa3fa74058461592"
   ]
  },
  {
   "cell_type": "markdown",
   "metadata": {},
   "source": [
    "Cite us:\n",
    "\n",
    "M.-A. Bouhlel, J. T. Hwang, N. Bartoli, R. Lafage, J. Morlier, J .R.R.A Martins (2019), A Python surrogate modeling framework with derivatives, Advances in Engineering Software, 102662\n"
   ]
  },
  {
   "cell_type": "raw",
   "metadata": {},
   "source": [
    "@article{SMT2019,\n",
    "  title={A Python surrogate modeling framework with derivatives},\n",
    "  author={Mohamed Amine Bouhlel and John T. Hwang and Nathalie Bartoli and R{\\'e}mi Lafage and Joseph Morlier and Joaquim R. R. A. Martins},\n",
    "  journal={Advances in Engineering Software},\n",
    "  pages={102662},\n",
    "  year={2019},\n",
    "  publisher={Elsevier}\n",
    "}"
   ]
  },
  {
   "cell_type": "markdown",
   "metadata": {},
   "source": [
    "## Problem Statement "
   ]
  },
  {
   "cell_type": "markdown",
   "metadata": {},
   "source": [
    "The generation of optimized design of experiments (DoE) is an essential tool when dealing with the analysis and simulation processes that are computationally expensive. In this regard, Latin Hypercube Samplings (LHS) appears to be a sampling method that can cope with many input variables ensuring that each of them has all portions of its range represented. Additionally, this method is computionally cheap to generate. \n",
    "\n",
    "In this document, an expanded LHS is presented. To understand this functionality, we can start with a 2D LHS that counts on 10 points. For some purposes, for instance adaptive design or nested designs, it is necessary to add new points to the DoE but keeping the ensemble LHS. For the moment, we can just add a multiple of the initial number of points to ensure an LHS (in this example case we can add 10,20,30... points).\n"
   ]
  },
  {
   "cell_type": "markdown",
   "metadata": {},
   "source": [
    "## Initial LHS Sampling"
   ]
  },
  {
   "cell_type": "markdown",
   "metadata": {},
   "source": [
    "Firstly, we create a LHS sampling in 4D that will be the initial LHS to be augmented"
   ]
  },
  {
   "cell_type": "code",
   "execution_count": 1,
   "metadata": {
    "scrolled": true
   },
   "outputs": [
    {
     "data": {
      "text/plain": [
       "<matplotlib.legend.Legend at 0x15351a63ef40>"
      ]
     },
     "execution_count": 1,
     "metadata": {},
     "output_type": "execute_result"
    },
    {
     "data": {
      "image/png": "[encoded data removed]",
      "text/plain": [
       "<Figure size 640x480 with 1 Axes>"
      ]
     },
     "metadata": {},
     "output_type": "display_data"
    }
   ],
   "source": [
    "import numpy as np\n",
    "import matplotlib.pyplot as plt\n",
    "from smt.sampling_methods import LHS\n",
    "import matplotlib.patches as patches\n",
    "\n",
    "# to ignore warning messages\n",
    "import warnings\n",
    "\n",
    "warnings.filterwarnings(\"ignore\")\n",
    "\n",
    "xlimits = np.array([[0.0, 4.0], [0.0, 3.0], [0.0, 3.0], [1.0, 5.0]])\n",
    "sampling = LHS(xlimits=xlimits, criterion=\"ese\", random_state=1)\n",
    "\n",
    "num = 10\n",
    "x = sampling(num)\n",
    "\n",
    "\n",
    "### For visualization only\n",
    "\n",
    "intervals = []\n",
    "subspace_bool = []\n",
    "for i in range(len(xlimits)):\n",
    "    intervals.append(np.linspace(xlimits[i][0], xlimits[i][1], num + 1))\n",
    "    subspace_bool.append(\n",
    "        [\n",
    "            [intervals[i][j] < x[kk][i] < intervals[i][j + 1] for kk in range(len(x))]\n",
    "            for j in range(len(intervals[i]) - 1)\n",
    "        ]\n",
    "    )\n",
    "\n",
    "PLOT1 = 0  # First dimension to be depicted\n",
    "PLOT2 = 1  # Second dimension to be depicted\n",
    "\n",
    "fig, ax = plt.subplots(1)\n",
    "ax.plot(x[:, PLOT1], x[:, PLOT2], \".\")\n",
    "for i in range(len(intervals[0])):\n",
    "    ax.plot(\n",
    "        [intervals[PLOT1][i], intervals[PLOT1][i]],\n",
    "        [intervals[PLOT2][0], intervals[PLOT2][-1]],\n",
    "        linewidth=0.5,\n",
    "        color=\"k\",\n",
    "    )\n",
    "    ax.plot(\n",
    "        [intervals[PLOT1][0], intervals[PLOT1][-1]],\n",
    "        [intervals[PLOT2][i], intervals[PLOT2][i]],\n",
    "        linewidth=0.5,\n",
    "        color=\"k\",\n",
    "    )\n",
    "ax.set_xlabel(\"Dimension \" + str(PLOT1 + 1))\n",
    "ax.set_ylabel(\"Dimension \" + str(PLOT2 + 1))\n",
    "ax.legend([\"Initial LHS\"], bbox_to_anchor=(1.05, 0.6))"
   ]
  },
  {
   "cell_type": "markdown",
   "metadata": {},
   "source": [
    "## Augmented Sampling - Basic Methodology"
   ]
  },
  {
   "cell_type": "markdown",
   "metadata": {},
   "source": [
    "Then, we expand our LHS sampling (10 points) by adding another 10 points"
   ]
  },
  {
   "cell_type": "code",
   "execution_count": 2,
   "metadata": {},
   "outputs": [
    {
     "data": {
      "image/png": "[encoded data removed]",
      "text/plain": [
       "<Figure size 640x480 with 1 Axes>"
      ]
     },
     "metadata": {},
     "output_type": "display_data"
    }
   ],
   "source": [
    "new = num  # Points to be added\n",
    "\n",
    "new_num = new + num\n",
    "x_new = sampling.expand_lhs(x, new, method=\"basic\")\n",
    "\n",
    "\n",
    "### For visualization only\n",
    "intervals = []\n",
    "subspace_bool = []\n",
    "for i in range(len(xlimits)):\n",
    "    intervals.append(np.linspace(xlimits[i][0], xlimits[i][1], new_num + 1))\n",
    "    subspace_bool.append(\n",
    "        [\n",
    "            [intervals[i][j] < x[kk][i] < intervals[i][j + 1] for kk in range(len(x))]\n",
    "            for j in range(len(intervals[i]) - 1)\n",
    "        ]\n",
    "    )\n",
    "\n",
    "\n",
    "fig, ax = plt.subplots(1)\n",
    "ax.plot(x[:, PLOT1], x[:, PLOT2], \".\")\n",
    "ax.plot(x_new[len(x) :, PLOT1], x_new[len(x) :, PLOT2], \".\")\n",
    "for i in range(len(intervals[0])):\n",
    "    ax.plot(\n",
    "        [intervals[PLOT1][i], intervals[PLOT1][i]],\n",
    "        [intervals[PLOT2][0], intervals[PLOT2][-1]],\n",
    "        linewidth=0.5,\n",
    "        color=\"k\",\n",
    "    )\n",
    "    ax.plot(\n",
    "        [intervals[PLOT1][0], intervals[PLOT1][-1]],\n",
    "        [intervals[PLOT2][i], intervals[PLOT2][i]],\n",
    "        linewidth=0.5,\n",
    "        color=\"k\",\n",
    "    )\n",
    "ax.set_xlabel(\"Dimension \" + str(PLOT1 + 1))\n",
    "ax.set_ylabel(\"Dimension \" + str(PLOT2 + 1))\n",
    "\n",
    "i = PLOT1\n",
    "for j in range(len(subspace_bool[i])):\n",
    "    if True in subspace_bool[i][j]:\n",
    "        ax.add_patch(\n",
    "            patches.Rectangle(\n",
    "                (intervals[PLOT1][j], intervals[PLOT2][0]),\n",
    "                (intervals[PLOT1][1] - intervals[PLOT1][0]),\n",
    "                (intervals[PLOT2][-1] - intervals[PLOT2][0]),\n",
    "                facecolor=\"lightblue\",\n",
    "            )\n",
    "        )\n",
    "\n",
    "i = PLOT2\n",
    "for j in range(len(subspace_bool[i])):\n",
    "    if True in subspace_bool[i][j]:\n",
    "        ax.add_patch(\n",
    "            patches.Rectangle(\n",
    "                (intervals[PLOT1][0], intervals[PLOT2][j]),\n",
    "                (intervals[PLOT1][-1] - intervals[PLOT1][0]),\n",
    "                (intervals[PLOT2][1] - intervals[PLOT2][0]),\n",
    "                facecolor=\"lightblue\",\n",
    "            )\n",
    "        )\n",
    "\n",
    "ax.legend([\"Initial LHS\", \"Augmented LHS\"], bbox_to_anchor=(1.05, 0.6))\n",
    "plt.show()"
   ]
  },
  {
   "cell_type": "markdown",
   "metadata": {},
   "source": [
    "## Augmented Sampling - Optimization ESE"
   ]
  },
  {
   "cell_type": "markdown",
   "metadata": {},
   "source": [
    "Then, we expand our LHS sampling (10 points) by adding another 10 points. In this case, we try to optimize the augmented LHS using the Enhanced Stochastic Evolutionary algorithm (ESE)."
   ]
  },
  {
   "cell_type": "code",
   "execution_count": 3,
   "metadata": {},
   "outputs": [
    {
     "data": {
      "image/png": "[encoded data removed]",
      "text/plain": [
       "<Figure size 640x480 with 1 Axes>"
      ]
     },
     "metadata": {},
     "output_type": "display_data"
    }
   ],
   "source": [
    "new = num  # Points to be added\n",
    "\n",
    "new_num = new + num\n",
    "x_new = sampling.expand_lhs(x, new, method=\"ese\")\n",
    "\n",
    "\n",
    "### For visualization only\n",
    "intervals = []\n",
    "subspace_bool = []\n",
    "for i in range(len(xlimits)):\n",
    "    intervals.append(np.linspace(xlimits[i][0], xlimits[i][1], new_num + 1))\n",
    "    subspace_bool.append(\n",
    "        [\n",
    "            [intervals[i][j] < x[kk][i] < intervals[i][j + 1] for kk in range(len(x))]\n",
    "            for j in range(len(intervals[i]) - 1)\n",
    "        ]\n",
    "    )\n",
    "\n",
    "\n",
    "fig, ax = plt.subplots(1)\n",
    "ax.plot(x[:, PLOT1], x[:, PLOT2], \".\")\n",
    "ax.plot(x_new[len(x) :, PLOT1], x_new[len(x) :, PLOT2], \".\")\n",
    "for i in range(len(intervals[0])):\n",
    "    ax.plot(\n",
    "        [intervals[PLOT1][i], intervals[PLOT1][i]],\n",
    "        [intervals[PLOT2][0], intervals[PLOT2][-1]],\n",
    "        linewidth=0.5,\n",
    "        color=\"k\",\n",
    "    )\n",
    "    ax.plot(\n",
    "        [intervals[PLOT1][0], intervals[PLOT1][-1]],\n",
    "        [intervals[PLOT2][i], intervals[PLOT2][i]],\n",
    "        linewidth=0.5,\n",
    "        color=\"k\",\n",
    "    )\n",
    "ax.set_xlabel(\"Dimension \" + str(PLOT1 + 1))\n",
    "ax.set_ylabel(\"Dimension \" + str(PLOT2 + 1))\n",
    "\n",
    "i = PLOT1\n",
    "for j in range(len(subspace_bool[i])):\n",
    "    if True in subspace_bool[i][j]:\n",
    "        ax.add_patch(\n",
    "            patches.Rectangle(\n",
    "                (intervals[PLOT1][j], intervals[PLOT2][0]),\n",
    "                (intervals[PLOT1][1] - intervals[PLOT1][0]),\n",
    "                (intervals[PLOT2][-1] - intervals[PLOT2][0]),\n",
    "                facecolor=\"lightblue\",\n",
    "            )\n",
    "        )\n",
    "\n",
    "i = PLOT2\n",
    "for j in range(len(subspace_bool[i])):\n",
    "    if True in subspace_bool[i][j]:\n",
    "        ax.add_patch(\n",
    "            patches.Rectangle(\n",
    "                (intervals[PLOT1][0], intervals[PLOT2][j]),\n",
    "                (intervals[PLOT1][-1] - intervals[PLOT1][0]),\n",
    "                (intervals[PLOT2][1] - intervals[PLOT2][0]),\n",
    "                facecolor=\"lightblue\",\n",
    "            )\n",
    "        )\n",
    "\n",
    "ax.legend([\"Initial LHS\", \"Augmented LHS\"], bbox_to_anchor=(1.05, 0.6))\n",
    "plt.show()"
   ]
  },
  {
   "cell_type": "markdown",
   "metadata": {},
   "source": [
    "## Augmented Sampling for mixed integer variables"
   ]
  },
  {
   "cell_type": "code",
   "execution_count": 4,
   "metadata": {},
   "outputs": [],
   "source": [
    "from smt.utils.design_space import (\n",
    "    DesignSpace,\n",
    "    FloatVariable,\n",
    "    IntegerVariable,\n",
    "    CategoricalVariable,\n",
    ")\n",
    "from smt.applications.mixed_integer import MixedIntegerSamplingMethod"
   ]
  },
  {
   "cell_type": "code",
   "execution_count": 5,
   "metadata": {},
   "outputs": [],
   "source": [
    "design_space = DesignSpace(\n",
    "    [\n",
    "        CategoricalVariable([\"6,7\", \"3,7\", \"4,6\", \"3,4\"]),\n",
    "        IntegerVariable(0, 1),\n",
    "        FloatVariable(0, 100),\n",
    "    ]\n",
    ")"
   ]
  },
  {
   "cell_type": "code",
   "execution_count": 6,
   "metadata": {},
   "outputs": [],
   "source": [
    "sampling = MixedIntegerSamplingMethod(\n",
    "    LHS, design_space, criterion=\"ese\", random_state=42\n",
    ")\n",
    "n_doe = 5\n",
    "Xt = sampling(n_doe)\n",
    "n_add = 10\n",
    "x_new = sampling.expand_lhs(Xt, n_add, method=\"ese\")"
   ]
  },
  {
   "cell_type": "code",
   "execution_count": 7,
   "metadata": {},
   "outputs": [
    {
     "name": "stdout",
     "output_type": "stream",
     "text": [
      "Initial DOE \n",
      " [[ 1.         -0.          2.05844943]\n",
      " [ 3.         -0.         96.99098522]\n",
      " [ 2.          1.         83.24426408]\n",
      " [ 2.          1.         21.23391107]\n",
      " [ 0.          1.         18.18249672]]\n"
     ]
    }
   ],
   "source": [
    "print(\"Initial DOE \\n\", Xt)"
   ]
  },
  {
   "cell_type": "code",
   "execution_count": 8,
   "metadata": {},
   "outputs": [
    {
     "name": "stdout",
     "output_type": "stream",
     "text": [
      "Expand DOE \n",
      " [[ 0.          1.         25.24756432]\n",
      " [ 2.          0.          1.5599452 ]\n",
      " [ 3.          0.         33.66361843]\n",
      " [ 0.          0.         58.08397348]\n",
      " [ 3.          1.         93.25330331]\n",
      " [ 2.          0.         88.9482735 ]\n",
      " [ 2.          1.         64.9517691 ]\n",
      " [ 3.          0.         75.20068021]\n",
      " [ 1.          1.         19.69909852]\n",
      " [ 3.          1.         40.46450413]]\n"
     ]
    }
   ],
   "source": [
    "print(\"Expand DOE \\n\", x_new)"
   ]
  },
  {
   "cell_type": "code",
   "execution_count": 9,
   "metadata": {},
   "outputs": [
    {
     "name": "stdout",
     "output_type": "stream",
     "text": [
      "Initial DOE in the initial space (labels) from integer encoding: \n",
      "['3,7', -0.0, 2.0584494295802447]\n",
      "Doe point  i=0 =['3,7', -0.0, 2.0584494295802447] \n",
      "\n",
      "['3,4', -0.0, 96.99098521619943]\n",
      "Doe point  i=1 =['3,4', -0.0, 96.99098521619943] \n",
      "\n",
      "['4,6', 1.0, 83.24426408004217]\n",
      "Doe point  i=2 =['4,6', 1.0, 83.24426408004217] \n",
      "\n",
      "['4,6', 1.0, 21.233911067827616]\n",
      "Doe point  i=3 =['4,6', 1.0, 21.233911067827616] \n",
      "\n",
      "['6,7', 1.0, 18.182496720710063]\n",
      "Doe point  i=4 =['6,7', 1.0, 18.182496720710063] \n",
      "\n",
      "Without a loop:  [['3,7', -0.0, 2.0584494295802447], ['3,4', -0.0, 96.99098521619943], ['4,6', 1.0, 83.24426408004217], ['4,6', 1.0, 21.233911067827616], ['6,7', 1.0, 18.182496720710063]]\n"
     ]
    }
   ],
   "source": [
    "# to give the initial doe in the initial space from integer encoding\n",
    "print(\"Initial DOE in the initial space (labels) from integer encoding: \")\n",
    "\n",
    "doe_in_enum_space = []\n",
    "for i in range(n_doe):\n",
    "    xx = design_space.decode_values(Xt[i])\n",
    "    print(xx)\n",
    "    doe_in_enum_space.append(xx)\n",
    "    print(\"Doe point  i={} ={}\".format((i), doe_in_enum_space[i]), \"\\n\")\n",
    "\n",
    "# or without a loop\n",
    "print(\"Without a loop: \", design_space.decode_values(Xt))"
   ]
  },
  {
   "cell_type": "code",
   "execution_count": null,
   "metadata": {},
   "outputs": [],
   "source": []
  }
 ],
 "metadata": {
  "kernelspec": {
   "display_name": "Python 3 (ipykernel)",
   "language": "python",
   "name": "python3"
  },
  "language_info": {
   "codemirror_mode": {
    "name": "ipython",
    "version": 3
   },
   "file_extension": ".py",
   "mimetype": "text/x-python",
   "name": "python",
   "nbconvert_exporter": "python",
   "pygments_lexer": "ipython3",
   "version": "3.9.18"
  }
 },
 "nbformat": 4,
 "nbformat_minor": 4
}
