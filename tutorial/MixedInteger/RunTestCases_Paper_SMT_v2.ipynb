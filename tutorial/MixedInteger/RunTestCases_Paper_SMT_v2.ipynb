{
 "cells": [
  {
   "cell_type": "markdown",
   "id": "787a2f97",
   "metadata": {},
   "source": [
    "<a href=\"https://colab.research.google.com/github/SMTorg/smt/blob/master/tutorial/MixedInteger/RunTestCases_Paper_SMT_v2.ipynb\" target=\"_blank\" rel=\"nofollow\"><img src=\"https://colab.research.google.com/assets/colab-badge.svg\" alt=\"Open In Colab\"></a> "
   ]
  },
  {
   "cell_type": "markdown",
   "id": "36b08540",
   "metadata": {},
   "source": [
    "<div class=\"jumbotron text-left\">\n",
    "    <b>\n",
    "This tutorial is associated to the journal paper about SMT 2.0.\n",
    "</b>\n",
    "\n",
    "The published paper is available https://doi.org/10.1016/j.advengsoft.2023.103571 \n",
    "    \n",
    "`SMT 2.0`: A Surrogate Modeling Toolbox with a focus on Hierarchical and Mixed Variables Gaussian Processes\n",
    "\n",
    "</div>\n",
    "\n",
    "\n",
    "Authors: Paul Saves and  Nathalie BARTOLI ONERA/DTIS/M2CI - June 2023\n",
    "based on `SMT 2.0 version` \n",
    "\n",
    "Update: February 2025 `SMT version 2.9`"
   ]
  },
  {
   "cell_type": "code",
   "execution_count": 1,
   "id": "81a1ece9",
   "metadata": {},
   "outputs": [],
   "source": [
    "# %pip install smt"
   ]
  },
  {
   "cell_type": "markdown",
   "id": "4a35380c",
   "metadata": {},
   "source": [
    "<div class=\"alert alert-info fade in\" id=\"d110\">\n",
    "<p>To run the test cases presented in the associated paper</p>\n",
    "<ol> - Build a surrogate model with hierarchical variables and check that inactive variables have no effect on the output </ol>\n",
    "<ol> - Build a surrogate model using `numba` to reduce CPU time (for large DOE) </ol>\n",
    "<ol> -  Bayesian optimization of a mixed integer function (toy function)    </ol>\n",
    "<ol> -   Bayesian optimization of the mixed Branin test function: a mixed integer problem  </ol>\n",
    "<ol> -   Bayesian optimization of a mixed categorical function (Goldstein function)   </ol>\n",
    "</div>``"
   ]
  },
  {
   "cell_type": "code",
   "execution_count": 2,
   "id": "fff43855",
   "metadata": {},
   "outputs": [],
   "source": [
    "# to ignore warning messages\n",
    "import warnings\n",
    "\n",
    "\n",
    "import numpy as np\n",
    "import matplotlib.pyplot as plt\n",
    "import time\n",
    "\n",
    "from smt.applications import EGO\n",
    "from smt.problems import Branin, HierarchicalGoldstein\n",
    "from smt.sampling_methods import FullFactorial\n",
    "from smt.sampling_methods import LHS\n",
    "from smt.surrogate_models import (\n",
    "    KRG,\n",
    "    MixIntKernelType,\n",
    "    MixHrcKernelType,\n",
    ")\n",
    "from smt.applications.mixed_integer import (\n",
    "    MixedIntegerSamplingMethod,\n",
    "    MixedIntegerKrigingModel,\n",
    ")\n",
    "\n",
    "from smt.design_space.design_space import (\n",
    "    DesignSpace,\n",
    "    FloatVariable,\n",
    "    IntegerVariable,\n",
    "    CategoricalVariable,\n",
    ")\n",
    "\n",
    "warnings.filterwarnings(\"ignore\")\n",
    "%matplotlib inline"
   ]
  },
  {
   "cell_type": "markdown",
   "id": "8d30ee1c",
   "metadata": {},
   "source": [
    "## Build the kriging model associated to the Multi-Layer perceptron model: a kriging with meta variables"
   ]
  },
  {
   "cell_type": "markdown",
   "id": "8f96c7dd",
   "metadata": {},
   "source": [
    "<div class=\"jumbotron text-left\">\n",
    "The objective is to build the surrogate model described in Figure 5 of the SMT2.0 paper.\n",
    "</div>"
   ]
  },
  {
   "cell_type": "code",
   "execution_count": 3,
   "id": "ccc49c3b",
   "metadata": {},
   "outputs": [
    {
     "name": "stdout",
     "output_type": "stream",
     "text": [
      "Pred_RMSE on the training points 9.855780275603376e-10\n",
      "Var_RMSE on the training points 6.240663567903824e-10\n"
     ]
    }
   ],
   "source": [
    "def f_neu(x1, x2, x3):\n",
    "    return 2 * x1 + x2 - 0.5 * x3\n",
    "\n",
    "\n",
    "def f1(x1, x2, x3, x4):\n",
    "    return f_neu(x1, x2, x3) + x4**2\n",
    "\n",
    "\n",
    "def f2(x1, x2, x3, x4, x5):\n",
    "    return f_neu(x1, x2, x3) + (x4**2) + 0.3 * x5\n",
    "\n",
    "\n",
    "def f3(x1, x2, x3, x4, x5, x6):\n",
    "    return f_neu(x1, x2, x3) + (x4**2) + 0.3 * x5 - 0.1 * x6**3\n",
    "\n",
    "\n",
    "def f(X):\n",
    "    y = []\n",
    "    for x in X:\n",
    "        if x[0] == 1:\n",
    "            y.append(f1(x[1], x[2], x[3], x[4]))\n",
    "        elif x[0] == 2:\n",
    "            y.append(f2(x[1], x[2], x[3], x[4], x[5]))\n",
    "        elif x[0] == 3:\n",
    "            y.append(f3(x[1], x[2], x[3], x[4], x[5], x[6]))\n",
    "    return np.array(y)\n",
    "\n",
    "\n",
    "# Define the mixed hierarchical design space\n",
    "# x0 to x6 defined\n",
    "design_space = DesignSpace(\n",
    "    [\n",
    "        IntegerVariable(1, 3),  # for the number of hidden layers (l=x0)\n",
    "        FloatVariable(-5, -2),  # instead of [1e-5, 1e-2]  for the learning rate\n",
    "        CategoricalVariable(\n",
    "            [\"ReLU \", \"SELU\", \"ISRLU\"]\n",
    "        ),  # 3 possible choices for the activation function\n",
    "        IntegerVariable(\n",
    "            3, 8\n",
    "        ),  # instead of [\"2**3=8\", \"2**4=16\", \"2**5=32\", \"2**6=64\", \"2**7=128\", \"2**8=256\"] for the batch size\n",
    "        IntegerVariable(\n",
    "            0, 5\n",
    "        ),  # instead of [50,55] - activate when x0=1 - number of hidden neurons\n",
    "        IntegerVariable(\n",
    "            0, 5\n",
    "        ),  # instead of [50,55] - activate when x0=2 - number of hidden neurons\n",
    "        IntegerVariable(\n",
    "            0, 5\n",
    "        ),  # instead of [50,55] - activate when x0=3 - number of hidden neurons\n",
    "    ]\n",
    ")\n",
    "\n",
    "# activate x5 when x0 in [2, 3]; x6 when x0 == 3\n",
    "design_space.declare_decreed_var(decreed_var=5, meta_var=0, meta_value=[2, 3])\n",
    "design_space.declare_decreed_var(decreed_var=6, meta_var=0, meta_value=3)\n",
    "\n",
    "# Perform the mixed integer sampling - LHS DOE\n",
    "n_doe = 100\n",
    "Xt, _ = design_space.sample_valid_x(n_doe)\n",
    "Yt = f(Xt)\n",
    "\n",
    "# Build the surrogate\n",
    "\n",
    "sm = MixedIntegerKrigingModel(\n",
    "    surrogate=KRG(\n",
    "        design_space=design_space,\n",
    "        categorical_kernel=MixIntKernelType.HOMO_HSPHERE,\n",
    "        hierarchical_kernel=MixHrcKernelType.ALG_KERNEL,\n",
    "        theta0=[1e-2],\n",
    "        corr=\"abs_exp\",\n",
    "        n_start=5,\n",
    "        print_global=False,\n",
    "    )\n",
    ")\n",
    "sm.set_training_values(Xt, Yt)\n",
    "sm.train()\n",
    "\n",
    "\n",
    "# Check prediction and variance accuracy\n",
    "y_s = sm.predict_values(Xt)[:, 0]\n",
    "pred_RMSE = np.linalg.norm(y_s - Yt) / len(Yt)\n",
    "\n",
    "y_sv = sm.predict_variances(Xt)[:, 0]\n",
    "var_RMSE = np.linalg.norm(y_sv) / len(Yt)\n",
    "\n",
    "print(\"Pred_RMSE on the training points\", pred_RMSE)\n",
    "print(\"Var_RMSE on the training points\", var_RMSE)"
   ]
  },
  {
   "cell_type": "code",
   "execution_count": 4,
   "id": "9fc88694",
   "metadata": {},
   "outputs": [
    {
     "name": "stdout",
     "output_type": "stream",
     "text": [
      "[  0.47077985  -0.72960039 -16.69759667] [  0.47077985  -0.72960039 -16.69759667]\n",
      "The outputs must be similar (inactive variables have no effect) 0.0\n",
      "[-2.02916819] [9.97279961]\n",
      "The outputs must be different (active variables have effect) 12.001967797240567\n"
     ]
    }
   ],
   "source": [
    "# To check of some inactive variables have no effect on the output\n",
    "xv1 = np.array(\n",
    "    [\n",
    "        [1, -1, 2, 3, 2, 0, 0],  # x[5] and x[6] may change without effect\n",
    "        [2, -2, 1, 4, 2, 1, 0],  # x[6] may change without effect\n",
    "        [3, -3, 0, 5, 2, 1, 5],  # all have an effect\n",
    "    ]\n",
    ")\n",
    "xv2 = np.array(\n",
    "    [\n",
    "        [1, -1, 2, 3, 2, 5, 5],\n",
    "        [2, -2, 1, 4, 2, 1, 5],\n",
    "        [3, -3, 0, 5, 2, 1, 5],\n",
    "    ]\n",
    ")\n",
    "yv1 = sm.predict_values(xv1)[:, 0]\n",
    "yv2 = sm.predict_values(xv2)[:, 0]\n",
    "print(yv1, yv2)\n",
    "print(\n",
    "    \"The outputs must be similar (inactive variables have no effect)\",\n",
    "    np.linalg.norm(yv1 - yv2),\n",
    ")\n",
    "\n",
    "# To check of some active variables have an effect on the output\n",
    "xv3 = np.array([[1, -1, 2, 8, 2, 0, 0]])  # all have an effect\n",
    "xv4 = np.array([[1, -1, 2, 8, 4, 5, 5]])\n",
    "yv3 = sm.predict_values(xv3)[:, 0]\n",
    "yv4 = sm.predict_values(xv4)[:, 0]\n",
    "print(yv3, yv4)\n",
    "print(\n",
    "    \"The outputs must be different (active variables have effect)\",\n",
    "    np.linalg.norm(yv3 - yv4),\n",
    ")"
   ]
  },
  {
   "cell_type": "code",
   "execution_count": 5,
   "id": "c122b735",
   "metadata": {},
   "outputs": [
    {
     "name": "stdout",
     "output_type": "stream",
     "text": [
      "Activation function ['ISRLU', 'SELU', 'ReLU ']\n",
      "Batch size  [3, 4, 5]\n",
      "Number of hidden neurons -1st layer  [2, 2, 2]\n",
      "Number of hidden neurons -2nd layer [0, 1, 1]\n",
      "Number of hidden neurons -3rd layer [0, 0, 5]\n"
     ]
    }
   ],
   "source": [
    "# To have access to the \"real\" values of the input space variables\n",
    "x2_decoded = design_space.decode_values(xv1, i_dv=2)\n",
    "print(\"Activation function\", x2_decoded)\n",
    "x3_decoded = design_space.decode_values(xv1, i_dv=3)\n",
    "print(\"Batch size \", x3_decoded)\n",
    "x4_decoded = design_space.decode_values(xv1, i_dv=4)\n",
    "print(\"Number of hidden neurons -1st layer \", x4_decoded)\n",
    "x5_decoded = design_space.decode_values(xv1, i_dv=5)\n",
    "print(\"Number of hidden neurons -2nd layer\", x5_decoded)\n",
    "x6_decoded = design_space.decode_values(xv1, i_dv=6)\n",
    "print(\"Number of hidden neurons -3rd layer\", x6_decoded)"
   ]
  },
  {
   "cell_type": "markdown",
   "id": "163ba6a2",
   "metadata": {},
   "source": [
    "## Build surrogate model using Numba to reduce CPU time "
   ]
  },
  {
   "cell_type": "markdown",
   "id": "4cbf18c9",
   "metadata": {},
   "source": [
    "<div class=\"jumbotron text-left\">\n",
    "The objective is to build the surrogate model described in Table 2 of the SMT2.0 paper. \n",
    "</div>"
   ]
  },
  {
   "cell_type": "markdown",
   "id": "b288b4d9",
   "metadata": {},
   "source": [
    "<div class=\"alert alert-warning\" >\n",
    "If you use hierarchical variables and the size of your doe greater than 30 points, you may leverage the `numba` JIT compiler to speed up the computation\n",
    "To do so:\n",
    "    \n",
    " - install numba library\n",
    "    \n",
    "     `pip install numba`\n",
    "    \n",
    "    \n",
    " - and define the environment variable `USE_NUMBA_JIT = 1` (unset or 0 if you do not want to use numba) \n",
    "    \n",
    "     - Linux: export USE_NUMBA_JIT = 1\n",
    "    \n",
    "     - Windows: set USE_NUMBA_JIT = 1\n",
    "\n",
    "</div>"
   ]
  },
  {
   "cell_type": "code",
   "execution_count": 6,
   "id": "1b3c3727",
   "metadata": {},
   "outputs": [
    {
     "name": "stdout",
     "output_type": "stream",
     "text": [
      "Name: numba\n",
      "Version: 0.59.0\n",
      "Summary: compiling Python code using LLVM\n",
      "Home-page: https://numba.pydata.org\n",
      "Author: \n",
      "Author-email: \n",
      "License: BSD\n",
      "Location: D:\\rlafage\\miniconda3\\Lib\\site-packages\n",
      "Requires: llvmlite, numpy\n",
      "Required-by: adsg-core\n",
      "\"Numba used or not in your environment=\" %USE_NUMBA_JIT%\n"
     ]
    }
   ],
   "source": [
    "# to check if numba is available\n",
    "!pip show numba\n",
    "# and then you need to define the environment variable USE_NUMBA_JIT\n",
    "!echo \"Numba used or not in your environment=\" %USE_NUMBA_JIT%"
   ]
  },
  {
   "cell_type": "code",
   "execution_count": 7,
   "id": "b2d505b5",
   "metadata": {},
   "outputs": [
    {
     "name": "stdout",
     "output_type": "stream",
     "text": [
      "Design space:\n",
      "x0: Cat [0, 1, 2, 3]\n",
      "x1: Ord [0, 1]\n",
      "x2: Float (0, 100)\n",
      "x3: Float (0, 100)\n",
      "x4: Float (0, 100)\n",
      "x5: Float (0, 100)\n",
      "x6: Float (0, 100)\n",
      "x7: Int (0, 2)\n",
      "x8: Int (0, 2)\n",
      "x9: Int (0, 2)\n",
      "x10: Int (0, 2)\n",
      "for  15 points time is =  2.702465772628784\n",
      "for  150 points time is =  3.7391862869262695\n"
     ]
    }
   ],
   "source": [
    "# compare the CPU time to build a DOE with 15 or 150 points\n",
    "problem = HierarchicalGoldstein()\n",
    "design_space = problem.design_space\n",
    "print(design_space)\n",
    "# for 15 points\n",
    "n_doe = 15\n",
    "design_space.seed = 42\n",
    "\n",
    "start = time.time()\n",
    "Xt1, is_acting = design_space.sample_valid_x(n_doe)\n",
    "end = time.time()\n",
    "print(\"for \", n_doe, \"points time is = \", end - start)\n",
    "Yt1 = problem(Xt1)\n",
    "\n",
    "# for 150 points\n",
    "n_doe = 150\n",
    "design_space.seed = 42\n",
    "\n",
    "start = time.time()\n",
    "Xt2, is_acting = design_space.sample_valid_x(n_doe)\n",
    "end = time.time()\n",
    "print(\"for \", n_doe, \"points time is = \", end - start)\n",
    "Yt2 = problem(Xt2)"
   ]
  },
  {
   "cell_type": "markdown",
   "id": "2e5da8f6",
   "metadata": {},
   "source": [
    "## Bayesian optimization of the toy function: a mixed integer problem"
   ]
  },
  {
   "cell_type": "markdown",
   "id": "b53665ba",
   "metadata": {},
   "source": [
    "<div class=\"jumbotron text-left\">\n",
    "The objective is to solve the optimization problem (Toy problem) described in Figure 6 of the SMT2.0 paper. The problem is also described in Appendix A ot the mentionned paper.\n",
    " </div>"
   ]
  },
  {
   "cell_type": "markdown",
   "id": "caec1d11",
   "metadata": {},
   "source": [
    "First, we recall the optimization problem:\n",
    "\n",
    "$$\n",
    "\\begin{array}{ll}\n",
    "& \\min  f( x^{cat}, x^{quant}) \\\\\n",
    "& \\mbox{w.r.t.} \\ \\  x^{cat} = c_1 \\in \\{ 0,1,2,3,4,5,6,7,8,9 \\} \\\\\n",
    "& \\quad \\quad \\quad x^{quant} = x_1 \\in \\{ 0,1 \\} \n",
    "\\end{array}\n",
    "$$\n",
    "\n",
    "\n",
    "The toy function $f$ is defined as\n",
    "$$\n",
    "\\begin{array}{ll}\n",
    "   f({x_1}, {c_1})  = &  \\mathbb{1}_{c_1=0}  \\ \\cos(3.6 \\pi(x-2)) +x -1 \\\\\n",
    "    & + \\mathbb{1}_{c_1=1} \\ 2 \\cos(1.1 \\pi \\exp(x)) - \\frac{x}{2} +2  \\\\\n",
    "    & + \\mathbb{1}_{c_1=2}  \\  \\cos ( 2 \\pi x)  + \\frac{1}{2}x \\\\\n",
    " & + \\mathbb{1}_{c_1=3}  \\  x ( \\cos(3.4 \\pi (x-1)) - \\frac{x-1}{2})\\\\\n",
    " & + \\mathbb{1}_{c_1=4}  \\   - \\frac{x^2}{2} \\\\\n",
    "& + \\mathbb{1}_{c_1=5}  \\  2 \\cos(0.25 \\pi \\exp( -x^4))^2 - \\frac{x}{2} +1 \\\\ \n",
    "& + \\mathbb{1}_{c_1=6}   \\ x \\cos(3.4 \\pi x ) - \\frac{x}{2} +1 \\\\ \n",
    "& + \\mathbb{1}_{c_1=7}   \\  - x  (\\cos(3.5 \\pi x ) + \\frac{x}{2}) +2 \\\\ \n",
    "& + \\mathbb{1}_{c_1=8}   \\ - \\frac{x^5}{2} +1 \\\\ \n",
    "& + \\mathbb{1}_{c_1=9}  \\  - \\cos (2.5 \\pi x)^2 \\sqrt{x} - 0.5 \\ln (x+0.5)  - 1.3\n",
    "\\end{array}\n",
    "$$\n"
   ]
  },
  {
   "cell_type": "code",
   "execution_count": 8,
   "id": "34f618b6",
   "metadata": {},
   "outputs": [
    {
     "name": "stdout",
     "output_type": "stream",
     "text": [
      "Initial DOE given\n",
      "Internal optimization succeeded at EGO iter = 0.0\n",
      "iteration 1 took 10.51 seconds\n",
      "Internal optimization succeeded at EGO iter = 1.0\n",
      "iteration 2 took 10.52 seconds\n",
      "Internal optimization succeeded at EGO iter = 2.0\n",
      "iteration 3 took 10.93 seconds\n",
      "Internal optimization succeeded at EGO iter = 3.0\n",
      "iteration 4 took 11.02 seconds\n",
      "Internal optimization succeeded at EGO iter = 4.0\n",
      "iteration 5 took 10.96 seconds\n",
      "Internal optimization succeeded at EGO iter = 5.0\n",
      "iteration 6 took 11.01 seconds\n",
      "Internal optimization succeeded at EGO iter = 6.0\n",
      "iteration 7 took 11.30 seconds\n",
      "Internal optimization succeeded at EGO iter = 7.0\n",
      "iteration 8 took 11.29 seconds\n",
      "Internal optimization succeeded at EGO iter = 8.0\n",
      "iteration 9 took 11.48 seconds\n",
      "Internal optimization succeeded at EGO iter = 9.0\n",
      "iteration 10 took 11.26 seconds\n",
      "Internal optimization succeeded at EGO iter = 10.0\n",
      "iteration 11 took 11.86 seconds\n",
      "Internal optimization succeeded at EGO iter = 11.0\n",
      "iteration 12 took 12.13 seconds\n",
      "Internal optimization succeeded at EGO iter = 12.0\n",
      "iteration 13 took 12.32 seconds\n",
      "Internal optimization succeeded at EGO iter = 13.0\n",
      "iteration 14 took 13.11 seconds\n",
      "Internal optimization succeeded at EGO iter = 14.0\n",
      "iteration 15 took 12.49 seconds\n",
      "Internal optimization succeeded at EGO iter = 15.0\n",
      "iteration 16 took 12.81 seconds\n",
      "Internal optimization succeeded at EGO iter = 16.0\n",
      "iteration 17 took 13.31 seconds\n",
      "Internal optimization succeeded at EGO iter = 17.0\n",
      "iteration 18 took 13.22 seconds\n",
      "Internal optimization succeeded at EGO iter = 18.0\n",
      "iteration 19 took 13.50 seconds\n",
      "Internal optimization succeeded at EGO iter = 19.0\n",
      "iteration 20 took 13.98 seconds\n"
     ]
    }
   ],
   "source": [
    "def f_obj(X):\n",
    "    \"\"\"\n",
    "    s01 objective\n",
    "\n",
    "    Parameters\n",
    "    ----------\n",
    "    point: array_like\n",
    "        point to evaluate\n",
    "    \"\"\"\n",
    "    PI = 3.14159265358979323846\n",
    "    x = X[:, 0]\n",
    "    # categorial variable\n",
    "    c = X[:, 1]\n",
    "    x = np.abs(x)\n",
    "    c1 = c == 0\n",
    "    c2 = c == 1\n",
    "    c3 = c == 2\n",
    "    c4 = c == 3\n",
    "    c5 = c == 4\n",
    "    c6 = c == 5\n",
    "    c7 = c == 6\n",
    "    c8 = c == 7\n",
    "    c9 = c == 8\n",
    "    c10 = c == 9\n",
    "    if np.size(c1) == (\n",
    "        np.sum(c1)\n",
    "        + np.sum(c2)\n",
    "        + np.sum(c3)\n",
    "        + np.sum(c4)\n",
    "        + np.sum(c5)\n",
    "        + np.sum(c6)\n",
    "        + np.sum(c7)\n",
    "        + np.sum(c8)\n",
    "        + np.sum(c9)\n",
    "        + np.sum(c10)\n",
    "    ):\n",
    "        y = (\n",
    "            c1 * (np.cos(3.6 * PI * (x - 2)) + x - 1)\n",
    "            + c2 * (2 * np.cos(1.1 * PI * np.exp(x)) - x / 2 + 2)\n",
    "            + c3 * (np.cos(2 * PI * x) + x / 2)\n",
    "            + c4 * (x * (np.cos(3.4 * PI * (x - 1)) - (x - 1) / 2))\n",
    "            + c5 * (-0.5 * x * x)\n",
    "            + c6\n",
    "            * (2 * np.power(np.cos(0.25 * PI * np.exp(-np.power(x, 4))), 2) - x / 2 + 1)\n",
    "            + c7 * (x * (np.cos(3.4 * PI * x)) - x / 2 + 1)\n",
    "            + c8 * (x * (-np.cos(7 * 0.5 * PI * x) - x / 2) + 2)\n",
    "            + c9 * (-np.power(x, 5) * 0.5 + 1)\n",
    "            + c10\n",
    "            * (\n",
    "                -np.power(np.cos(5 * PI * 0.5 * x), 2) * np.sqrt(x)\n",
    "                - 0.5 * np.log(x + 0.5)\n",
    "                - 1.3\n",
    "            )\n",
    "        )\n",
    "    else:\n",
    "        print(\"type error\")\n",
    "        print(X)\n",
    "    return y\n",
    "\n",
    "\n",
    "# To define the variables x^{quant} and x^{cat}\n",
    "design_space = DesignSpace(\n",
    "    [\n",
    "        FloatVariable(0, 1),  # real\n",
    "        CategoricalVariable(\n",
    "            [\"1\", \"2\", \"3\", \"4\", \"5\", \"6\", \"7\", \"8\", \"9\", \"10\"]\n",
    "        ),  # 10 possible choices\n",
    "    ]\n",
    ")\n",
    "\n",
    "\n",
    "# To define the initial DOE\n",
    "random_state = 42  # seed value for the sampling\n",
    "n_doe = 5  # initial doe size\n",
    "sampling = MixedIntegerSamplingMethod(\n",
    "    LHS, design_space, criterion=\"ese\", random_state=random_state\n",
    ")\n",
    "Xt = sampling(n_doe)\n",
    "\n",
    "# To start the Bayesion optimization\n",
    "n_iter = 20  # number of iterations\n",
    "criterion = \"EI\"  # infill criterion\n",
    "ego = EGO(\n",
    "    n_iter=n_iter,\n",
    "    criterion=criterion,\n",
    "    xdoe=Xt,\n",
    "    surrogate=KRG(\n",
    "        design_space=design_space,\n",
    "        # categorical_kernel= MixIntKernelType.GOWER,\n",
    "        # categorical_kernel= MixIntKernelType.CONT_RELAX,\n",
    "        # categorical_kernel=MixIntKernelType.EXP_HOMO_HSPHERE,\n",
    "        categorical_kernel=MixIntKernelType.HOMO_HSPHERE,\n",
    "        theta0=[1e-2],\n",
    "        n_start=15,\n",
    "        corr=\"squar_exp\",\n",
    "        print_global=False,\n",
    "    ),\n",
    "    verbose=True,\n",
    "    enable_tunneling=False,\n",
    "    random_state=random_state,\n",
    "    n_start=10,\n",
    ")\n",
    "x_opt, y_opt, dnk, x_data, y_data = ego.optimize(fun=f_obj)"
   ]
  },
  {
   "cell_type": "code",
   "execution_count": 9,
   "id": "a8c7967e",
   "metadata": {},
   "outputs": [
    {
     "name": "stdout",
     "output_type": "stream",
     "text": [
      "Final results: [0.45842893 9.        ] [-1.82299164] 4 [[ 3.93981970e-01  7.00000000e+00]\n",
      " [ 7.89777107e-01  4.00000000e+00]\n",
      " [ 8.51755996e-01  6.00000000e+00]\n",
      " [ 7.49080238e-02  5.00000000e+00]\n",
      " [ 4.58428930e-01  9.00000000e+00]\n",
      " [ 9.72027147e-01  1.00000000e+00]\n",
      " [ 9.53311424e-01  3.00000000e+00]\n",
      " [-2.08166817e-17  6.00000000e+00]\n",
      " [ 6.06359028e-01  6.00000000e+00]\n",
      " [ 1.93041642e-01  1.00000000e+00]\n",
      " [ 6.41026604e-01  3.00000000e+00]\n",
      " [ 5.66560068e-01  3.00000000e+00]\n",
      " [-8.67361738e-16  9.00000000e+00]\n",
      " [ 2.17602083e-01  8.00000000e+00]\n",
      " [ 1.00000000e+00  2.00000000e+00]\n",
      " [ 6.74224495e-01  9.00000000e+00]\n",
      " [ 8.63551047e-01  0.00000000e+00]\n",
      " [ 3.74749329e-01  5.00000000e+00]\n",
      " [ 3.70696306e-03  8.00000000e+00]\n",
      " [ 9.86685026e-01  9.00000000e+00]\n",
      " [ 4.78411261e-01  2.00000000e+00]\n",
      " [ 7.03668207e-01  8.00000000e+00]\n",
      " [ 9.44846227e-01  9.00000000e+00]\n",
      " [ 1.27059065e-01  4.00000000e+00]\n",
      " [ 2.23852051e-01  9.00000000e+00]] [[ 2.06864616]\n",
      " [-0.31187394]\n",
      " [-0.23254922]\n",
      " [ 1.96259544]\n",
      " [-1.82299164]\n",
      " [-0.40238808]\n",
      " [ 0.85945728]\n",
      " [ 1.        ]\n",
      " [ 1.29185301]\n",
      " [ 0.9083439 ]\n",
      " [-0.37820902]\n",
      " [ 0.07601922]\n",
      " [-0.95342644]\n",
      " [ 0.99975606]\n",
      " [ 1.5       ]\n",
      " [-1.62913814]\n",
      " [ 0.82277173]\n",
      " [ 1.84329716]\n",
      " [ 1.        ]\n",
      " [-1.50909787]\n",
      " [-0.75160854]\n",
      " [ 0.91373996]\n",
      " [-1.65526891]\n",
      " [-0.008072  ]\n",
      " [-1.15482651]]\n"
     ]
    }
   ],
   "source": [
    "print(\"Final results:\", x_opt, y_opt, dnk, x_data, y_data)"
   ]
  },
  {
   "cell_type": "code",
   "execution_count": 10,
   "id": "fc71d62e",
   "metadata": {},
   "outputs": [
    {
     "data": {
      "image/png": "[encoded data removed]",
      "text/plain": [
       "<Figure size 640x480 with 1 Axes>"
      ]
     },
     "metadata": {},
     "output_type": "display_data"
    }
   ],
   "source": [
    "%matplotlib inline\n",
    "\n",
    "# to plot the objective function during the optimization process\n",
    "mini = np.zeros(n_iter)\n",
    "for k in range(n_iter):\n",
    "    mini[k] = np.min(y_data[0 : k + n_doe - 1])\n",
    "x_plot = np.linspace(1, n_iter + 0.5, n_iter)\n",
    "plt.plot(x_plot, mini, color=\"k\", label=\"EGO (SMT HH)\")\n",
    "plt.legend()\n",
    "plt.title(\"minimum convergence plot\", loc=\"center\")\n",
    "plt.xlabel(\"Number of evaluations\")\n",
    "plt.ylabel(\"Objective value\")\n",
    "plt.show()"
   ]
  },
  {
   "cell_type": "markdown",
   "id": "f9f3aa06",
   "metadata": {},
   "source": [
    " ## Bayesian optimization of mixed Branin test function: a mixed integer problem"
   ]
  },
  {
   "cell_type": "markdown",
   "id": "7e6a589c",
   "metadata": {},
   "source": [
    "<div class=\"jumbotron text-left\">\n",
    "  The objective is to solve the optimization problem (Mixed Branin function) described in Figure 7 of the SMT2.0 paper. \n",
    "</div>"
   ]
  },
  {
   "cell_type": "markdown",
   "id": "cccc4a1b",
   "metadata": {},
   "source": [
    "The 2D function to optimize is described by: \n",
    "- 1 discrete variable $\\in [-5, 10]$\n",
    "- 1 continuous variable $\\in [0., 15.]$"
   ]
  },
  {
   "cell_type": "code",
   "execution_count": 11,
   "id": "00fab0cb",
   "metadata": {},
   "outputs": [
    {
     "name": "stdout",
     "output_type": "stream",
     "text": [
      "Optimal point found [3.14627285 2.33411355] [0.40193142]\n"
     ]
    }
   ],
   "source": [
    "# Branin function with a integer variable and a continuous variable\n",
    "fun = Branin(ndim=2)\n",
    "design_space = fun.design_space\n",
    "\n",
    "# Initial doe\n",
    "n_doe = 10\n",
    "sampling = MixedIntegerSamplingMethod(FullFactorial, design_space)\n",
    "xdoe = sampling(n_doe)\n",
    "\n",
    "# Bayesian optimization\n",
    "n_iter = 20\n",
    "\n",
    "sm = KRG(\n",
    "    design_space=design_space,\n",
    "    print_global=False,\n",
    "    categorical_kernel=MixIntKernelType.CONT_RELAX,\n",
    ")\n",
    "criterion = \"EI\"  # 'EI' or 'SBO' or 'LCB'\n",
    "\n",
    "ego = EGO(\n",
    "    xdoe=xdoe,\n",
    "    n_iter=n_iter,\n",
    "    criterion=criterion,\n",
    "    surrogate=sm,\n",
    "    enable_tunneling=False,\n",
    "    random_state=42,\n",
    ")\n",
    "\n",
    "x_opt, y_opt, ind_best, x_data, y_data = ego.optimize(fun=fun)\n",
    "print(\"Optimal point found\", x_opt, y_opt)"
   ]
  },
  {
   "cell_type": "code",
   "execution_count": 12,
   "id": "a5ff0799",
   "metadata": {},
   "outputs": [
    {
     "name": "stdout",
     "output_type": "stream",
     "text": [
      "[3.14627285 2.33411355] [0.40193142]\n"
     ]
    },
    {
     "data": {
      "text/plain": [
       "Text(0.5, 1.0, 'Mixed Branin - optimization process')"
      ]
     },
     "execution_count": 12,
     "metadata": {},
     "output_type": "execute_result"
    },
    {
     "data": {
      "image/png": "[encoded data removed]",
      "text/plain": [
       "<Figure size 640x480 with 1 Axes>"
      ]
     },
     "metadata": {},
     "output_type": "display_data"
    }
   ],
   "source": [
    "# 3 optimal points possible in the continuous Branin function: [-pi, 12.275], [pi, 2.275], [9.42478, 2.475]\n",
    "# for the modified integer Branin function\n",
    "xref = np.array([[-3, 12.275], [3, 2.275], [9, 2.475]])\n",
    "print(x_opt, y_opt)\n",
    "\n",
    "\n",
    "fig = plt.figure()\n",
    "plt.scatter(xdoe.T[0], xdoe.T[1], s=80, marker=\"o\", color=\"orange\", label=\"initial DOE\")\n",
    "plt.scatter(x_data.T[0], x_data.T[1], s=60, marker=\"x\", color=\"black\", label=\"enriched\")\n",
    "plt.scatter(xdoe.T[0], xdoe.T[1], s=80, marker=\"o\", color=\"orange\")\n",
    "plt.scatter(x_opt[0], x_opt[1], s=80, marker=\"*\", color=\"red\", label=\"optimum found\")\n",
    "plt.scatter(\n",
    "    xref[:, 0], xref[:, 1], s=80, marker=\"*\", color=\"blue\", label=\"reference optimum\"\n",
    ")\n",
    "plt.legend()\n",
    "\n",
    "plt.title(\"Mixed Branin - optimization process\")"
   ]
  },
  {
   "cell_type": "code",
   "execution_count": 13,
   "id": "a6115410",
   "metadata": {},
   "outputs": [
    {
     "data": {
      "image/png": "[encoded data removed]",
      "text/plain": [
       "<Figure size 640x480 with 1 Axes>"
      ]
     },
     "metadata": {},
     "output_type": "display_data"
    }
   ],
   "source": [
    "%matplotlib inline\n",
    "import matplotlib.pyplot as plt\n",
    "\n",
    "# to plot the objective function during the optimization process\n",
    "mini = np.zeros(n_iter)\n",
    "for k in range(n_iter):\n",
    "    mini[k] = np.min(y_data[0 : k + n_doe - 1])\n",
    "x_plot = np.linspace(1, n_iter + 0.5, n_iter)\n",
    "plt.plot(x_plot, mini, color=\"k\", label=\"EGO (SMT HH)\")\n",
    "plt.legend()\n",
    "plt.title(\"minimum convergence plot\", loc=\"center\")\n",
    "plt.xlabel(\"Number of evaluations\")\n",
    "plt.ylabel(\"Objective value\")\n",
    "plt.show()"
   ]
  },
  {
   "cell_type": "markdown",
   "id": "aa40de59",
   "metadata": {},
   "source": [
    "## Bayesian optimization of hierarchical Goldstein test function: a mixed hierarchical problem"
   ]
  },
  {
   "cell_type": "markdown",
   "id": "8bf646e0",
   "metadata": {},
   "source": [
    "<div class=\"jumbotron text-left\">\n",
    "  The objective is to solve the optimization problem (Hierarchical Goldstein function) described in Figure 7 of the SMT2.0 paper. The problem is also described in Appendix A ot the mentionned paper.\n",
    "</div>"
   ]
  },
  {
   "cell_type": "markdown",
   "id": "35bb2ab3",
   "metadata": {},
   "source": [
    "First, we recall the optimization problem:\n",
    "\\begin{equation}\n",
    "\\begin{split}\n",
    "& \\min  f( x^{cat}_{neutral}, x^{quant}_{neutral}, x^{cat}_{m}, x^{quant}_{decreed}  ) \\\\\n",
    "& \\mbox{w.r.t.} \\ \\  x^{cat}_{m} = w_1 \\in \\{ 0,1,2,3 \\} \\\\\n",
    "& \\quad \\quad \\quad x^{quant}_{decreed} = (x_3,x_4,z_1,z_2) \\in \\{ 0,100 \\}^2 \\times \\{ 0,1,2 \\}^2   \\\\\n",
    "& \\quad \\quad \\quad x^{cat}_{neutral} =w_2 \\in \\{ 0,1 \\} \\\\\n",
    "& \\quad \\quad \\quad x^{quant}_{neutral} = (x_1,x_2,x_5,z_3,z_4) \\in \\{ 0,100 \\}^3 \\times \\{ 0,1,2 \\}^2   \\\\\n",
    "\\end{split}\n",
    "\\end{equation}\n",
    "\n",
    "The hierarchical and mixed function $f$ is defined as a hierarchical function that depends on $f_0$, $f_1$, $f_2$ and $Gold_\\text{cont}$ as follows\n",
    "\\begin{equation}\n",
    "\\begin{split}\n",
    "   &f({x_1}, {x_2}, {x_3}, {x_4}, {z_1}, {z_2}, {z_3}, {z_4}, {x_5}, {w_1}, {w_2})  = \\\\\n",
    "    &  \\quad \\  \\mathbb{1}_{w_1=0} f_0( {x_1}, {x_2},  {z_1}, {z_2}, {z_3}, {z_4}, {x_5}, {w_2}) \\\\\n",
    "    & + \\mathbb{1}_{w_1=1} f_1 ({x_1}, {x_2}, {x_3}, {z_2}, {z_3}, {z_4}, {x_5}, {w_2})  \\\\\n",
    "    & + \\mathbb{1}_{w_1=2} f_2 ({x_1}, {x_2}, {x_4}, {z_1}, {z_3}, {z_4}, {x_5}, {w_2})  \\\\\n",
    "   & + \\mathbb{1}_{w_1=3}  Gold_{\\text{cont}} ({x_1}, {x_2}, {x_3}, {x_4}, {z_3}, {z_4}, {x_5},  {w_2}).\n",
    "\\end{split}\n",
    "\\end{equation}\n",
    "\n",
    "Then, the functions $f_0$, $f_1$ and $f_2$ are defined as mixed variants of $Gold_\\text{cont}$ as such\n",
    "\n",
    "\\begin{equation}\n",
    "\\begin{split}\n",
    "   f_0( {x_1}, {x_2},  {z_1}, {z_2}, {z_3}, {z_4}, {x_5}, {w_2})  = &\\\\\n",
    "       & \\mathbb{1}_{z_2=0} \\big(  \\mathbb{1}_{z_1=0}  Gold_{\\text{cont}} ({x_1}, {x_2}, 20,20, {z_3}, {z_4}, {x_5},  {w_2})  \\\\\n",
    "      & \\quad   + \\mathbb{1}_{z_1=1} Gold_{\\text{cont}} ({x_1}, {x_2}, 50,20, {z_3}, {z_4}, {x_5},  {w_2})   \\\\\n",
    "      & \\quad  + \\mathbb{1}_{z_1=2}Gold_{\\text{cont}} ({x_1}, {x_2}, 80,20, {z_3}, {z_4}, {x_5},  {w_2})   \\big) \\\\\n",
    "       & \\mathbb{1}_{z_2=1} \\big(  \\mathbb{1}_{z_1=0}  Gold_{\\text{cont}} ({x_1}, {x_2}, 20,50, {z_3}, {z_4}, {x_5},  {w_2})  \\\\\n",
    "      & \\quad   + \\mathbb{1}_{z_1=1} Gold_{\\text{cont}} ({x_1}, {x_2}, 50,50, {z_3}, {z_4}, {x_5},  {w_2})   \\\\\n",
    "      & \\quad  + \\mathbb{1}_{z_1=2}Gold_{\\text{cont}} ({x_1}, {x_2}, 80,50, {z_3}, {z_4}, {x_5},  {w_2})   \\big) \\\\\n",
    "      & \\mathbb{1}_{z_2=2} \\big(  \\mathbb{1}_{z_1=0}  Gold_{\\text{cont}} ({x_1}, {x_2}, 20,80, {z_3}, {z_4}, {x_5},  {w_2})  \\\\\n",
    "      & \\quad   + \\mathbb{1}_{z_1=1} Gold_{\\text{cont}} ({x_1}, {x_2}, 50,80, {z_3}, {z_4}, {x_5},  {w_2})   \\\\\n",
    "      & \\quad  + \\mathbb{1}_{z_1=2}Gold_{\\text{cont}} ({x_1}, {x_2}, 80,80, {z_3}, {z_4}, {x_5},  {w_2})   \\big) \\\\\n",
    "  \\end{split}\n",
    "  \\end{equation}\n",
    "  \n",
    "  \n",
    "  \\begin{equation*}\n",
    "  \\begin{split}\n",
    "   f_1 ({x_1}, {x_2}, {x_3}, {z_2}, {z_3}, {z_4}, {x_5}, {w_2})  &= \\\\\n",
    "       &  \\mathbb{1}_{z_2=0}  Gold_{\\text{cont}} ({x_1}, {x_2}, {x_3},20, {z_3}, {z_4}, {x_5},  {w_2})  \\\\\n",
    "      & \\quad   + \\mathbb{1}_{z_2=1} Gold_{\\text{cont}} ({x_1}, {x_2}, {x_3},50, {z_3}, {z_4}, {x_5},  {w_2})   \\\\\n",
    "      & \\quad  + \\mathbb{1}_{z_2=2}Gold_{\\text{cont}} ({x_1}, {x_2}, {x_3},80, {z_3}, {z_4}, {x_5},  {w_2})  \\\\\n",
    "  \\end{split}\n",
    "\\end{equation*}    \n",
    "      \n",
    " \\begin{equation*}\n",
    "  \\begin{split}     \n",
    "   f_2 ({x_1}, {x_2}, {x_4}, {z_1}, {z_3}, {z_4}, {x_5}, {w_2})  = &\\\\\n",
    "       &  \\mathbb{1}_{z_1=0}  Gold_{\\text{cont}} ({x_1}, {x_2}, 20, {x_4}, {z_3}, {z_4}, {x_5},  {w_2})  \\\\\n",
    "      & \\quad   + \\mathbb{1}_{z_1=1} Gold_{\\text{cont}} ({x_1}, 50, {x_2}, {x_4}, {z_3}, {z_4}, {x_5},  {w_2})   \\\\\n",
    "      & \\quad  + \\mathbb{1}_{z_1=2}Gold_{\\text{cont}} ({x_1}, {x_2}, 80, {x_4}, {z_3}, {z_4}, {x_5},  {w_2})  \n",
    "\\end{split}\n",
    "\\end{equation*}\n",
    "\n",
    "To finish with, the function $Gold_{\\text{cont}}$ is given by\n",
    "\\begin{equation}\n",
    "\\begin{split}\n",
    "    & Gold_{\\text{cont}} ({x_1}, {x_2}, {x_3}, {x_4}, {z_3}, {z_4}, {x_5},  {w_2}) = \n",
    "        53.3108\n",
    "        + 0.184901   {x_1}  \\\\\n",
    "        &- 5.02914   {x_1} ^3   .10    ^{-6}\n",
    "        + 7.72522    {x_1} ^{z_3}    .10    ^{-8}\n",
    "        - 0.0870775    {x_2}\n",
    "        - 0.106959    {x_3}  \\\\\n",
    "        &+ 7.98772    {x_3} ^{z_4}    .10    ^{-6} \n",
    "         + 0.00242482    {x_4}\n",
    "        + 1.32851    {x_4} ^3    .10    ^{-6}\n",
    "        - 0.00146393    {x_1}    {x_2}\\\\\n",
    "        &- 0.00301588    {x_1}    {x_3} \n",
    "         - 0.00272291    {x_1}    {x_4}\n",
    "        + 0.0017004    {x_2}    {x_3}\n",
    "        + 0.0038428    {x_2}    {x_4}\\\\\n",
    "       & - 0.000198969    {x_3}    {x_4} \n",
    "        + 1.86025    {x_1}    {x_2}    {x_3}    .10    ^{-5}\n",
    "        - 1.88719    {x_1}    {x_2}    {x_4}    .10    ^{-6}\\\\\n",
    "       & + 2.50923    {x_1}    {x_3}    {x_4}    .10    ^{-5} \n",
    "        - 5.62199    {x_2}    {x_3}    {x_4}    .10    ^{-5} \n",
    "        +  {w_2} \\left( 5    \\cos \\left( \\frac{ 2 \\pi}{100}  x_5 \\right) - 2\\right).\n",
    "\\end{split}\n",
    "\\end{equation}\n",
    "\n"
   ]
  },
  {
   "cell_type": "markdown",
   "id": "e1215698",
   "metadata": {},
   "source": [
    "Here is an illustration of the problem with the associated variables\n",
    "![alternative text](https://github.com/SMTorg/smt/blob/master/tutorial/schema_var_goldstein.png?raw=true)"
   ]
  },
  {
   "cell_type": "code",
   "execution_count": 14,
   "id": "6d5dc782",
   "metadata": {},
   "outputs": [],
   "source": [
    "problem = HierarchicalGoldstein()\n",
    "design_space = problem.design_space"
   ]
  },
  {
   "cell_type": "code",
   "execution_count": 15,
   "id": "fbbe62cc",
   "metadata": {},
   "outputs": [
    {
     "name": "stdout",
     "output_type": "stream",
     "text": [
      "Initial DOE given\n",
      "Internal optimization succeeded at EGO iter = 0.0\n",
      "iteration 1 took 10.02 seconds\n",
      "Internal optimization succeeded at EGO iter = 1.0\n",
      "iteration 2 took 5.12 seconds\n",
      "Internal optimization succeeded at EGO iter = 2.0\n",
      "iteration 3 took 7.18 seconds\n",
      "Internal optimization succeeded at EGO iter = 3.0\n",
      "iteration 4 took 5.55 seconds\n",
      "Internal optimization succeeded at EGO iter = 4.0\n",
      "iteration 5 took 5.03 seconds\n",
      "Internal optimization succeeded at EGO iter = 5.0\n",
      "iteration 6 took 4.97 seconds\n",
      "Internal optimization succeeded at EGO iter = 6.0\n",
      "iteration 7 took 5.01 seconds\n",
      "Internal optimization succeeded at EGO iter = 7.0\n",
      "iteration 8 took 4.95 seconds\n",
      "Internal optimization succeeded at EGO iter = 8.0\n",
      "iteration 9 took 5.12 seconds\n",
      "Internal optimization succeeded at EGO iter = 9.0\n",
      "iteration 10 took 5.63 seconds\n",
      "Internal optimization succeeded at EGO iter = 10.0\n",
      "iteration 11 took 5.35 seconds\n",
      "Internal optimization succeeded at EGO iter = 11.0\n",
      "iteration 12 took 5.27 seconds\n",
      "Internal optimization succeeded at EGO iter = 12.0\n",
      "iteration 13 took 7.47 seconds\n",
      "Internal optimization succeeded at EGO iter = 13.0\n",
      "iteration 14 took 5.58 seconds\n",
      "Internal optimization succeeded at EGO iter = 14.0\n",
      "iteration 15 took 5.43 seconds\n",
      "Internal optimization succeeded at EGO iter = 15.0\n",
      "iteration 16 took 5.83 seconds\n",
      "Internal optimization succeeded at EGO iter = 16.0\n",
      "iteration 17 took 5.70 seconds\n",
      "Internal optimization succeeded at EGO iter = 17.0\n",
      "iteration 18 took 5.77 seconds\n",
      "Internal optimization succeeded at EGO iter = 18.0\n",
      "iteration 19 took 7.98 seconds\n",
      "Internal optimization succeeded at EGO iter = 19.0\n",
      "iteration 20 took 6.47 seconds\n"
     ]
    }
   ],
   "source": [
    "# Build the initial DOE\n",
    "rseed = 42  # seed for the sampling\n",
    "n_doe = 12  # size of the initial DOE\n",
    "sampling = MixedIntegerSamplingMethod(\n",
    "    LHS, design_space, criterion=\"ese\", random_state=rseed\n",
    ")\n",
    "Xt = sampling(n_doe)\n",
    "\n",
    "# Bayesian optimization\n",
    "n_iter = 20  # less to reduce time\n",
    "criterion = \"EI\"\n",
    "ego = EGO(\n",
    "    n_iter=n_iter,\n",
    "    criterion=criterion,\n",
    "    xdoe=Xt,\n",
    "    surrogate=KRG(\n",
    "        design_space=design_space,\n",
    "        categorical_kernel=MixIntKernelType.HOMO_HSPHERE,\n",
    "        # other options: .CONT_RELAX .GOWER, .EXP_HOMO_HSPHERE, .HOMO_HSPHERE\n",
    "        hierarchical_kernel=MixHrcKernelType.ARC_KERNEL,\n",
    "        # other options: .ALG_KERNEL, .ARC_KERNEL\n",
    "        theta0=[1e-2],\n",
    "        n_start=10,  # to do multistart for MLE\n",
    "        corr=\"squar_exp\",\n",
    "        print_global=False,\n",
    "    ),\n",
    "    verbose=True,\n",
    "    enable_tunneling=False,\n",
    "    random_state=rseed,\n",
    "    n_start=25,  # to do multistart for maximizing the acquisition function\n",
    ")\n",
    "\n",
    "x_opt, y_opt, dnk, x_data, y_data = ego.optimize(fun=problem)"
   ]
  },
  {
   "cell_type": "code",
   "execution_count": 16,
   "id": "f2078a02",
   "metadata": {},
   "outputs": [
    {
     "name": "stdout",
     "output_type": "stream",
     "text": [
      "Optimal points [1.00000000e+00 0.00000000e+00 1.00000000e+02 1.07068010e-13\n",
      " 9.85707834e+01 5.00000000e+01 2.68730203e+01 0.00000000e+00\n",
      " 0.00000000e+00 2.00000000e+00 0.00000000e+00] [25.66953189]\n",
      "Optimal design variables in the initial space [1, 0, 99.99999999999997, 1.0706801013398721e-13, 98.57078337479544, 50.0, 26.8730202657731, 0.0, 0.0, 2.0, 0.0]\n"
     ]
    }
   ],
   "source": [
    "print(\"Optimal points\", x_opt, y_opt)\n",
    "print(\n",
    "    \"Optimal design variables in the initial space\", design_space.decode_values(x_opt)\n",
    ")"
   ]
  },
  {
   "cell_type": "code",
   "execution_count": 17,
   "id": "d43ac3eb",
   "metadata": {},
   "outputs": [
    {
     "data": {
      "image/png": "[encoded data removed]",
      "text/plain": [
       "<Figure size 640x480 with 1 Axes>"
      ]
     },
     "metadata": {},
     "output_type": "display_data"
    }
   ],
   "source": [
    "%matplotlib inline\n",
    "import matplotlib.pyplot as plt\n",
    "\n",
    "# to plot the objective function during the optimization process\n",
    "mini = np.zeros(n_iter)\n",
    "for k in range(n_iter):\n",
    "    mini[k] = np.min(y_data[0 : k + n_doe - 1])\n",
    "x_plot = np.linspace(1, n_iter + 0.5, n_iter)\n",
    "plt.plot(x_plot, mini, color=\"k\", label=\"EGO (SMT Arc Kernel)\")\n",
    "plt.title(\"minimum convergence plot\", loc=\"center\")\n",
    "plt.xlabel(\"Number of evaluations\")\n",
    "plt.ylabel(\"Objective value\")\n",
    "plt.show()"
   ]
  }
 ],
 "metadata": {
  "kernelspec": {
   "display_name": "base",
   "language": "python",
   "name": "python3"
  },
  "language_info": {
   "codemirror_mode": {
    "name": "ipython",
    "version": 3
   },
   "file_extension": ".py",
   "mimetype": "text/x-python",
   "name": "python",
   "nbconvert_exporter": "python",
   "pygments_lexer": "ipython3",
   "version": "3.11.5"
  }
 },
 "nbformat": 4,
 "nbformat_minor": 5
}
