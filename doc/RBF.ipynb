{
 "cells": [
  {
   "cell_type": "markdown",
   "metadata": {},
   "source": [
    "# Radial basis functions\n",
    "\n",
    "Text\n",
    "Text\n",
    "Text\n",
    "References\n",
    "Equations\n",
    "\n",
    "## Options\n",
    "\n",
    "Automatically generated list of options, their types, default values, and descriptions from the code\n",
    "\n",
    "## Example code\n",
    "\n",
    "We should write the example run code and put it in the tests/methods/ directory. Either the code in tests/methods/test_rbf.py (for instance,) is automatically copied into this ipynb, or if this is not possible, we can copy and paste manually\n",
    "The code will show: instantiation, options, adding training points, training, predicting, predicting derivatives, ...\n"
   ]
  }
 ],
 "metadata": {
  "kernelspec": {
   "display_name": "Python 3",
   "language": "python",
   "name": "python3"
  },
  "language_info": {
   "codemirror_mode": {
    "name": "ipython",
    "version": 3
   },
   "file_extension": ".py",
   "mimetype": "text/x-python",
   "name": "python",
   "nbconvert_exporter": "python",
   "pygments_lexer": "ipython3",
   "version": "3.6.0"
  }
 },
 "nbformat": 4,
 "nbformat_minor": 2
}
