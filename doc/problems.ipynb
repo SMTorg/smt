{
 "metadata": {
  "kernelspec": {
   "display_name": "Python 3",
   "language": "python",
   "name": "python3"
  },
  "language_info": {
   "codemirror_mode": {
    "name": "ipython",
    "version": 3
   },
   "file_extension": ".py",
   "mimetype": "text/x-python",
   "name": "python",
   "nbconvert_exporter": "python",
   "pygments_lexer": "ipython3",
   "version": "3.6.0"
  },
  "name": "",
  "signature": "sha256:a9e24af06e83f7a876b45d6dd332f92662c4434cd44eda9dd842468ddc2fe389"
 },
 "nbformat": 3,
 "nbformat_minor": 0,
 "worksheets": [
  {
   "cells": [
    {
     "cell_type": "markdown",
     "metadata": {},
     "source": [
      "# List of problems\n",
      "TODO: - complete the expressions of Ndim functions\n",
      "      - Check the implementation of cantilever Beam function\n",
      "\n",
      "\n",
      "### Analytical functions\n",
      "All figures given here are a 2-D plot.\n",
      "\n",
      "\n",
      "- <font color='blue'>Sphere function (dimension = $d$)</font>\n",
      "\n",
      "<img src=files/sphere.png width=400 height=70 />\n",
      "\n",
      "\\begin{equation}\n",
      "\\sum\\limits_{i=1}^dx_i^2,\\quad-10\\leq x_i\\leq 10,\\quad\\text{ for }i=1,\\ldots,d.\n",
      "\\end{equation}\n",
      "\n",
      "\n",
      "- <font color='blue'>Rosenbrock function (dimension = $d$)</font>\n",
      "\n",
      "<img src=files/rosenbrock.png width=400 height=70 />\n",
      "\n",
      "\\begin{equation}\n",
      "\\sum\\limits_{i=1}^{d-1}\\left[(x_{i+1}-x_i^2)^2+(x_i-1)^2\\right],\\quad-2\\leq x_i\\leq 2,\\quad\\text{ for }i=1,\\ldots,d.\n",
      "\\end{equation}\n",
      "\n",
      "\n",
      "- <font color='blue'>Ndim Rosenbrock function</font>\n",
      "\n",
      "\n",
      "- <font color='blue'>Tensor Product function (dimension = $d$)</font>\n",
      "\n",
      "All figures for the tensor product function are given with $a=1$.\n",
      "\n",
      "<img src=files/cos_tensor_prod.png width=400 height=70 />\n",
      "\n",
      "\\begin{equation}\n",
      "\\prod\\limits_{i=1}^{d}\\cos(a\\pi x_i),\\quad-1\\leq x_i\\leq 1,\\quad\\text{ for }i=1,\\ldots,d.\n",
      "\\end{equation}\n",
      "\n",
      "<img src=files/exp_tensor_prod.png width=400 height=70 />\n",
      "\n",
      "\\begin{equation}\n",
      "\\prod\\limits_{i=1}^{d}\\exp(x_i),\\quad-1\\leq x_i\\leq 1,\\quad\\text{ for }i=1,\\ldots,d.\n",
      "\\end{equation}\n",
      "\n",
      "<img src=files/tanh_tensor_prod.png width=400 height=70 />\n",
      "\n",
      "\\begin{equation}\n",
      "\\prod\\limits_{i=1}^{d}\\tanh(x_i),\\quad-1\\leq x_i\\leq 1,\\quad\\text{ for }i=1,\\ldots,d.\n",
      "\\end{equation}\n",
      "\n",
      "<img src=files/Gaussian_tensor_prod.png width=400 height=70 />\n",
      "\n",
      "\\begin{equation}\n",
      "\\prod\\limits_{i=1}^{d}\\exp(-2 x_i^2),\\quad-1\\leq x_i\\leq 1,\\quad\\text{ for }i=1,\\ldots,d.\n",
      "\\end{equation}\n",
      "\n",
      "- <font color='blue'>Ndim Step function</font>\n",
      "\n",
      "\n",
      "### Engineering functions\n",
      "\n",
      "\n",
      "- <font color='blue'>Cantilever Beam function</font>\n",
      "\n",
      "\n",
      "- <font color='blue'>Ndim Cantilever Beam function</font>\n",
      "\n",
      "\n",
      "- <font color='blue'>Robot Arm function (dimension = 8)</font>\n",
      "\n",
      "\\begin{equation*}\n",
      "\\sqrt{\\left(\\sum\\limits_{i=1}^4L_i\\cos\\left(\\sum\\limits_{j=1}^i\\theta_j\\right)\\right)^2+\\left(\\sum\\limits_{i=1}^4L_i\\sin\\left(\\sum\\limits_{j=1}^i\\theta_j\\right)\n",
      "\\right)^2},\\quad L_i \\in [0,1] \\quad \\text{for}\\quad i=1,\\dotsc,4 \\quad \\text{and}\\quad \\theta_j \\in [0,2\\pi]\\quad\\text{for}\\quad j=1,\\dotsc,4.\n",
      "\\end{equation*}\n",
      "\n",
      "\n",
      "- <font color='blue'>Ndim Robot Arm function</font>\n",
      "\n",
      "\n",
      "- <font color='blue'>Torsion Vibration function (dimension = 15)</font>\n",
      "\n",
      "\\begin{equation*}\n",
      "\\frac{1}{2\\pi}\\sqrt{\\frac{-b-\\sqrt{b^2-4ac}}{2a}},\n",
      "\\end{equation*}\n",
      "where $K_i=\\frac{\\pi G_id_i}{32L_i},\\quad M_j=\\frac{\\rho_j \\pi t_jD_j}{4g},\\quad J_j=0.5M_j\\frac{D_j}{2},\\quad a = 1,\\quad b=-\\left(\\frac{K_1+K2}{J_1}+\\frac{K_2+K3}{J_2}\\right),\\quad c=\\frac{K_1K_2+K_2K_3+K_3K_1}{J_1J_2},\\quad \\text{for}\\quad d_1\\in [1.8,2.2],\\quad L_1\\in[9,11],\\quad G_1\\in [105300000,128700000],\\quad d_2\\in [1.638,2.002],\\quad L_2\\in[10.8,13.2],\\quad G_2\\in[5580000,6820000],\\quad d_3\\in[2.025,2.475],\\quad L_3\\in[7.2,8.8],\\quad G_3\\in[3510000,4290000],\\quad D_1\\in[10.8,13.2],\\quad t_1\\in[2.7,3.3],\\quad \\rho_1\\in[0.252,0.308],\\quad D_2\\in[12.6,15.4],\\quad t_2\\in[3.6,4.4],\\quad\\rho_1\\in[0.09,0.11]$\n",
      "\n",
      "\n",
      "- <font color='blue'>Water Flow function (dimension = 8)</font>\n",
      "\n",
      "\\begin{equation*}\n",
      "\\frac{2\\pi T_u\\left(H_u-H_l\\right)}{\\ln\\left(\\frac{r}{r_w}\\right)\\left[1+\\frac{2LT_u}{\\ln\\left(\\frac{r}{r_w}\\right)r_w^2K_w}+\\frac{T_u}{T_l}\\right]},\\quad 0.05\\leq r_w\\leq 0.15,\\quad 100\\leq r\\leq 50000,\\quad 63070\\leq T_u\\leq 115600,\\quad 990 \\leq H_u \\leq 1110, \\quad 63.1 \\leq T_l \\leq 116, \\quad 700 \\leq H_l \\leq 820, \\quad 1120 \\leq L \\leq 1680,\\quad \\text{and}\\quad  9855 \\leq K_w \\leq 12045.\n",
      "\\end{equation*}\n",
      "\n",
      "\n",
      "- <font color='blue'>Welded Beam function (dimension = 3)</font>\n",
      "\n",
      "\\begin{equation*}\n",
      "\\sqrt{\\frac{\\tau'^2+\\tau''^2+l\\tau'\\tau''}{\\sqrt{0.25\\left(l^2+(h+t)^2\\right)}}},\n",
      "\\end{equation*}\n",
      "where\n",
      "$\\tau'=\\frac{6000}{\\sqrt{2}hl}, \\quad\\tau''=\\frac{6000(14+0.5l)\\sqrt{0.25\\left(l^2+(h+t)^2\\right)}}{2\\left[0.707hl\\left(\\frac{l^2}{12}+0.25(h+t)^2\\right)\\right]},\\quad \\text{for}\\quad h\\in[0.125,1],\\quad l,t\\in[5,10]$\n",
      "\n",
      "\n",
      "- <font color='blue'>Wing Weight function (dimension = 10)</font>\n",
      "\n",
      "\\begin{equation*}\n",
      "0.036S_w^{0.758}W_{fw}^{0.0035}\\left(\\frac{A}{\\cos^2\\Lambda}\\right)q^{0.006}\\lambda^{0.04}\\left(\\frac{100tc}{\\cos\\Lambda}\\right)^{-0.3}\\left(N_zW_{dg}\\right)^{0.49}+S_wW_p,\\quad 150\\leq S_w\\leq 200,\\quad 220\\leq W_{fw}\\leq 300,\\quad 6 \\leq A \\leq 10,\\quad -10 \\leq \\Lambda \\leq 10,\\quad 16\\leq q\\leq 45,\\quad 0.5\\leq \\lambda\\leq 1,\\quad 0.08 \\leq t_c\\leq 0.18,\\quad 2.5\\leq N_z\\leq 6,\\quad 1700\\leq W_{dg}\\leq 25000,\\quad \\text{and} \\quad 0.025\\leq W_p\\leq 0.08.\n",
      "\\end{equation*}"
     ]
    },
    {
     "cell_type": "markdown",
     "metadata": {},
     "source": [
      "# Example of execution\n",
      "\n",
      "In the following, we use methods from sampling directory to generate sampling points to be evaluated by a function from problems directory. More details about sampling methods are given [here](./sampling.html).\n",
      "\n",
      "- The Sphere example"
     ]
    },
    {
     "cell_type": "code",
     "collapsed": false,
     "input": [
      "from smt.problems import Sphere\n",
      "from smt.sampling import LHS\n",
      "\n",
      "#Definition of the number of dimensions and the number of sampling points\n",
      "ndim = 10\n",
      "ndoe = 5\n",
      "\n",
      "#Define the Sphere function\n",
      "fun = Sphere(ndim = ndim)\n",
      "\n",
      "#Construction of the sampling points\n",
      "sampling = LHS(xlimits=fun.xlimits,criterion = 'm')#'m' for maximin criterion\n",
      "xt = sampling(ndoe)\n",
      "\n",
      "#Compute the output\n",
      "yt = fun(xt)\n",
      "\n",
      "#Compute the gradient\n",
      "for i in range(ndim):\n",
      "    yd = fun(xt,kx=i)\n",
      "\n",
      "#The final result yt and yd contain the output and the derivative, respectively.\n",
      "print('Values:')\n",
      "print(yt)\n",
      "print('Derivatives:')\n",
      "print(yd)"
     ],
     "language": "python",
     "metadata": {},
     "outputs": [
      {
       "ename": "ImportError",
       "evalue": "No module named problems",
       "output_type": "pyerr",
       "traceback": [
        "\u001b[1;31m---------------------------------------------------------------------------\u001b[0m\n\u001b[1;31mImportError\u001b[0m                               Traceback (most recent call last)",
        "\u001b[1;32m<ipython-input-2-b294d7535ab6>\u001b[0m in \u001b[0;36m<module>\u001b[1;34m()\u001b[0m\n\u001b[1;32m----> 1\u001b[1;33m \u001b[1;32mfrom\u001b[0m \u001b[0msmt\u001b[0m\u001b[1;33m.\u001b[0m\u001b[0mproblems\u001b[0m \u001b[1;32mimport\u001b[0m \u001b[0mSphere\u001b[0m\u001b[1;33m\u001b[0m\u001b[0m\n\u001b[0m\u001b[0;32m      2\u001b[0m \u001b[1;32mfrom\u001b[0m \u001b[0msmt\u001b[0m\u001b[1;33m.\u001b[0m\u001b[0msampling\u001b[0m \u001b[1;32mimport\u001b[0m \u001b[0mLHS\u001b[0m\u001b[1;33m\u001b[0m\u001b[0m\n\u001b[0;32m      3\u001b[0m \u001b[1;33m\u001b[0m\u001b[0m\n\u001b[0;32m      4\u001b[0m \u001b[1;31m#Definition of the number of dimensions and the number of sampling points\u001b[0m\u001b[1;33m\u001b[0m\u001b[1;33m\u001b[0m\u001b[0m\n\u001b[0;32m      5\u001b[0m \u001b[0mndim\u001b[0m \u001b[1;33m=\u001b[0m \u001b[1;36m10\u001b[0m\u001b[1;33m\u001b[0m\u001b[0m\n",
        "\u001b[1;31mImportError\u001b[0m: No module named problems"
       ]
      }
     ],
     "prompt_number": 2
    },
    {
     "cell_type": "markdown",
     "metadata": {},
     "source": [
      "- The Welded Beam function"
     ]
    },
    {
     "cell_type": "code",
     "collapsed": false,
     "input": [
      "from smt.problems import RobotArm\n",
      "from smt.sampling import LHS\n",
      "\n",
      "ndoe = 30\n",
      "fun = RobotArm()\n",
      "\n",
      "sampling = LHS(xlimits=fun.xlimits,criterion = 'm')\n",
      "\n",
      "xt = sampling(ndoe)\n",
      "yt = fun(xt)\n",
      "\n",
      "for i in range(ndim):\n",
      "    yd = fun(xt,kx=i)\n",
      "    \n",
      "print('Values:')\n",
      "print(yt)\n",
      "print('Derivatives:')\n",
      "print(yd)"
     ],
     "language": "python",
     "metadata": {},
     "outputs": [
      {
       "ename": "ImportError",
       "evalue": "No module named problems",
       "output_type": "pyerr",
       "traceback": [
        "\u001b[1;31m---------------------------------------------------------------------------\u001b[0m\n\u001b[1;31mImportError\u001b[0m                               Traceback (most recent call last)",
        "\u001b[1;32m<ipython-input-3-3d64e5925319>\u001b[0m in \u001b[0;36m<module>\u001b[1;34m()\u001b[0m\n\u001b[1;32m----> 1\u001b[1;33m \u001b[1;32mfrom\u001b[0m \u001b[0msmt\u001b[0m\u001b[1;33m.\u001b[0m\u001b[0mproblems\u001b[0m \u001b[1;32mimport\u001b[0m \u001b[0mRobotArm\u001b[0m\u001b[1;33m\u001b[0m\u001b[0m\n\u001b[0m\u001b[0;32m      2\u001b[0m \u001b[1;32mfrom\u001b[0m \u001b[0msmt\u001b[0m\u001b[1;33m.\u001b[0m\u001b[0msampling\u001b[0m \u001b[1;32mimport\u001b[0m \u001b[0mLHS\u001b[0m\u001b[1;33m\u001b[0m\u001b[0m\n\u001b[0;32m      3\u001b[0m \u001b[1;33m\u001b[0m\u001b[0m\n\u001b[0;32m      4\u001b[0m \u001b[0mndoe\u001b[0m \u001b[1;33m=\u001b[0m \u001b[1;36m30\u001b[0m\u001b[1;33m\u001b[0m\u001b[0m\n\u001b[0;32m      5\u001b[0m \u001b[0mfun\u001b[0m \u001b[1;33m=\u001b[0m \u001b[0mRobotArm\u001b[0m\u001b[1;33m(\u001b[0m\u001b[1;33m)\u001b[0m\u001b[1;33m\u001b[0m\u001b[0m\n",
        "\u001b[1;31mImportError\u001b[0m: No module named problems"
       ]
      }
     ],
     "prompt_number": 3
    },
    {
     "cell_type": "markdown",
     "metadata": {},
     "source": [
      "#### Last update June 26, 2017"
     ]
    }
   ],
   "metadata": {}
  }
 ]
}