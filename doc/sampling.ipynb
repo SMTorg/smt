{
 "metadata": {
  "name": "",
  "signature": "sha256:5eec77814db89dcd8aa6ac7e1caf6a7edef29bf6aa2affa68b03701a01756509"
 },
 "nbformat": 3,
 "nbformat_minor": 0,
 "worksheets": [
  {
   "cells": [
    {
     "cell_type": "markdown",
     "metadata": {},
     "source": [
      "# List of sampling methods\n",
      "\n",
      "### Latin hypercube sampling (LHS)\n",
      "\n",
      "The LHS design is a statistical method for generating a quasi-random sampling distribution.\n",
      "It is among the most popular sampling techniques in computer experiments thanks to its simplicity and projection properties with high-dimensional problems.\n",
      "LHS is built as follow: we cut each dimension space, wich represents a variable, into $n$ sections with $n$ is the number of sampling points, and we put only one point in each section.\n",
      "\n",
      "<img src=files/LHS.png width=400 height=70 />\n",
      "\n",
      "The figure above gives us an example of an LHS design with 2 variables $x1$ and $x2$ where each column from $x1$-axis and each row from $x2$-axis contain only one point.\n",
      "\n",
      "The LHS method uses the pyDOE package (Design of Experiments for Python) which is available on https://pythonhosted.org/pyDOE/index.html.\n",
      "5 criteria for the construction of LHS are implemented in SMT:\n",
      "- Center the points within the sampling intervals.\n",
      "- Maximize the minimum distance between points and place the point in a randomized location within its interval.\n",
      "- Maximize the minimum distance between points and center the point within its interval.\n",
      "- Minimize the maximum correlation coefficient.\n",
      "- Optimize the design using the Enhanced Stochastic Evolutionary algorithm (ESE).\n",
      "\n",
      "The four first criteria are the same than in pyDOE (for more details, see https://pythonhosted.org/pyDOE/index.html).\n",
      "The last criterion, ESE, is implemented by the authors of SMT (more details about such method could be found in [1]).\n",
      "\n",
      "[1] R. Jin, W. Chen and A. Sudjianto (2005), \"An efficient algorithm for constructing optimal design of computer experiments.\" Journal of Statistical Planning and Inference, 134:268-287."
     ]
    },
    {
     "cell_type": "markdown",
     "metadata": {},
     "source": [
      "#### Last update June 26, 2017"
     ]
    }
   ],
   "metadata": {}
  }
 ]
}