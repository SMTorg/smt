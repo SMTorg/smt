{
 "metadata": {
  "anaconda-cloud": {},
  "kernelspec": {
   "display_name": "Python 3",
   "language": "python",
   "name": "python3"
  },
  "language_info": {
   "codemirror_mode": {
    "name": "ipython",
    "version": 3
   },
   "file_extension": ".py",
   "mimetype": "text/x-python",
   "name": "python",
   "nbconvert_exporter": "python",
   "pygments_lexer": "ipython3",
   "version": "3.6.0"
  },
  "name": "",
  "signature": "sha256:83bb3c96c1ae013afe1cee93b4d3d62a6c707b97e03778f6edcf5f906637f2ed"
 },
 "nbformat": 3,
 "nbformat_minor": 0,
 "worksheets": [
  {
   "cells": [
    {
     "cell_type": "heading",
     "level": 1,
     "metadata": {
      "slideshow": {
       "slide_type": "slide"
      }
     },
     "source": [
      "SMT: A Python Surrogate Model Toolbox"
     ]
    },
    {
     "cell_type": "markdown",
     "metadata": {},
     "source": [
      "<img src=\"files/grie5.png\" style=\"margin: 0px 0px 5px 20px; width: 10cm; float: right;\" title=\"Example surrogate model\"/>\n",
      "The surrogate model toolbox (SMT) is a Python package that includes several surrogate models---least squares (LS), square polynomial (PA2), inverse distance weighting (IDW), kriging, PLS-based models (KPLS, KPLS and GEKPLS), radial basis functions (RBF) and regularized minimal-energy tensor-product splines (RMTS).\n",
      "\n",
      "In addition to the different sampling methods available in SMT, many well-known analytical and engineering test functions are implemented as well. Other alternative methods could be easily implemented and added into SMT. \n",
      "Therefore, this package is devoted to gathering several types of surrogate models within the same platform, for providing a benchmark to the engineering field. Another purpose of the SMT is for research purposes and contributing to the literature on the surrogate modeling.\n",
      "\n",
      "# Version 0.1\n",
      "\n",
      "# Availability\n",
      "The toolbox is available for free. It could be used for commercial, research purposes, or both.\n",
      "\n",
      "[To download the package](https://github.com/SMTorg/SMT)\n",
      "\n",
      "# Organisation of SMT\n",
      "SMT is mainly composed of four subdirectories:\n",
      "\n",
      "###<font color='blue'> 1) utils</font>\n",
      "This directory contains some auxiliaries functions used by the surrogate models implemented in SMT.\n",
      "\n",
      "###<font color='blue'> 2) problems</font>\n",
      "This directory ([problems](./problems.html)) contains all analytical and engineering functions available in SMT.\n",
      "\n",
      "###<font color='blue'> 3) sampling</font>\n",
      "This directory ([sampling](./sampling.html)) contains all sampling methods available in SMT.\n",
      "\n",
      "###<font color='blue'> 4) methods</font>\n",
      "This directory contains all surrogate models available in SMT (give URL here).\n",
      "\n",
      "[Quick tutorial](./tutorial_2.html)\n",
      "\n",
      "[KPLS](http://link.springer.com/article/10.1007/s00158-015-1395-9)\n",
      "\n",
      "[KPLSK](https://www.hindawi.com/journals/mpe/2016/6723410/)\n",
      "\n",
      "## People involved\n",
      "\n",
      "SMT is maintained by \n",
      "\n",
      "Mohamed Amine Bouhlel &nbsp;&nbsp;&nbsp; mbouhlel@umich.edu\n",
      "\n",
      "John Hwang &nbsp;&nbsp;&nbsp;&nbsp;&nbsp;&nbsp;&nbsp;&nbsp;&nbsp;&nbsp;&nbsp;&nbsp;&nbsp;&nbsp;&nbsp;&nbsp;&nbsp;&nbsp;&nbsp;&nbsp;&nbsp;&nbsp;&nbsp; hwangjt@umich.edu\n",
      "\n",
      "Nathalie Bartoli &nbsp;&nbsp;&nbsp;&nbsp;&nbsp;&nbsp;&nbsp;&nbsp;&nbsp;&nbsp;&nbsp;&nbsp;&nbsp;&nbsp;&nbsp;&nbsp;&nbsp;&nbsp;&nbsp; nathalie.bartoli@onera.fr\n",
      "\n",
      "#### Last update June 26, 2017"
     ]
    }
   ],
   "metadata": {}
  }
 ]
}